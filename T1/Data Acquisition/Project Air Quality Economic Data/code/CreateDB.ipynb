{
 "cells": [
  {
   "cell_type": "code",
   "execution_count": 2,
   "metadata": {},
   "outputs": [],
   "source": [
    "import sqlite3\n",
    "import os\n",
    "import pandas as pd"
   ]
  },
  {
   "cell_type": "code",
   "execution_count": 3,
   "metadata": {},
   "outputs": [],
   "source": [
    "# Create connection \n",
    "db_connection = sqlite3.connect('air_quality_economic_data.db')\n",
    "cursor = db_connection.cursor()"
   ]
  },
  {
   "cell_type": "code",
   "execution_count": 4,
   "metadata": {},
   "outputs": [],
   "source": [
    "# Create Countries table\n",
    "cursor.execute('''\n",
    "    CREATE TABLE Countries (\n",
    "        country_code TEXT PRIMARY KEY,\n",
    "        country_name TEXT\n",
    "    )\n",
    "''')\n",
    "\n",
    "# Create AirQuality table\n",
    "cursor.execute('''\n",
    "    CREATE TABLE AirQuality (\n",
    "        id INTEGER PRIMARY KEY AUTOINCREMENT,\n",
    "        country_code TEXT,\n",
    "        city TEXT,\n",
    "        datetime TEXT,\n",
    "        parameter TEXT,\n",
    "        units TEXT,\n",
    "        value REAL\n",
    "    )\n",
    "''')\n",
    "\n",
    "# Create EconomicIndicators table\n",
    "cursor.execute('''\n",
    "    CREATE TABLE EconomicIndicators (\n",
    "        country_code TEXT,\n",
    "        indicator_name TEXT,\n",
    "        year INTEGER,\n",
    "        value REAL,\n",
    "        PRIMARY KEY (country_code, indicator_name, year),\n",
    "        FOREIGN KEY (country_code) REFERENCES Countries (country_code)\n",
    "    )\n",
    "''')\n",
    "\n",
    "# Create CountryAttributes table\n",
    "db_connection.execute('''\n",
    "    CREATE TABLE CountryAttributes (\n",
    "        country_code TEXT PRIMARY KEY,\n",
    "        attribute_name TEXT,\n",
    "        value TEXT,\n",
    "        FOREIGN KEY (country_code) REFERENCES Countries (country_code)\n",
    "    )\n",
    "''')\n",
    "\n",
    "db_connection.commit()\n"
   ]
  },
  {
   "cell_type": "code",
   "execution_count": 14,
   "metadata": {},
   "outputs": [],
   "source": [
    "# to map country code and country name, and alpha-3 code to alpha-2 code \n",
    "country_code_mapping = pd.read_csv('data/country_code.csv') \n",
    "alpha3_to_alpha2 = dict(zip(country_code_mapping['alpha-3'], country_code_mapping['alpha-2']))\n",
    "country_code_to_name = dict(zip(country_code_mapping['alpha-2'], country_code_mapping['name']))"
   ]
  },
  {
   "cell_type": "code",
   "execution_count": 6,
   "metadata": {},
   "outputs": [],
   "source": [
    "base_folder_path = 'data/openaq'\n",
    "\n",
    "for country_folder in os.listdir(base_folder_path):\n",
    "    country_path = os.path.join(base_folder_path, country_folder)\n",
    "    if os.path.isdir(country_path):\n",
    "        # use mapping to get country name\n",
    "        country_code = country_folder \n",
    "        country_name = country_code_to_name.get(country_code, \"Unknown\")\n",
    "\n",
    "        # check and insert country Countries\n",
    "        cursor.execute(\"SELECT country_code FROM Countries WHERE country_code = ?\", (country_code,))\n",
    "        result = cursor.fetchone()\n",
    "        if not result:\n",
    "            cursor.execute(\"INSERT INTO Countries (country_code, country_name) VALUES (?, ?)\", (country_code, country_name))\n",
    "        \n",
    "        for city_folder in os.listdir(country_path):\n",
    "            city_path = os.path.join(country_path, city_folder)\n",
    "            if os.path.isdir(city_path):\n",
    "                for file in os.listdir(city_path):\n",
    "                    if file.endswith('.csv'):\n",
    "                        file_path = os.path.join(city_path, file)\n",
    "                        data = pd.read_csv(file_path)\n",
    "\n",
    "                        # delete useless columns\n",
    "                        data.drop(columns=['location_id', 'sensors_id', 'location', 'lat', 'lon'], inplace=True, errors='ignore')\n",
    "\n",
    "                        # Add country_code and city\n",
    "                        data['country_code'] = country_code\n",
    "                        data['city'] = city_folder\n",
    "\n",
    "                        data.to_sql('AirQuality', db_connection, if_exists='append', index=False)\n"
   ]
  },
  {
   "cell_type": "code",
   "execution_count": 7,
   "metadata": {},
   "outputs": [],
   "source": [
    "worldbank_folder = 'data/worldbank'  \n",
    "\n",
    "\n",
    "for file in os.listdir(worldbank_folder):\n",
    "    if file.endswith('.csv'):\n",
    "        file_path = os.path.join(worldbank_folder, file)\n",
    "        data = pd.read_csv(file_path)\n",
    "\n",
    "        # map alpha3 to alpha2\n",
    "        data['Country Code'] = data['Country Code'].map(alpha3_to_alpha2)\n",
    "\n",
    "        # Handle different world bank data\n",
    "        if '2021' in data.columns and '2022' in data.columns:\n",
    "            data_long_format = data.melt(id_vars=[\"Country Code\", \"Country Name\", \"Indicator Name\"],\n",
    "                                         var_name=\"year\",\n",
    "                                         value_name=\"value\")\n",
    "            data_long_format.rename(columns={'Country Code': 'country_code', 'Indicator Name': 'indicator_name'}, inplace=True)\n",
    "            data_long_format.drop(columns=['Country Name'], inplace=True)\n",
    "            data_long_format.to_sql('EconomicIndicators', db_connection, if_exists='append', index=False)\n",
    "        else:\n",
    "            # Data do not contain time related data\n",
    "            data.rename(columns={'Country Code': 'country_code', 'IncomeGroup': 'value'}, inplace=True)\n",
    "            data['attribute_name'] = file.replace('.csv', '') \n",
    "            # Insert into CountryAttributes\n",
    "            data[['country_code', 'attribute_name', 'value']].to_sql('CountryAttributes', db_connection, if_exists='append', index=False)\n"
   ]
  },
  {
   "cell_type": "code",
   "execution_count": 8,
   "metadata": {},
   "outputs": [
    {
     "name": "stdout",
     "output_type": "stream",
     "text": [
      "Number of records in Countries: 57\n",
      "Number of records in AirQuality: 41320964\n",
      "Number of records in EconomicIndicators: 2660\n",
      "Number of records in CountryAttributes: 265\n"
     ]
    }
   ],
   "source": [
    "# number of records\n",
    "tables = ['Countries', 'AirQuality', 'EconomicIndicators', 'CountryAttributes']\n",
    "for table in tables:\n",
    "    count_query = f\"SELECT COUNT(*) FROM {table}\"\n",
    "    count = pd.read_sql_query(count_query, db_connection)\n",
    "    print(f\"Number of records in {table}: {count.iloc[0, 0]}\")\n"
   ]
  },
  {
   "cell_type": "code",
   "execution_count": 9,
   "metadata": {},
   "outputs": [
    {
     "name": "stdout",
     "output_type": "stream",
     "text": [
      "Query: PRAGMA table_info(Countries);\n",
      "Result: [(0, 'country_code', 'TEXT', 0, None, 1), (1, 'country_name', 'TEXT', 0, None, 0)]\n",
      "\n",
      "Query: PRAGMA table_info(AirQuality);\n",
      "Result: [(0, 'id', 'INTEGER', 0, None, 1), (1, 'country_code', 'TEXT', 0, None, 0), (2, 'city', 'TEXT', 0, None, 0), (3, 'datetime', 'TEXT', 0, None, 0), (4, 'parameter', 'TEXT', 0, None, 0), (5, 'units', 'TEXT', 0, None, 0), (6, 'value', 'REAL', 0, None, 0)]\n",
      "\n",
      "Query: PRAGMA table_info(EconomicIndicators);\n",
      "Result: [(0, 'country_code', 'TEXT', 0, None, 1), (1, 'indicator_name', 'TEXT', 0, None, 2), (2, 'year', 'INTEGER', 0, None, 3), (3, 'value', 'REAL', 0, None, 0)]\n",
      "\n",
      "Query: PRAGMA table_info(CountryAttributes);\n",
      "Result: [(0, 'country_code', 'TEXT', 0, None, 1), (1, 'attribute_name', 'TEXT', 0, None, 0), (2, 'value', 'TEXT', 0, None, 0)]\n",
      "\n",
      "Query: SELECT * FROM Countries LIMIT 5;\n",
      "Result: [('SK', 'Slovakia'), ('SE', 'Sweden'), ('UZ', 'Uzbekistan'), ('PL', 'Poland'), ('PE', 'Peru')]\n",
      "\n",
      "Query: SELECT * FROM AirQuality LIMIT 5;\n",
      "Result: [(1, 'SK', 'bratislavský kraj', '2021-03-01T01:00:00+01:00', 'pm10', 'µg/m³', 11.435), (2, 'SK', 'bratislavský kraj', '2021-03-01T02:00:00+01:00', 'pm10', 'µg/m³', 15.764), (3, 'SK', 'bratislavský kraj', '2021-03-01T03:00:00+01:00', 'pm10', 'µg/m³', 25.564), (4, 'SK', 'bratislavský kraj', '2021-03-01T04:00:00+01:00', 'pm10', 'µg/m³', 25.265), (5, 'SK', 'bratislavský kraj', '2021-03-01T05:00:00+01:00', 'pm10', 'µg/m³', 21.373)]\n",
      "\n",
      "Query: SELECT * FROM EconomicIndicators LIMIT 5;\n",
      "Result: [('AW', 'Industry (including construction), value added (current US$)', 2021, None), (None, 'Industry (including construction), value added (current US$)', 2021, 282318948727.398), ('AF', 'Industry (including construction), value added (current US$)', 2021, 2036351197.2634), (None, 'Industry (including construction), value added (current US$)', 2021, 248455017697.882), ('AO', 'Industry (including construction), value added (current US$)', 2021, 31606170351.1533)]\n",
      "\n",
      "Query: SELECT * FROM CountryAttributes LIMIT 5;\n",
      "Result: [('AW', 'Country_IncomeGroup', 'High income'), (None, 'Country_IncomeGroup', None), ('AF', 'Country_IncomeGroup', 'Low income'), (None, 'Country_IncomeGroup', None), ('AO', 'Country_IncomeGroup', 'Lower middle income')]\n",
      "\n"
     ]
    }
   ],
   "source": [
    "# TEST\n",
    "queries = [\n",
    "    \"PRAGMA table_info(Countries);\",\n",
    "    \"PRAGMA table_info(AirQuality);\",\n",
    "    \"PRAGMA table_info(EconomicIndicators);\",\n",
    "    \"PRAGMA table_info(CountryAttributes);\",\n",
    "    \"SELECT * FROM Countries LIMIT 5;\",\n",
    "    \"SELECT * FROM AirQuality LIMIT 5;\",\n",
    "    \"SELECT * FROM EconomicIndicators LIMIT 5;\",\n",
    "    \"SELECT * FROM CountryAttributes LIMIT 5;\"\n",
    "]\n",
    "\n",
    "for query in queries:\n",
    "    result = db_connection.execute(query).fetchall()\n",
    "    print(f\"Query: {query}\\nResult: {result}\\n\")"
   ]
  },
  {
   "cell_type": "code",
   "execution_count": 15,
   "metadata": {},
   "outputs": [
    {
     "name": "stdout",
     "output_type": "stream",
     "text": [
      "   total_cities\n",
      "0          1278\n"
     ]
    }
   ],
   "source": [
    "query = \"\"\"\n",
    "    SELECT COUNT(DISTINCT city) AS total_cities\n",
    "    FROM AirQuality;\n",
    "\"\"\"\n",
    "total_cities = pd.read_sql_query(query, db_connection)\n",
    "print(total_cities)"
   ]
  },
  {
   "cell_type": "code",
   "execution_count": 10,
   "metadata": {},
   "outputs": [
    {
     "name": "stdout",
     "output_type": "stream",
     "text": [
      "   average_pm25\n",
      "0      8.781307\n"
     ]
    }
   ],
   "source": [
    "country_code = 'US'\n",
    "query = \"\"\"\n",
    "    SELECT AVG(value) as average_pm25\n",
    "    FROM AirQuality\n",
    "    WHERE country_code = ?\n",
    "    AND parameter = 'pm25'\n",
    "    AND datetime BETWEEN '2021-01-01' AND '2021-12-31';\n",
    "\"\"\"\n",
    "average_pm25 = pd.read_sql_query(query, db_connection, params=(country_code,))\n",
    "print(average_pm25)"
   ]
  },
  {
   "cell_type": "code",
   "execution_count": 11,
   "metadata": {},
   "outputs": [
    {
     "name": "stdout",
     "output_type": "stream",
     "text": [
      "  country_code  average_pm10\n",
      "0           AE     81.330956\n"
     ]
    }
   ],
   "source": [
    "query = \"\"\"\n",
    "    SELECT country_code, AVG(value) as average_pm10\n",
    "    FROM AirQuality\n",
    "    WHERE parameter = 'pm10'\n",
    "    GROUP BY country_code\n",
    "    ORDER BY average_pm10 DESC\n",
    "    LIMIT 1;\n",
    "\"\"\"\n",
    "most_polluted_country = pd.read_sql_query(query, db_connection)\n",
    "print(most_polluted_country)\n"
   ]
  },
  {
   "cell_type": "code",
   "execution_count": 13,
   "metadata": {},
   "outputs": [
    {
     "name": "stdout",
     "output_type": "stream",
     "text": [
      "   country_code  average_pm25           gdp\n",
      "0            AE    -89.357486  4.151788e+11\n",
      "1            AT      9.329183  4.792954e+11\n",
      "2            AU    -29.390119  1.559034e+12\n",
      "3            BA     36.113353  2.364957e+10\n",
      "4            BD     32.595926  4.162648e+11\n",
      "5            BE      8.199656  6.007488e+11\n",
      "6            CA      7.356550  2.001487e+12\n",
      "7            CH      8.058817  8.134088e+11\n",
      "8            CL     30.204219  3.165812e+11\n",
      "9            CN     16.318743  1.782046e+13\n",
      "10           CY     15.044725  2.948292e+10\n",
      "11           CZ     13.169308  2.817912e+11\n",
      "12           DE      7.629561  4.278504e+12\n",
      "13           ES      9.811172  1.445652e+12\n",
      "14           FI      4.360266  2.967767e+11\n",
      "15           FR     10.216523  2.959356e+12\n",
      "16           GB      8.048025  3.141506e+12\n",
      "17           GR     19.795937  2.146678e+11\n",
      "18           HR      8.067323  6.908124e+10\n",
      "19           HU     14.844004  1.820900e+11\n",
      "20           ID   -364.404629  1.186505e+12\n",
      "21           IE     10.019564  5.133918e+11\n",
      "22           IS      4.167969  2.559594e+10\n",
      "23           IT     15.230041  2.155360e+12\n",
      "24           JO   -818.566347  4.629610e+10\n",
      "25           JP      8.133711  5.005537e+12\n",
      "26           LA     21.076614  1.882715e+10\n",
      "27           LU      9.663603  8.558411e+10\n",
      "28           ME     23.002581  5.861428e+09\n",
      "29           MK     21.009872  1.399836e+10\n",
      "30           MM   -110.330591  6.626281e+10\n",
      "31           MX     25.113521  1.312558e+12\n",
      "32           MY     10.664374  3.738324e+11\n",
      "33           NL   -304.877287  1.029678e+12\n",
      "34           NO      7.553878  4.902934e+11\n",
      "35           NP   -293.609871  3.692484e+10\n",
      "36           NZ      7.209314  2.555517e+11\n",
      "37           PE     28.938377  2.237178e+11\n",
      "38           PL     70.342886  6.813461e+11\n",
      "39           PR      6.844779  1.063689e+11\n",
      "40           PT      4.853040  2.555348e+11\n",
      "41           RO     15.625329  2.858102e+11\n",
      "42           RS     21.310733  6.310107e+10\n",
      "43           SE      5.262289  6.397150e+11\n",
      "44           SK     14.261379  1.185765e+11\n",
      "45           TH     21.980787  5.055681e+11\n",
      "46           TT      6.763711  2.449651e+10\n",
      "47           US      8.352100  2.331508e+13\n",
      "48           UZ    -76.892732  6.960061e+10\n",
      "49           ZA     17.378893  4.201178e+11\n"
     ]
    }
   ],
   "source": [
    "query = \"\"\"\n",
    "    SELECT a.country_code, AVG(a.value) as average_pm25, e.value as gdp\n",
    "    FROM AirQuality a\n",
    "    INNER JOIN EconomicIndicators e ON a.country_code = e.country_code\n",
    "    WHERE a.parameter = 'pm25'\n",
    "    AND e.indicator_name = 'GDP (current US$)'\n",
    "    AND e.year = 2021\n",
    "    GROUP BY a.country_code, e.value;\n",
    "\"\"\"\n",
    "country_pm25_gdp = pd.read_sql_query(query, db_connection)\n",
    "print(country_pm25_gdp)\n"
   ]
  }
 ],
 "metadata": {
  "kernelspec": {
   "display_name": "IASD",
   "language": "python",
   "name": "python3"
  },
  "language_info": {
   "codemirror_mode": {
    "name": "ipython",
    "version": 3
   },
   "file_extension": ".py",
   "mimetype": "text/x-python",
   "name": "python",
   "nbconvert_exporter": "python",
   "pygments_lexer": "ipython3",
   "version": "3.12.1"
  }
 },
 "nbformat": 4,
 "nbformat_minor": 2
}
