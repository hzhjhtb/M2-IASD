{
  "cells": [
    {
      "cell_type": "markdown",
      "metadata": {},
      "source": [
        "## Name: Zhe HUANG\n",
        "## N° student: 22302183"
      ]
    },
    {
      "cell_type": "code",
      "execution_count": 1,
      "metadata": {
        "id": "s-8ltYHfbs5B"
      },
      "outputs": [],
      "source": [
        "import pandas as pd\n",
        "from google_drive_downloader import GoogleDriveDownloader as gdd\n",
        "from pathlib import Path\n",
        "from typing import List, Dict\n",
        "from tqdm.notebook import tqdm\n",
        "import numpy as np\n",
        "import matplotlib.pyplot as plt\n",
        "import random\n",
        "import string"
      ]
    },
    {
      "cell_type": "markdown",
      "metadata": {
        "id": "laDowDK-m6Ag"
      },
      "source": [
        "# HW Instructions\n",
        "\n",
        "## 🚧 Cells\n",
        "All the cells identified with a 🚧 should be completed, either by a code or an written answer.\n",
        "You can add as many cells as you want, but in general cells are already in place.\n",
        "\n",
        "\n",
        "🚧 **TODO** 🚧\n",
        "\n",
        "*Requires to complete a code (can be completed with optional text cells if you find it relevant).*\n",
        "\n",
        "or\n",
        "\n",
        "🚧 **Question** 🚧\n",
        "\n",
        "*Requires a written answer (can be completed with optional code cells if you find it relevant).*\n",
        "\n",
        "## 🔴 Test cells\n",
        "Cells identified with 🔴 should be left untouched and shouldn't return any error.\n",
        "\n",
        "## Presentation\n",
        "The overall presentation of the notebook will account in the grading process.\n",
        "Some advice:\n",
        "- Give title to your figures.\n",
        "- Put legends on the figures.\n",
        "- Comment the figures if they are not self-explanatory.\n",
        "- Add comment in the code if not self-explanatory.\n",
        "- Review your notebook before submitting.\n",
        "- Feel free to add any additional illustration if you find it will bring something.\n",
        "- Remain as concise as possible when answering written answer, emphasize the important points.\n",
        "\n",
        "**We cannot debug every notebooks. The notebook should run entirely from the start to the end without any error. If one cell returns an error during the execution, only the cells before the error will be graded.**\n",
        "\n"
      ]
    },
    {
      "cell_type": "markdown",
      "metadata": {
        "id": "PaBJpPWfW45L"
      },
      "source": [
        "# HW Introduction\n",
        "\n",
        "## Hands on with NLP preprocessing\n",
        "\n",
        "This first TP is here to make you experiment with the first preprocessing steps, necessary but often not emphasized enough.\n",
        "\n",
        "## Plan\n",
        "\n",
        "1. Load the data\n",
        "2. Analyze and clean the text data\n",
        "3. Format the texts for NLP (i.e. tokenize, etc).\n",
        "\n",
        "## Notations\n",
        "\n",
        "Throughout the HW, a text will be called either **document** or **text**.\n",
        "\n",
        "\n",
        "# I - Data loading"
      ]
    },
    {
      "cell_type": "code",
      "execution_count": 2,
      "metadata": {
        "id": "Eri6thqeX_MC"
      },
      "outputs": [],
      "source": [
        "def download_imdb(output_path: str, force_download: bool = False):\n",
        "    \"\"\"Save the data to `output_path`.\"\"\"\n",
        "    output_path = Path(output_path)\n",
        "    if (not output_path.is_file()) or force_download:\n",
        "        gdd.download_file_from_google_drive(\n",
        "            file_id=\"1zfM5E6HvKIe7f3rEt1V2gBpw5QOSSKQz\",\n",
        "            dest_path=output_path,\n",
        "        )\n",
        "    return"
      ]
    },
    {
      "cell_type": "code",
      "execution_count": 3,
      "metadata": {
        "id": "BJ9S1a1jW45M"
      },
      "outputs": [],
      "source": [
        "DATA_PATH = \"data/imdb_reviews.csv\"\n",
        "download_imdb(output_path=DATA_PATH, force_download=False)"
      ]
    },
    {
      "cell_type": "markdown",
      "metadata": {
        "id": "NGT4vDXmZDTT"
      },
      "source": [
        "🚧 **TODO** 🚧\n",
        "\n",
        "Read the file to a Pandas dataframe (the file is stored as a csv). Make sure the \"review\" field is of dtype `string` and label of dtype `int`.\n",
        "\n",
        "Hint: https://pandas.pydata.org/docs/user_guide/text.html (you can specify the `dtype` argument of pandas constructor).\n"
      ]
    },
    {
      "cell_type": "code",
      "execution_count": 4,
      "metadata": {
        "id": "gbQw5TGPha20"
      },
      "outputs": [
        {
          "data": {
            "text/html": [
              "<div>\n",
              "<style scoped>\n",
              "    .dataframe tbody tr th:only-of-type {\n",
              "        vertical-align: middle;\n",
              "    }\n",
              "\n",
              "    .dataframe tbody tr th {\n",
              "        vertical-align: top;\n",
              "    }\n",
              "\n",
              "    .dataframe thead th {\n",
              "        text-align: right;\n",
              "    }\n",
              "</style>\n",
              "<table border=\"1\" class=\"dataframe\">\n",
              "  <thead>\n",
              "    <tr style=\"text-align: right;\">\n",
              "      <th></th>\n",
              "      <th>review</th>\n",
              "      <th>label</th>\n",
              "    </tr>\n",
              "  </thead>\n",
              "  <tbody>\n",
              "    <tr>\n",
              "      <th>0</th>\n",
              "      <td>Once again Mr. Costner has dragged out a movie...</td>\n",
              "      <td>0</td>\n",
              "    </tr>\n",
              "    <tr>\n",
              "      <th>1</th>\n",
              "      <td>This is an example of why the majority of acti...</td>\n",
              "      <td>0</td>\n",
              "    </tr>\n",
              "    <tr>\n",
              "      <th>2</th>\n",
              "      <td>First of all I hate those moronic rappers, who...</td>\n",
              "      <td>0</td>\n",
              "    </tr>\n",
              "    <tr>\n",
              "      <th>3</th>\n",
              "      <td>Not even the Beatles could write songs everyon...</td>\n",
              "      <td>0</td>\n",
              "    </tr>\n",
              "    <tr>\n",
              "      <th>4</th>\n",
              "      <td>Brass pictures (movies is not a fitting word f...</td>\n",
              "      <td>0</td>\n",
              "    </tr>\n",
              "  </tbody>\n",
              "</table>\n",
              "</div>"
            ],
            "text/plain": [
              "                                              review  label\n",
              "0  Once again Mr. Costner has dragged out a movie...      0\n",
              "1  This is an example of why the majority of acti...      0\n",
              "2  First of all I hate those moronic rappers, who...      0\n",
              "3  Not even the Beatles could write songs everyon...      0\n",
              "4  Brass pictures (movies is not a fitting word f...      0"
            ]
          },
          "execution_count": 4,
          "metadata": {},
          "output_type": "execute_result"
        }
      ],
      "source": [
        "# TODO\n",
        "\n",
        "# read the csv file into a dataframe\n",
        "df_imdb = pd.read_csv(DATA_PATH)\n",
        "\n",
        "# make sure the \"review\" column is of dtype string and label is of dtype int\n",
        "df_imdb[\"review\"] = df_imdb[\"review\"].astype(\"string\")\n",
        "df_imdb[\"label\"] = df_imdb[\"label\"].astype(int)\n",
        "\n",
        "df_imdb.head()"
      ]
    },
    {
      "cell_type": "code",
      "execution_count": 5,
      "metadata": {
        "id": "CAv44K5tpMHF"
      },
      "outputs": [],
      "source": [
        "text_column = df_imdb[\"review\"]\n",
        "label_column = df_imdb[\"label\"]"
      ]
    },
    {
      "cell_type": "markdown",
      "metadata": {
        "id": "hqaE3bBDpPVK"
      },
      "source": [
        "🔴 **TEST**"
      ]
    },
    {
      "cell_type": "code",
      "execution_count": 6,
      "metadata": {
        "id": "-gMHYuJHcQB5"
      },
      "outputs": [],
      "source": [
        "assert text_column.dtype == \"string\"\n",
        "assert label_column.dtype == int"
      ]
    },
    {
      "cell_type": "markdown",
      "metadata": {
        "id": "EMTjOSWEbM6Q"
      },
      "source": [
        "🚧 **TODO** 🚧\n",
        "\n",
        "Print some values of the dataframe.\n",
        "- Print 3 samples of text.\n",
        "- Print their associated labels.\n",
        "- Print some statistics of the dataset.\n",
        "\n"
      ]
    },
    {
      "cell_type": "code",
      "execution_count": 7,
      "metadata": {
        "id": "-aQ0d6IIgRO_"
      },
      "outputs": [
        {
          "name": "stdout",
          "output_type": "stream",
          "text": [
            "==== 3 first texts ====\n",
            "0    Once again Mr. Costner has dragged out a movie...\n",
            "1    This is an example of why the majority of acti...\n",
            "2    First of all I hate those moronic rappers, who...\n",
            "Name: review, dtype: string\n",
            "\n",
            "==== Associated labels of the 3 first texts ====\n",
            "0    0\n",
            "1    0\n",
            "2    0\n",
            "Name: label, dtype: int64\n",
            "\n",
            "=== Dataset statistics ===\n",
            "Number of texts\n",
            "62155\n",
            "\n",
            "Average text length (in characters)\n",
            "1374.0382431019227\n",
            "\n",
            "% of positive texts\n",
            "0.4966615718767597\n"
          ]
        }
      ],
      "source": [
        "print(\"==== 3 first texts ====\")\n",
        "# TODO\n",
        "# print the 3 first texts\n",
        "print(text_column[:3])\n",
        "\n",
        "\n",
        "print(\"\\n==== Associated labels of the 3 first texts ====\")\n",
        "# TODO\n",
        "# print the associated labels of the 3 first texts\n",
        "print(label_column[:3])\n",
        "\n",
        "\n",
        "print(\"\\n=== Dataset statistics ===\")\n",
        "print(\"Number of texts\")\n",
        "# TODO\n",
        "# print the number of texts\n",
        "print(len(text_column))\n",
        "\n",
        "\n",
        "print(\"\\nAverage text length (in characters)\")\n",
        "# TODO\n",
        "# print the average text length (in characters)\n",
        "print(text_column.apply(len).mean())\n",
        "\n",
        "\n",
        "print(\"\\n% of positive texts\")\n",
        "# TODO\n",
        "# print the percentage of positive texts\n",
        "print(label_column.mean())"
      ]
    },
    {
      "cell_type": "markdown",
      "metadata": {
        "id": "ON1bQK5jhz4E"
      },
      "source": [
        "## II - Clean and format the data.\n",
        "For this first TP, we want to focus on very simple tasks.\n",
        "Therefore, we want to avoid as much as possible rare and uncommon words that will be considered as outliers.\n",
        "\n",
        "We will try to figure out what kind of cleaning we can perform, by having a look at the data.\n",
        "\n",
        "The plan for this part will be:\n",
        "1. Split the strings as a list of words.\n",
        "2. Find the outliers in the corpus.\n",
        "3. Propose some methods to clean them."
      ]
    },
    {
      "cell_type": "markdown",
      "metadata": {
        "id": "5XLRgi5giy_g"
      },
      "source": [
        "### 1. Tokenization\n",
        "First, we will split our texts into words.\n",
        "Splitting a string into a list of smaller substrings is called **tokenization**, and the substrings are called **tokens**.\n",
        "\n",
        "The simplest way to tokenize a text is to split it by words, according to whitespaces.\n",
        "\n",
        "Then, each word encountered in the training set is stored and uniquely identified through an id.\n",
        "\n"
      ]
    },
    {
      "cell_type": "markdown",
      "metadata": {
        "id": "H-HLOTivIfSP"
      },
      "source": [
        "🚧 **Question** 🚧\n",
        "\n",
        "By doing so, we put a huge emphasis on words within documents.\n",
        "\n",
        "a) Intuitively, why is it relevant? For instance compare to splitting by character.\n",
        "\n",
        "b) Cite some methods discussed during the course that rely on word-based representations of documents.\n",
        "\n",
        "**Answer**\n",
        "\n",
        "#TODO\n",
        "\n",
        "a)  \n",
        "Tokenizing a text into words is relevant because words are fundamental units of meaning in language. They carry semantic information and provide context. \n",
        "\n",
        "When we tokenize at the word level, we are capturing the meaning and structure of the text at a more meaningful level than splitting by characters. For example, the word \"cat\" is a meaningful unit of language, whereas the characters \"c\", \"a\", and \"t\" are not.\n",
        "\n",
        "b) The methods discussed during the course that rely on word-based representations of documents are:\n",
        "- Bag-of-Words (BoW)\n",
        "- TF-IDF (Term Frequency-Inverse Document Frequency)\n",
        "- Word Embeddings (e.g., Word2Vec, GloVe)\n",
        "- N-grams\n",
        "\n",
        "\n",
        "\n"
      ]
    },
    {
      "cell_type": "markdown",
      "metadata": {
        "id": "jYwJDXAUIc7C"
      },
      "source": [
        "🚧 **TODO** 🚧\n",
        "\n",
        "Implement a tokenizer based on whitespace splitting. For now, the tokenizer should only be able to store each unique word found in the dataset."
      ]
    },
    {
      "cell_type": "code",
      "execution_count": 8,
      "metadata": {
        "id": "791KTHn9W45N"
      },
      "outputs": [],
      "source": [
        "class WhiteSpaceTokenizer:\n",
        "    def __init__(self):\n",
        "        # The vocabulary will store the mapping between text tokens and their id.\n",
        "        self.vocab = {}\n",
        "        self.id_to_token = {}\n",
        "\n",
        "        # We will keep track of the number of times a word appears in the corpus.\n",
        "        self.frequencies = {}\n",
        "\n",
        "    def split_text(self, text: str) -> List[str]:\n",
        "        \"\"\"Converts the text to a list of tokens (substrings).\"\"\"\n",
        "        # TODO\n",
        "        # split the text into substrings based on whitespaces\n",
        "        # for now the tokenizer should only be able to stor each unique word found in the dataset\n",
        "        # so we will not consider punctuation, special characters, etc.\n",
        "        return text.split()\n",
        "\n",
        "    def fit(self, corpus: List[str]):\n",
        "        \"\"\"Fits the tokenizer to a list of texts to construct its vocabulary.\"\"\"\n",
        "        current_id = 0\n",
        "        for text in tqdm(corpus):\n",
        "\n",
        "            # Split into substrings.\n",
        "            list_tokens = self.split_text(text) #TODO\n",
        "\n",
        "            for token in list_tokens:\n",
        "\n",
        "                # Add the token to the vocabulary\n",
        "                token_id = self.vocab.get(token, None)\n",
        "\n",
        "                token_not_in_vocab = token_id is None #TODO\n",
        "                if token_not_in_vocab:\n",
        "                    self.vocab[token] = current_id #TODO\n",
        "                    self.id_to_token[current_id] = token #TODO\n",
        "                    self.frequencies[current_id] = 0\n",
        "                    token_id = current_id\n",
        "                    current_id += 1\n",
        "\n",
        "                self.frequencies[token_id] += 1\n",
        "\n",
        "        # Total number of words in vocab.\n",
        "        self.num_words = len(self.vocab) #TODO\n",
        "        print(f\"Built a vocabulary of {self.num_words} words.\")"
      ]
    },
    {
      "cell_type": "markdown",
      "metadata": {
        "id": "geTlVAEGpa4n"
      },
      "source": [
        "🔴 **TEST**"
      ]
    },
    {
      "cell_type": "code",
      "execution_count": 9,
      "metadata": {
        "id": "joZuRcZ7nc3N"
      },
      "outputs": [
        {
          "data": {
            "application/vnd.jupyter.widget-view+json": {
              "model_id": "197f3b35d742443d91ba94b5a98070fd",
              "version_major": 2,
              "version_minor": 0
            },
            "text/plain": [
              "  0%|          | 0/2 [00:00<?, ?it/s]"
            ]
          },
          "metadata": {},
          "output_type": "display_data"
        },
        {
          "name": "stdout",
          "output_type": "stream",
          "text": [
            "Built a vocabulary of 3 words.\n"
          ]
        }
      ],
      "source": [
        "toy_corpus = [\"a cat\", \"a dog\"]\n",
        "tokenizer = WhiteSpaceTokenizer()\n",
        "tokenizer.fit(toy_corpus)\n",
        "assert tokenizer.vocab == {\"a\": 0, \"cat\": 1, \"dog\": 2}\n",
        "assert tokenizer.frequencies == {0: 2, 1: 1, 2: 1}\n",
        "assert tokenizer.num_words == 3"
      ]
    },
    {
      "cell_type": "markdown",
      "metadata": {
        "id": "fct0L_9EoGWT"
      },
      "source": [
        "🚧 **TODO** 🚧\n",
        "\n",
        "Fits the tokenizer on the imdb reviews."
      ]
    },
    {
      "cell_type": "code",
      "execution_count": 10,
      "metadata": {
        "id": "59qiHgwmmcfB"
      },
      "outputs": [
        {
          "data": {
            "application/vnd.jupyter.widget-view+json": {
              "model_id": "c9a6fcfc8cdd43079eb4556437fe8974",
              "version_major": 2,
              "version_minor": 0
            },
            "text/plain": [
              "  0%|          | 0/62155 [00:00<?, ?it/s]"
            ]
          },
          "metadata": {},
          "output_type": "display_data"
        },
        {
          "name": "stdout",
          "output_type": "stream",
          "text": [
            "Built a vocabulary of 474682 words.\n"
          ]
        }
      ],
      "source": [
        "# TODO\n",
        "# fit the tokenizer to the text column of the imdb dataset\n",
        "tokenizer = WhiteSpaceTokenizer()\n",
        "tokenizer.fit(text_column)"
      ]
    },
    {
      "cell_type": "markdown",
      "metadata": {
        "id": "LHBeN-x-2fhB"
      },
      "source": [
        "### 2. Noise analysis"
      ]
    },
    {
      "cell_type": "markdown",
      "metadata": {
        "id": "3H-GBNNVobV8"
      },
      "source": [
        "🚧 **TODO** 🚧\n",
        "\n",
        "Print 50 random tokens."
      ]
    },
    {
      "cell_type": "code",
      "execution_count": 11,
      "metadata": {
        "id": "AI2knE7em9HT"
      },
      "outputs": [
        {
          "name": "stdout",
          "output_type": "stream",
          "text": [
            "['initializing', 'Jaitley', 'blood-dripping', 'bonkersÂ?', 'dressing,', 'SFIFF', 'that--and', 'Steele).', 'Jade.', 'Langbein', '\"Moon,\"', 'figurehead', 'deel', 'there\"', \"Forrester'.\", 'canal.\"', '/>\"Anna', 'typical.Lacking', '/>Ghilli', 'agressive,', '(1933)\"', 'Predator-ship', 'guarantee!).', '\"Negro\"', 'Twohy', 'Housing', 'rightfully', 'scale?', 'campaigns.<br', 'unspeakably', 'Kriemhild,', 'Sonnier', \"Kurt's\", '\"Boola,', 'FEELING', 'tooth\"', 'thought,\"Okay', 'Glory\"', 'Stymie', 'hell-fest', \"Ver',\", 'Ricans.', 'case\"!', '\"l\"s!),', 'remix', 'declare?\"', '\"Horshack\"', \"psychopath's,\", 'rustler.', '80yr']\n"
          ]
        }
      ],
      "source": [
        "# TODO\n",
        "# print 50 random tokens from the vocabulary\n",
        "random_tokens = random.sample(list(tokenizer.vocab.keys()), 50)\n",
        "print(random_tokens)"
      ]
    },
    {
      "cell_type": "markdown",
      "metadata": {
        "id": "buQNo3ZsrXq4"
      },
      "source": [
        "🚧 **QUESTION** 🚧\n",
        "\n",
        "What do you think of the tokens? Do they look like simple \"words\" as expected?\n",
        "\n",
        "Analyze the noise and explain why we got such weird vocabulary.\n",
        "\n",
        "**Answer**\n",
        "\n",
        "#TODO\n",
        "\n",
        "The tokens do not look like simple \"words\" as expected. They are not all lowercase, and some of them contain punctuation, numbers, and HTML tags. \n",
        "\n",
        "We got such weird vocabulary because we did not perform any preprocessing on the text. We need to clean the text before tokenizing it."
      ]
    },
    {
      "cell_type": "markdown",
      "metadata": {
        "id": "bbt1bQ2SsK4l"
      },
      "source": [
        "### 3. Cleaning\n",
        "\n",
        "🚧 **TODO** 🚧\n",
        "\n",
        "You are going to implement some of the classical cleaning methods.\n",
        "1. Lower case the string.\n",
        "2. String normalization, i.e., replace accentuated characters by standard version (\"â -> a\") (hint: https://stackoverflow.com/a/14121678).\n",
        "3. Remove non alpha-numeric characters (use Python regex package `re`).\n",
        "4. Replace numeric characters by the token `'<NUM>'` (use the package `re`).\n",
        "5. Remove double whitespaces (use the package `re`).\n"
      ]
    },
    {
      "cell_type": "code",
      "execution_count": 12,
      "metadata": {
        "id": "orSU21XPfBhL"
      },
      "outputs": [],
      "source": [
        "import unicodedata\n",
        "import re"
      ]
    },
    {
      "cell_type": "code",
      "execution_count": 13,
      "metadata": {
        "id": "Y5EqoG1dsWMv"
      },
      "outputs": [],
      "source": [
        "def preprocess_text(text: str) -> str:\n",
        "    # TODO lower case\n",
        "    text = text.lower()\n",
        "\n",
        "    # TODO string normalization.\n",
        "    # For example, the word \"café\" should be converted to \"cafe\".\n",
        "    text = unicodedata.normalize(\"NFD\", text).encode(\"ascii\", \"ignore\").decode(\"utf-8\", \"ignore\")\n",
        "\n",
        "    # replace '-' by a whitespace.\n",
        "    text = re.sub(r\"-\", \" \", text)\n",
        "    # TODO remove non alpha numeric characters.\n",
        "    text = re.sub(r\"[^a-z0-9\\s]\", \"\", text)\n",
        "\n",
        "    # TODO replace numbers by the <NUM> token.\n",
        "    text = re.sub(r\"\\d+\", \"<NUM>\", text)\n",
        "\n",
        "    # TODO remove double whitespaces.\n",
        "    text = re.sub(r\"\\s+\", \" \", text)\n",
        "\n",
        "    return text"
      ]
    },
    {
      "cell_type": "markdown",
      "metadata": {
        "id": "yiAbpQrbptvH"
      },
      "source": [
        "🔴 **TEST**"
      ]
    },
    {
      "cell_type": "code",
      "execution_count": 14,
      "metadata": {
        "id": "cfmJ1GDzy7-f"
      },
      "outputs": [],
      "source": [
        "noisy_text = \"Ï   lîved  in    San-Françisco...  ! for 12 years.\"\n",
        "clean_text = \"i lived in san francisco for <NUM> years\"\n",
        "\n",
        "assert preprocess_text(noisy_text) == clean_text"
      ]
    },
    {
      "cell_type": "markdown",
      "metadata": {
        "id": "LkO-jZPY0mDy"
      },
      "source": [
        "🚧 **TODO** 🚧\n",
        "\n",
        "Add column `clean_review` to the dataframe, with the clean text.\n",
        "\n",
        "Store the `clean_review` column to the variable `clean_column`."
      ]
    },
    {
      "cell_type": "code",
      "execution_count": 15,
      "metadata": {
        "id": "tMO7SaQO0uSr"
      },
      "outputs": [],
      "source": [
        "# TODO\n",
        "df_imdb[\"clean_review\"] = df_imdb[\"review\"].apply(preprocess_text) #TODO\n",
        "\n",
        "clean_column = df_imdb[\"clean_review\"] #TODO"
      ]
    },
    {
      "cell_type": "markdown",
      "metadata": {
        "id": "M0Dl9i7X1JWb"
      },
      "source": [
        "🚧 **TODO** 🚧\n",
        "\n",
        "Run the tokenizer on the clean text and print 50 random tokens."
      ]
    },
    {
      "cell_type": "code",
      "execution_count": 16,
      "metadata": {
        "id": "koSGantW1SL1"
      },
      "outputs": [
        {
          "data": {
            "application/vnd.jupyter.widget-view+json": {
              "model_id": "75e85a9b9f6e47e9acf3e727c44a5f01",
              "version_major": 2,
              "version_minor": 0
            },
            "text/plain": [
              "  0%|          | 0/62155 [00:00<?, ?it/s]"
            ]
          },
          "metadata": {},
          "output_type": "display_data"
        },
        {
          "name": "stdout",
          "output_type": "stream",
          "text": [
            "Built a vocabulary of 151977 words.\n"
          ]
        }
      ],
      "source": [
        "# TODO fit the tokenizer\n",
        "tokenizer = WhiteSpaceTokenizer()\n",
        "tokenizer.fit(clean_column)"
      ]
    },
    {
      "cell_type": "code",
      "execution_count": 17,
      "metadata": {
        "id": "DJlHz9Sw1c56"
      },
      "outputs": [
        {
          "name": "stdout",
          "output_type": "stream",
          "text": [
            "['ghettoish', 'skywriting', 'ladiesstripbr', 'bergmanlars', 'bakjwibr', 'languageand', 'williamsbr', 'anderson', 'sheritts', 'sprach', 'peirced', 'elizabeths', 'effectsmake', 'dickies', 'morolla', 'cringeful', 'oafishness', 'sniveler', 'noooooo', 'atley', 'saddlehowever', 'recordsbr', 'sab', 'freakout', 'colorsbr', '<NUM>smore', 'abromowitz', 'gratefulbr', 'liftingalcohol', 'expectingwanting', 'routeabut', 'gestapobr', 'massacrere', 'mahar', '<NUM>nonsensical', 'masako', 'pleasuretwo', 'dvp<NUM>', 'sharad', 'foreebr', 'repercussionbr', 'equaled', 'nogami', 'telenovelas', 'slowing', 'menard', 'browsed', 'salik', 'greenville', 'threepwoodgotta']\n"
          ]
        }
      ],
      "source": [
        "# TODO print tokens\n",
        "random_tokens = random.sample(list(tokenizer.vocab.keys()), 50)\n",
        "print(random_tokens)"
      ]
    },
    {
      "cell_type": "markdown",
      "metadata": {
        "id": "Sq8CzSBw1vsI"
      },
      "source": [
        "🚧 **Question** 🚧\n",
        "\n",
        "What do you think of the new tokens? Are they better? What common noise still remain? (Feel free to print more tokens to get a better intuition).\n",
        "\n",
        "Suggest some methods to improve again the tokenization (at least 2), based on either these results or on something you think we could have done better.\n",
        "\n",
        "**Answer**\n",
        "\n",
        "#TODO\n",
        "\n",
        "The tokenization process has made some improvements, particularly in handling special characters and numbers.\n",
        "\n",
        "However, there are still some common noise that remain, such as:\n",
        "- Special characters: Tokens like '< NUM >sset', 'diary< NUM >', and 'prison< NUM >' contain special characters and numerical values, which might not be very informative in their current form.\n",
        "- Abbreviations: Tokens like 'imbd' might be abbreviations that should ideally be treated as the full words ('IMDb' in this case).\n",
        "\n",
        "Some methods to improve the tokenization process are:\n",
        "- Regular Expressions for Tokenization\n",
        "- Lemmatization and Stemming\n",
        "- Stop Words Removal\n",
        "- Part-of-Speech (POS) Tagging"
      ]
    },
    {
      "cell_type": "markdown",
      "metadata": {
        "id": "ohqx368M2ZiG"
      },
      "source": [
        "### Tokens analysis\n",
        "\n",
        "\n",
        "🚧 **TODO** 🚧\n",
        "\n",
        "Show the frequencies repartition.\n",
        "This should be a histogram, with 100 bins, with the frequencies on the x axis and the number of words associated to the frequencies on the y axis (see https://matplotlib.org/stable/api/_as_gen/matplotlib.pyplot.hist.html).\n",
        "\n",
        "Use logarithm scale for y."
      ]
    },
    {
      "cell_type": "code",
      "execution_count": 18,
      "metadata": {
        "id": "r8N76FrE3fyt"
      },
      "outputs": [
        {
          "name": "stderr",
          "output_type": "stream",
          "text": [
            "No artists with labels found to put in legend.  Note that artists whose label start with an underscore are ignored when legend() is called with no argument.\n"
          ]
        },
        {
          "data": {
            "image/png": "[encoded data removed]",
            "text/plain": [
              "<Figure size 2000x1000 with 1 Axes>"
            ]
          },
          "metadata": {},
          "output_type": "display_data"
        }
      ],
      "source": [
        "# TODO\n",
        "plt.figure(figsize=(20, 10))\n",
        "\n",
        "# Show the frequencies repartition, a histogram with 100 bins with the frequencies on the x axis and the number of words associated to the frequencies on the y axis.\n",
        "plt.hist(tokenizer.frequencies.values(), bins=100)\n",
        "\n",
        "plt.xlabel(\"frequencies\") # the number of times a word appears in the corpus\n",
        "plt.ylabel(\"number of words associated to the frequencies\") # the number of words that appear a given number of times in the corpus\n",
        "\n",
        "# Use logarithm scale for y.\n",
        "plt.yscale(\"log\")\n",
        "\n",
        "plt.title(\"The frequencies repartition\")\n",
        "plt.legend()\n",
        "plt.show()"
      ]
    },
    {
      "cell_type": "markdown",
      "metadata": {
        "id": "qX-WtALB8mam"
      },
      "source": [
        "🚧 **Question** 🚧\n",
        "\n",
        "What do you think of the repartition?\n",
        "\n",
        "**Answer**\n",
        "\n",
        "#TODO\n",
        "\n",
        "The repartition is skewed to the right, which means that there are more words with lower frequencies than words with higher frequencies. This is expected because there are many words that occur only once or twice in the corpus, but there are only a few words that occur very frequently in the corpus.\n"
      ]
    },
    {
      "cell_type": "markdown",
      "metadata": {
        "id": "zXXq8T04fRYM"
      },
      "source": [
        "🚧 **TODO** 🚧\n",
        "\n",
        "Plot the frequencies repartition. Find the best corresponding Zipf law (seen during the course) and plot it on the same figure."
      ]
    },
    {
      "cell_type": "code",
      "execution_count": 19,
      "metadata": {},
      "outputs": [
        {
          "data": {
            "image/png": "[encoded data removed]",
            "text/plain": [
              "<Figure size 2000x1000 with 1 Axes>"
            ]
          },
          "metadata": {},
          "output_type": "display_data"
        }
      ],
      "source": [
        "# Sort the frequencies and generate rank\n",
        "sorted_frequencies = sorted(tokenizer.frequencies.values(), reverse=True)\n",
        "rank = np.arange(1, len(sorted_frequencies) + 1)\n",
        "\n",
        "# Plot the frequencies repartition\n",
        "plt.figure(figsize=(20, 10))\n",
        "plt.plot(rank, sorted_frequencies)\n",
        "plt.xlabel(\"rank\")\n",
        "plt.ylabel(\"frequencies\")\n",
        "plt.title(\"The frequencies repartition\")\n",
        "plt.yscale(\"log\")\n",
        "\n",
        "# Fit the Zipf's law: f = c / r^a where f is the frequency, r is the rank, c is a constant and a is a parameter.\n",
        "c = 10**6\n",
        "a = 1\n",
        "plt.plot(rank, c / (rank ** a), label=f\"Zipf's law with a={a}\")\n",
        "\n",
        "plt.legend()\n",
        "plt.show()\n"
      ]
    },
    {
      "cell_type": "markdown",
      "metadata": {
        "id": "FB--kpAVE7p_"
      },
      "source": [
        "## III - DataLoading\n",
        "\n",
        "This final part aims at making your dataset compatible with PyTorch.\n",
        "\n",
        "### Text representation\n",
        "\n",
        "Since we plan to work with PyTorch, we need to work with `tensors`. But since a text is only composed of strings, we need to find some numerical representations for the text.\n",
        "\n",
        "The most basic method is to represent a text by list of tokens. We already used a simple WhiteSpace tokenizer earlier to analyze our texts before cleaning. Now we will use it to *represent* the texts.\n",
        "\n",
        "🚧 **TODO** 🚧\n",
        "\n",
        "Modify the code of the `WhiteSpaceTokenizer` so that it could encode a text into a list of token ids and do the reverse (i.e. decode a list of token ids to a text)."
      ]
    },
    {
      "cell_type": "code",
      "execution_count": 20,
      "metadata": {
        "id": "-8a20vOKJ5Wz"
      },
      "outputs": [],
      "source": [
        "class WhiteSpaceTokenizer:\n",
        "    def __init__(self):\n",
        "        # The vocabulary will store the mapping between text tokens and their id.\n",
        "        self.vocab = {}\n",
        "        self.id_to_token = {}\n",
        "\n",
        "        # We will keep track of the number of times a word appears in the corpus.\n",
        "        self.frequencies = {}\n",
        "\n",
        "    def split_text(self, text: str) -> List[str]:\n",
        "        \"\"\"Converts the text to a list of tokens (substrings).\"\"\"\n",
        "        # TODO\n",
        "        # split the text into substrings based on whitespaces(supposed we already did preprocessing)\n",
        "        return text.split()\n",
        "\n",
        "    def encode(self, text: str) -> List[int]:\n",
        "        \"\"\"Take a text as input and return its associated tokenization, as a list of ids.\"\"\"\n",
        "        # TODO\n",
        "        # Encode the text by converting it to a list of tokens and then to a list of ids.\n",
        "        list_tokens = self.split_text(text)\n",
        "        list_ids = []\n",
        "        for token in list_tokens:\n",
        "            # replace unknown tokens by the <UNK> token\n",
        "            if token not in self.vocab:\n",
        "                token = \"<UNK>\"\n",
        "            list_ids.append(self.vocab[token])\n",
        "        \n",
        "        return list_ids\n",
        "\n",
        "    def decode(self, ids: List[int]) -> str:\n",
        "        # TODO\n",
        "        \"\"\"Take a list of ids as input and return the associated text.\"\"\"\n",
        "        # Decode the list of ids by converting it to a list of tokens and then to a text.\n",
        "        list_tokens = []\n",
        "        for id in ids:\n",
        "            list_tokens.append(self.id_to_token[id])\n",
        "        \n",
        "        return \" \".join(list_tokens)\n",
        "\n",
        "    def fit(self, corpus: List[str]):\n",
        "        \"\"\"Fits the tokenizer to a list of texts to construct its vocabulary.\"\"\"\n",
        "        current_id = 0\n",
        "\n",
        "        for text in tqdm(corpus):\n",
        "\n",
        "            # Split into substrings.\n",
        "            list_tokens = self.split_text(text) #TODO\n",
        "\n",
        "            for token in list_tokens:\n",
        "\n",
        "                # Add the token to the vocabulary\n",
        "                token_id = self.vocab.get(token, None)\n",
        "\n",
        "                token_not_in_vocab = token_id is None #TODO\n",
        "                if token_not_in_vocab:\n",
        "                    self.vocab[token] = current_id #TODO\n",
        "                    self.id_to_token[current_id] = token #TODO\n",
        "                    self.frequencies[current_id] = 0\n",
        "                    token_id = current_id\n",
        "                    current_id += 1\n",
        "\n",
        "                self.frequencies[token_id] += 1\n",
        "        \n",
        "        # Add the <UNK> token to the vocabulary, with id 0.(unknown token)\n",
        "        self.vocab[\"<UNK>\"] = current_id\n",
        "        self.id_to_token[current_id] = \"<UNK>\"\n",
        "        self.frequencies[current_id] = 0\n",
        "\n",
        "        # Total number of words in vocab.\n",
        "        self.num_words = len(self.vocab) #TODO\n",
        "        print(f\"Built a vocabulary of {self.num_words} words.\")"
      ]
    },
    {
      "cell_type": "markdown",
      "metadata": {
        "id": "EawK5ctWqjOQ"
      },
      "source": [
        "🔴 **TEST**"
      ]
    },
    {
      "cell_type": "code",
      "execution_count": 21,
      "metadata": {
        "id": "l1slN9MEKWjC"
      },
      "outputs": [
        {
          "data": {
            "application/vnd.jupyter.widget-view+json": {
              "model_id": "15374372d5094809a9a90fe9f12d59ec",
              "version_major": 2,
              "version_minor": 0
            },
            "text/plain": [
              "  0%|          | 0/2 [00:00<?, ?it/s]"
            ]
          },
          "metadata": {},
          "output_type": "display_data"
        },
        {
          "name": "stdout",
          "output_type": "stream",
          "text": [
            "Built a vocabulary of 10 words.\n"
          ]
        }
      ],
      "source": [
        "tokenizer = WhiteSpaceTokenizer()\n",
        "toy_dataset = [\"the cat is in the kitchen\", \"i have a dog\"]\n",
        "tokenizer.fit(toy_dataset)\n",
        "text = \"i have a kitchen\"\n",
        "assert tokenizer.encode(text) == [5, 6, 7, 4]\n",
        "assert tokenizer.decode([0, 1, 2, 7, 8]) == \"the cat is a dog\""
      ]
    },
    {
      "cell_type": "markdown",
      "metadata": {
        "id": "imYmiv-PMiH4"
      },
      "source": [
        "🚧 **TODO** 🚧 Now fit it on your dataset."
      ]
    },
    {
      "cell_type": "code",
      "execution_count": 22,
      "metadata": {
        "id": "5-agmjJdMkHg"
      },
      "outputs": [
        {
          "data": {
            "application/vnd.jupyter.widget-view+json": {
              "model_id": "8166fc4677034d62841e49b27ecbada5",
              "version_major": 2,
              "version_minor": 0
            },
            "text/plain": [
              "  0%|          | 0/62155 [00:00<?, ?it/s]"
            ]
          },
          "metadata": {},
          "output_type": "display_data"
        },
        {
          "name": "stdout",
          "output_type": "stream",
          "text": [
            "Built a vocabulary of 151978 words.\n"
          ]
        }
      ],
      "source": [
        "# TODO\n",
        "# fit the tokenizer to the clean column of the imdb dataset\n",
        "tokenizer = WhiteSpaceTokenizer()\n",
        "tokenizer.fit(clean_column)"
      ]
    },
    {
      "cell_type": "markdown",
      "metadata": {
        "id": "ZHO2xKpiL1oI"
      },
      "source": [
        "🚧 **Question** 🚧\n",
        "Look at the following code:"
      ]
    },
    {
      "cell_type": "code",
      "execution_count": 23,
      "metadata": {
        "id": "l3zS9noAL0DO"
      },
      "outputs": [
        {
          "data": {
            "text/plain": [
              "[16, 3664, 57, 39, 16, 151977]"
            ]
          },
          "execution_count": 23,
          "metadata": {},
          "output_type": "execute_result"
        }
      ],
      "source": [
        "tokenizer.encode(\"the king is in the câstle\")"
      ]
    },
    {
      "cell_type": "markdown",
      "metadata": {
        "id": "Reu2H7UXM9J_"
      },
      "source": [
        "a) Does it raise an exception? Explain what is the problem with the above situation.\n",
        "\n",
        "b) In which real life scenario could such a situation appear?\n",
        "\n",
        "**Answer**\n",
        "\n",
        "#TODO\n",
        "\n",
        "a) Yes, it raises an exception. The problem is that the tokenizer is not fitted on the dataset yet, so it does not know the vocabulary of the dataset. Therefore, it cannot encode the text into a list of token ids.\n",
        "\n",
        "b) This situation could appear when we are trying to encode a text which contains words that are not in the vocabulary of the dataset. For example, here 'câstle' is not in the vocabulary of the dataset because we have cleaned the text by removing accentuated characters."
      ]
    },
    {
      "cell_type": "markdown",
      "metadata": {
        "id": "XbJtCxPKOFYe"
      },
      "source": [
        "🚧 **TODO** 🚧\n",
        "\n",
        "Propose a simple modification of the tokenizer code such that it doesn't raise an exception anymore. It should handle the presence of any unknown token.\n",
        "\n",
        "The following code should't raise any exception."
      ]
    },
    {
      "cell_type": "markdown",
      "metadata": {
        "id": "-sxrH8mFqs6I"
      },
      "source": [
        "🔴 **TEST**"
      ]
    },
    {
      "cell_type": "code",
      "execution_count": 24,
      "metadata": {
        "id": "EJVfIsLqLQ4M"
      },
      "outputs": [],
      "source": [
        "allowed_characters = (string.ascii_uppercase + string.digits).replace(\" \", \"\")\n",
        "for _ in range(1000):\n",
        "    word_that_do_not_exist = \"\".join(random.choices(allowed_characters, k=100))\n",
        "    encoding = tokenizer.encode(f\"the king is in the {word_that_do_not_exist}\")\n",
        "    assert tokenizer.decode(encoding) == \"the king is in the <UNK>\""
      ]
    },
    {
      "cell_type": "markdown",
      "metadata": {
        "id": "DZ_O5jT_f0Mr"
      },
      "source": [
        "### Dataset for PyTorch\n",
        "We will be working wtth PyTorch most of the time.\n",
        "A good practice is to always iterate through a `torch.utils.data.DataLoader`, coupled with `torch.utils.data.Dataset`.\n",
        "\n",
        "🚧 **TODO** 🚧\n",
        "\n",
        "We will construct our custom `Dataset` class, that should be fully compatible with the PyTorch API. According to the [documentation](https://pytorch.org/tutorials/beginner/basics/data_tutorial.html#creating-a-custom-dataset-for-your-files), such a dataset should implement at least three methods, `__init__`, `__len__`, `__getitem__`. Complete the following code such that the dataset yields a list of texts.\n",
        "\n",
        "Requirements:\n",
        "1. The dataset class should read the data from the csv_file stored in `DATA_PATH`.\n",
        "2. The dataset should output the raw text, without any cleaning."
      ]
    },
    {
      "cell_type": "code",
      "execution_count": 25,
      "metadata": {
        "id": "Gqn2FgOthdcF"
      },
      "outputs": [],
      "source": [
        "from torch.utils.data import Dataset\n",
        "\n",
        "class IMDBDataset(Dataset):\n",
        "    def __init__(self, file_path: str):\n",
        "        # TODO\n",
        "        # read the csv file into a dataframe\n",
        "        self.df_imdb = pd.read_csv(file_path)\n",
        "        \n",
        "    def __len__(self):\n",
        "        # TODO\n",
        "        # return the number of texts in the dataset\n",
        "        return len(self.df_imdb)\n",
        "\n",
        "    def __getitem__(self, idx: int):\n",
        "        # TODO\n",
        "        # return the text and its associated label, at index `idx`\n",
        "        return self.df_imdb.iloc[idx][\"review\"], self.df_imdb.iloc[idx][\"label\"]"
      ]
    },
    {
      "cell_type": "markdown",
      "metadata": {
        "id": "T2kJbUUxtPi8"
      },
      "source": [
        "🔴 **TEST**"
      ]
    },
    {
      "cell_type": "code",
      "execution_count": 26,
      "metadata": {
        "id": "68tkYxHKiFzA"
      },
      "outputs": [],
      "source": [
        "imdb_dataset = IMDBDataset(file_path=DATA_PATH)\n",
        "text, label = imdb_dataset[0]\n",
        "assert text == text_column[0]\n",
        "assert label == label_column[0]"
      ]
    },
    {
      "cell_type": "markdown",
      "metadata": {
        "id": "1EaTm6k7QZHL"
      },
      "source": [
        "### DataLoader for PyTorch\n",
        "\n",
        "Now that the dataset is ready, we should be able to iterate through it. This is done with a `DataLoader`.\n",
        "\n",
        "The `DataLoader` also has some handy functionnalities:\n",
        "1. Batch iteration.\n",
        "2. Collate function.\n",
        "\n",
        "The collate function corresponds to the argument `collate_fn` of the constructor of `torch.utils.data.DataLoader`.\n",
        "\n",
        "This function is applied on the fly to each sample of the dataset.\n",
        "\n",
        "Our `IMDBDataset` only outputs raw texts. During the iteration through the `DataLoader`, we would like to:\n",
        "1. Clean the dataset with our cleaning function `preprocess_text`.\n",
        "2. Convert the text to a list of tokens.\n",
        "3. The `DataLoader`, for a batch size of `N`, should yield a dictionnary `{\"token_ids\": ..., \"labels\": ...,}` with `\"token_ids\"` corresponding to a list of `N` lists of tokens ids, and `\"labels\"` to a list of size `N` with the corresponding labels.\n",
        "\n",
        "🚧 **TODO** 🚧\n",
        "\n",
        "Write the `collate_fn` function so that the above requirements are satisfied (i.e., clean and tokenize)."
      ]
    },
    {
      "cell_type": "code",
      "execution_count": 27,
      "metadata": {
        "id": "hvbB5VMrSSzY"
      },
      "outputs": [],
      "source": [
        "# TODO\n",
        "def collate_fn(batch):\n",
        "  \"\"\"This function takes a list of samples from the dataset and returns a batch.\"\"\"\n",
        "  token_ids = []\n",
        "  labels = []\n",
        "  for text, label in batch:\n",
        "    # Clean and convert the text to a list of token ids.\n",
        "    token_ids.append(tokenizer.encode(preprocess_text(text)))\n",
        "    labels.append(label)\n",
        "\n",
        "  return {\"token_ids\": token_ids, \"labels\": labels}\n",
        "  "
      ]
    },
    {
      "cell_type": "code",
      "execution_count": 28,
      "metadata": {
        "id": "jGkthDygS5uT"
      },
      "outputs": [],
      "source": [
        "from torch.utils.data import DataLoader"
      ]
    },
    {
      "cell_type": "markdown",
      "metadata": {
        "id": "B0aAd6B2q4KC"
      },
      "source": [
        "🔴 **TEST**"
      ]
    },
    {
      "cell_type": "code",
      "execution_count": 29,
      "metadata": {
        "id": "YMkufgR1Sf8J"
      },
      "outputs": [],
      "source": [
        "for batch_size in range(1, 10):\n",
        "    dataloader = DataLoader(\n",
        "        dataset=imdb_dataset, batch_size=batch_size, collate_fn=collate_fn\n",
        "    )\n",
        "    for batch in dataloader:\n",
        "        token_ids = batch[\"token_ids\"]\n",
        "        labels = batch[\"labels\"]\n",
        "        assert len(token_ids) == batch_size\n",
        "        assert len(labels) == batch_size\n",
        "        assert isinstance(token_ids[0][0], int)\n",
        "        assert (isinstance(labels[0], int)) or isinstance(labels[0], np.int64)\n",
        "        break"
      ]
    },
    {
      "cell_type": "markdown",
      "metadata": {
        "id": "JacMmD5Kq6j8"
      },
      "source": [
        "🚧 **Question** 🚧\n",
        "\n",
        "Write a concise summary on what you learned with this lab.\n",
        "\n",
        "**Answer**\n",
        "\n",
        "#TODO\n",
        "\n",
        "We learned that:\n",
        "- Cleaning the text helps to remove noise and improve the tokenization process.\n",
        "- Tokenization is the process of splitting a text into smaller substrings called tokens.\n",
        "- Zipf's law states that the frequency of a word is inversely proportional to its rank in the frequency table.\n",
        "- Setting the unknown token to the last index of the vocabulary is practical.\n",
        "- Collate function is used to process the data on the fly during the iteration through the DataLoader.\n",
        "- DataLoader is used to iterate through the dataset in batches.\n",
        "\n"
      ]
    }
  ],
  "metadata": {
    "colab": {
      "provenance": []
    },
    "kernelspec": {
      "display_name": "Python 3 (ipykernel)",
      "language": "python",
      "name": "python3"
    },
    "language_info": {
      "codemirror_mode": {
        "name": "ipython",
        "version": 3
      },
      "file_extension": ".py",
      "mimetype": "text/x-python",
      "name": "python",
      "nbconvert_exporter": "python",
      "pygments_lexer": "ipython3",
      "version": "3.10.12"
    },
    "toc": {
      "base_numbering": 1,
      "nav_menu": {},
      "number_sections": true,
      "sideBar": true,
      "skip_h1_title": false,
      "title_cell": "Table of Contents",
      "title_sidebar": "Contents",
      "toc_cell": false,
      "toc_position": {},
      "toc_section_display": true,
      "toc_window_display": false
    }
  },
  "nbformat": 4,
  "nbformat_minor": 0
}
