{
  "nbformat": 4,
  "nbformat_minor": 0,
  "metadata": {
    "colab": {
      "provenance": [],
      "gpuType": "T4",
      "toc_visible": true
    },
    "kernelspec": {
      "name": "python3",
      "display_name": "Python 3"
    },
    "language_info": {
      "name": "python"
    },
    "accelerator": "GPU",
    "widgets": {
      "application/vnd.jupyter.widget-state+json": {
        "148acd82c9c74918b08fcd61412908e7": {
          "model_module": "@jupyter-widgets/controls",
          "model_name": "HBoxModel",
          "model_module_version": "1.5.0",
          "state": {
            "_dom_classes": [],
            "_model_module": "@jupyter-widgets/controls",
            "_model_module_version": "1.5.0",
            "_model_name": "HBoxModel",
            "_view_count": null,
            "_view_module": "@jupyter-widgets/controls",
            "_view_module_version": "1.5.0",
            "_view_name": "HBoxView",
            "box_style": "",
            "children": [
              "IPY_MODEL_5bae96dc293f41dcb37ac013cdbbf918",
              "IPY_MODEL_0523a8dfe14e45ba800e4ddba39c3491",
              "IPY_MODEL_94f042d6809d43f98893094705ef9117"
            ],
            "layout": "IPY_MODEL_6131618f2c5642ae80b084d770491cfe"
          }
        },
        "5bae96dc293f41dcb37ac013cdbbf918": {
          "model_module": "@jupyter-widgets/controls",
          "model_name": "HTMLModel",
          "model_module_version": "1.5.0",
          "state": {
            "_dom_classes": [],
            "_model_module": "@jupyter-widgets/controls",
            "_model_module_version": "1.5.0",
            "_model_name": "HTMLModel",
            "_view_count": null,
            "_view_module": "@jupyter-widgets/controls",
            "_view_module_version": "1.5.0",
            "_view_name": "HTMLView",
            "description": "",
            "description_tooltip": null,
            "layout": "IPY_MODEL_ff093806406643cfb50075eca37fe21c",
            "placeholder": "​",
            "style": "IPY_MODEL_e252dcee25094d30b0e0ae50f142732e",
            "value": "tokenizer_config.json: 100%"
          }
        },
        "0523a8dfe14e45ba800e4ddba39c3491": {
          "model_module": "@jupyter-widgets/controls",
          "model_name": "FloatProgressModel",
          "model_module_version": "1.5.0",
          "state": {
            "_dom_classes": [],
            "_model_module": "@jupyter-widgets/controls",
            "_model_module_version": "1.5.0",
            "_model_name": "FloatProgressModel",
            "_view_count": null,
            "_view_module": "@jupyter-widgets/controls",
            "_view_module_version": "1.5.0",
            "_view_name": "ProgressView",
            "bar_style": "success",
            "description": "",
            "description_tooltip": null,
            "layout": "IPY_MODEL_2c514832ca324db4bfb8d93816db4191",
            "max": 28,
            "min": 0,
            "orientation": "horizontal",
            "style": "IPY_MODEL_4c67402ef37e472a9e9e253be89a0951",
            "value": 28
          }
        },
        "94f042d6809d43f98893094705ef9117": {
          "model_module": "@jupyter-widgets/controls",
          "model_name": "HTMLModel",
          "model_module_version": "1.5.0",
          "state": {
            "_dom_classes": [],
            "_model_module": "@jupyter-widgets/controls",
            "_model_module_version": "1.5.0",
            "_model_name": "HTMLModel",
            "_view_count": null,
            "_view_module": "@jupyter-widgets/controls",
            "_view_module_version": "1.5.0",
            "_view_name": "HTMLView",
            "description": "",
            "description_tooltip": null,
            "layout": "IPY_MODEL_6f4eddaea3de455dbd780b75c186b1ab",
            "placeholder": "​",
            "style": "IPY_MODEL_c831694d4f494322920e8bc0fcc3f6f3",
            "value": " 28.0/28.0 [00:00&lt;00:00, 587B/s]"
          }
        },
        "6131618f2c5642ae80b084d770491cfe": {
          "model_module": "@jupyter-widgets/base",
          "model_name": "LayoutModel",
          "model_module_version": "1.2.0",
          "state": {
            "_model_module": "@jupyter-widgets/base",
            "_model_module_version": "1.2.0",
            "_model_name": "LayoutModel",
            "_view_count": null,
            "_view_module": "@jupyter-widgets/base",
            "_view_module_version": "1.2.0",
            "_view_name": "LayoutView",
            "align_content": null,
            "align_items": null,
            "align_self": null,
            "border": null,
            "bottom": null,
            "display": null,
            "flex": null,
            "flex_flow": null,
            "grid_area": null,
            "grid_auto_columns": null,
            "grid_auto_flow": null,
            "grid_auto_rows": null,
            "grid_column": null,
            "grid_gap": null,
            "grid_row": null,
            "grid_template_areas": null,
            "grid_template_columns": null,
            "grid_template_rows": null,
            "height": null,
            "justify_content": null,
            "justify_items": null,
            "left": null,
            "margin": null,
            "max_height": null,
            "max_width": null,
            "min_height": null,
            "min_width": null,
            "object_fit": null,
            "object_position": null,
            "order": null,
            "overflow": null,
            "overflow_x": null,
            "overflow_y": null,
            "padding": null,
            "right": null,
            "top": null,
            "visibility": null,
            "width": null
          }
        },
        "ff093806406643cfb50075eca37fe21c": {
          "model_module": "@jupyter-widgets/base",
          "model_name": "LayoutModel",
          "model_module_version": "1.2.0",
          "state": {
            "_model_module": "@jupyter-widgets/base",
            "_model_module_version": "1.2.0",
            "_model_name": "LayoutModel",
            "_view_count": null,
            "_view_module": "@jupyter-widgets/base",
            "_view_module_version": "1.2.0",
            "_view_name": "LayoutView",
            "align_content": null,
            "align_items": null,
            "align_self": null,
            "border": null,
            "bottom": null,
            "display": null,
            "flex": null,
            "flex_flow": null,
            "grid_area": null,
            "grid_auto_columns": null,
            "grid_auto_flow": null,
            "grid_auto_rows": null,
            "grid_column": null,
            "grid_gap": null,
            "grid_row": null,
            "grid_template_areas": null,
            "grid_template_columns": null,
            "grid_template_rows": null,
            "height": null,
            "justify_content": null,
            "justify_items": null,
            "left": null,
            "margin": null,
            "max_height": null,
            "max_width": null,
            "min_height": null,
            "min_width": null,
            "object_fit": null,
            "object_position": null,
            "order": null,
            "overflow": null,
            "overflow_x": null,
            "overflow_y": null,
            "padding": null,
            "right": null,
            "top": null,
            "visibility": null,
            "width": null
          }
        },
        "e252dcee25094d30b0e0ae50f142732e": {
          "model_module": "@jupyter-widgets/controls",
          "model_name": "DescriptionStyleModel",
          "model_module_version": "1.5.0",
          "state": {
            "_model_module": "@jupyter-widgets/controls",
            "_model_module_version": "1.5.0",
            "_model_name": "DescriptionStyleModel",
            "_view_count": null,
            "_view_module": "@jupyter-widgets/base",
            "_view_module_version": "1.2.0",
            "_view_name": "StyleView",
            "description_width": ""
          }
        },
        "2c514832ca324db4bfb8d93816db4191": {
          "model_module": "@jupyter-widgets/base",
          "model_name": "LayoutModel",
          "model_module_version": "1.2.0",
          "state": {
            "_model_module": "@jupyter-widgets/base",
            "_model_module_version": "1.2.0",
            "_model_name": "LayoutModel",
            "_view_count": null,
            "_view_module": "@jupyter-widgets/base",
            "_view_module_version": "1.2.0",
            "_view_name": "LayoutView",
            "align_content": null,
            "align_items": null,
            "align_self": null,
            "border": null,
            "bottom": null,
            "display": null,
            "flex": null,
            "flex_flow": null,
            "grid_area": null,
            "grid_auto_columns": null,
            "grid_auto_flow": null,
            "grid_auto_rows": null,
            "grid_column": null,
            "grid_gap": null,
            "grid_row": null,
            "grid_template_areas": null,
            "grid_template_columns": null,
            "grid_template_rows": null,
            "height": null,
            "justify_content": null,
            "justify_items": null,
            "left": null,
            "margin": null,
            "max_height": null,
            "max_width": null,
            "min_height": null,
            "min_width": null,
            "object_fit": null,
            "object_position": null,
            "order": null,
            "overflow": null,
            "overflow_x": null,
            "overflow_y": null,
            "padding": null,
            "right": null,
            "top": null,
            "visibility": null,
            "width": null
          }
        },
        "4c67402ef37e472a9e9e253be89a0951": {
          "model_module": "@jupyter-widgets/controls",
          "model_name": "ProgressStyleModel",
          "model_module_version": "1.5.0",
          "state": {
            "_model_module": "@jupyter-widgets/controls",
            "_model_module_version": "1.5.0",
            "_model_name": "ProgressStyleModel",
            "_view_count": null,
            "_view_module": "@jupyter-widgets/base",
            "_view_module_version": "1.2.0",
            "_view_name": "StyleView",
            "bar_color": null,
            "description_width": ""
          }
        },
        "6f4eddaea3de455dbd780b75c186b1ab": {
          "model_module": "@jupyter-widgets/base",
          "model_name": "LayoutModel",
          "model_module_version": "1.2.0",
          "state": {
            "_model_module": "@jupyter-widgets/base",
            "_model_module_version": "1.2.0",
            "_model_name": "LayoutModel",
            "_view_count": null,
            "_view_module": "@jupyter-widgets/base",
            "_view_module_version": "1.2.0",
            "_view_name": "LayoutView",
            "align_content": null,
            "align_items": null,
            "align_self": null,
            "border": null,
            "bottom": null,
            "display": null,
            "flex": null,
            "flex_flow": null,
            "grid_area": null,
            "grid_auto_columns": null,
            "grid_auto_flow": null,
            "grid_auto_rows": null,
            "grid_column": null,
            "grid_gap": null,
            "grid_row": null,
            "grid_template_areas": null,
            "grid_template_columns": null,
            "grid_template_rows": null,
            "height": null,
            "justify_content": null,
            "justify_items": null,
            "left": null,
            "margin": null,
            "max_height": null,
            "max_width": null,
            "min_height": null,
            "min_width": null,
            "object_fit": null,
            "object_position": null,
            "order": null,
            "overflow": null,
            "overflow_x": null,
            "overflow_y": null,
            "padding": null,
            "right": null,
            "top": null,
            "visibility": null,
            "width": null
          }
        },
        "c831694d4f494322920e8bc0fcc3f6f3": {
          "model_module": "@jupyter-widgets/controls",
          "model_name": "DescriptionStyleModel",
          "model_module_version": "1.5.0",
          "state": {
            "_model_module": "@jupyter-widgets/controls",
            "_model_module_version": "1.5.0",
            "_model_name": "DescriptionStyleModel",
            "_view_count": null,
            "_view_module": "@jupyter-widgets/base",
            "_view_module_version": "1.2.0",
            "_view_name": "StyleView",
            "description_width": ""
          }
        },
        "c46d544284684d83b0bde6e4c789d47a": {
          "model_module": "@jupyter-widgets/controls",
          "model_name": "HBoxModel",
          "model_module_version": "1.5.0",
          "state": {
            "_dom_classes": [],
            "_model_module": "@jupyter-widgets/controls",
            "_model_module_version": "1.5.0",
            "_model_name": "HBoxModel",
            "_view_count": null,
            "_view_module": "@jupyter-widgets/controls",
            "_view_module_version": "1.5.0",
            "_view_name": "HBoxView",
            "box_style": "",
            "children": [
              "IPY_MODEL_3e6a5db79a8f484d8e3f6865138e898f",
              "IPY_MODEL_c6ba9628b8e8437ea039c3ac45ad37ce",
              "IPY_MODEL_be442e462b28447eb59caf0e3228cbda"
            ],
            "layout": "IPY_MODEL_d01910dd8908445390e088414c3ebf2b"
          }
        },
        "3e6a5db79a8f484d8e3f6865138e898f": {
          "model_module": "@jupyter-widgets/controls",
          "model_name": "HTMLModel",
          "model_module_version": "1.5.0",
          "state": {
            "_dom_classes": [],
            "_model_module": "@jupyter-widgets/controls",
            "_model_module_version": "1.5.0",
            "_model_name": "HTMLModel",
            "_view_count": null,
            "_view_module": "@jupyter-widgets/controls",
            "_view_module_version": "1.5.0",
            "_view_name": "HTMLView",
            "description": "",
            "description_tooltip": null,
            "layout": "IPY_MODEL_af43dcaa10624fbf9a21669f35bab271",
            "placeholder": "​",
            "style": "IPY_MODEL_b1e27097668748699cfc19a5e3b13613",
            "value": "vocab.txt: 100%"
          }
        },
        "c6ba9628b8e8437ea039c3ac45ad37ce": {
          "model_module": "@jupyter-widgets/controls",
          "model_name": "FloatProgressModel",
          "model_module_version": "1.5.0",
          "state": {
            "_dom_classes": [],
            "_model_module": "@jupyter-widgets/controls",
            "_model_module_version": "1.5.0",
            "_model_name": "FloatProgressModel",
            "_view_count": null,
            "_view_module": "@jupyter-widgets/controls",
            "_view_module_version": "1.5.0",
            "_view_name": "ProgressView",
            "bar_style": "success",
            "description": "",
            "description_tooltip": null,
            "layout": "IPY_MODEL_4071db54bf6d448f8e4f56752073528b",
            "max": 231508,
            "min": 0,
            "orientation": "horizontal",
            "style": "IPY_MODEL_d88a3b24b92f452ea293e64380eced49",
            "value": 231508
          }
        },
        "be442e462b28447eb59caf0e3228cbda": {
          "model_module": "@jupyter-widgets/controls",
          "model_name": "HTMLModel",
          "model_module_version": "1.5.0",
          "state": {
            "_dom_classes": [],
            "_model_module": "@jupyter-widgets/controls",
            "_model_module_version": "1.5.0",
            "_model_name": "HTMLModel",
            "_view_count": null,
            "_view_module": "@jupyter-widgets/controls",
            "_view_module_version": "1.5.0",
            "_view_name": "HTMLView",
            "description": "",
            "description_tooltip": null,
            "layout": "IPY_MODEL_5e148291a1cd4a58816bf8599a542540",
            "placeholder": "​",
            "style": "IPY_MODEL_676eb90bd7bf4715b0d1785e27afdbb0",
            "value": " 232k/232k [00:00&lt;00:00, 3.19MB/s]"
          }
        },
        "d01910dd8908445390e088414c3ebf2b": {
          "model_module": "@jupyter-widgets/base",
          "model_name": "LayoutModel",
          "model_module_version": "1.2.0",
          "state": {
            "_model_module": "@jupyter-widgets/base",
            "_model_module_version": "1.2.0",
            "_model_name": "LayoutModel",
            "_view_count": null,
            "_view_module": "@jupyter-widgets/base",
            "_view_module_version": "1.2.0",
            "_view_name": "LayoutView",
            "align_content": null,
            "align_items": null,
            "align_self": null,
            "border": null,
            "bottom": null,
            "display": null,
            "flex": null,
            "flex_flow": null,
            "grid_area": null,
            "grid_auto_columns": null,
            "grid_auto_flow": null,
            "grid_auto_rows": null,
            "grid_column": null,
            "grid_gap": null,
            "grid_row": null,
            "grid_template_areas": null,
            "grid_template_columns": null,
            "grid_template_rows": null,
            "height": null,
            "justify_content": null,
            "justify_items": null,
            "left": null,
            "margin": null,
            "max_height": null,
            "max_width": null,
            "min_height": null,
            "min_width": null,
            "object_fit": null,
            "object_position": null,
            "order": null,
            "overflow": null,
            "overflow_x": null,
            "overflow_y": null,
            "padding": null,
            "right": null,
            "top": null,
            "visibility": null,
            "width": null
          }
        },
        "af43dcaa10624fbf9a21669f35bab271": {
          "model_module": "@jupyter-widgets/base",
          "model_name": "LayoutModel",
          "model_module_version": "1.2.0",
          "state": {
            "_model_module": "@jupyter-widgets/base",
            "_model_module_version": "1.2.0",
            "_model_name": "LayoutModel",
            "_view_count": null,
            "_view_module": "@jupyter-widgets/base",
            "_view_module_version": "1.2.0",
            "_view_name": "LayoutView",
            "align_content": null,
            "align_items": null,
            "align_self": null,
            "border": null,
            "bottom": null,
            "display": null,
            "flex": null,
            "flex_flow": null,
            "grid_area": null,
            "grid_auto_columns": null,
            "grid_auto_flow": null,
            "grid_auto_rows": null,
            "grid_column": null,
            "grid_gap": null,
            "grid_row": null,
            "grid_template_areas": null,
            "grid_template_columns": null,
            "grid_template_rows": null,
            "height": null,
            "justify_content": null,
            "justify_items": null,
            "left": null,
            "margin": null,
            "max_height": null,
            "max_width": null,
            "min_height": null,
            "min_width": null,
            "object_fit": null,
            "object_position": null,
            "order": null,
            "overflow": null,
            "overflow_x": null,
            "overflow_y": null,
            "padding": null,
            "right": null,
            "top": null,
            "visibility": null,
            "width": null
          }
        },
        "b1e27097668748699cfc19a5e3b13613": {
          "model_module": "@jupyter-widgets/controls",
          "model_name": "DescriptionStyleModel",
          "model_module_version": "1.5.0",
          "state": {
            "_model_module": "@jupyter-widgets/controls",
            "_model_module_version": "1.5.0",
            "_model_name": "DescriptionStyleModel",
            "_view_count": null,
            "_view_module": "@jupyter-widgets/base",
            "_view_module_version": "1.2.0",
            "_view_name": "StyleView",
            "description_width": ""
          }
        },
        "4071db54bf6d448f8e4f56752073528b": {
          "model_module": "@jupyter-widgets/base",
          "model_name": "LayoutModel",
          "model_module_version": "1.2.0",
          "state": {
            "_model_module": "@jupyter-widgets/base",
            "_model_module_version": "1.2.0",
            "_model_name": "LayoutModel",
            "_view_count": null,
            "_view_module": "@jupyter-widgets/base",
            "_view_module_version": "1.2.0",
            "_view_name": "LayoutView",
            "align_content": null,
            "align_items": null,
            "align_self": null,
            "border": null,
            "bottom": null,
            "display": null,
            "flex": null,
            "flex_flow": null,
            "grid_area": null,
            "grid_auto_columns": null,
            "grid_auto_flow": null,
            "grid_auto_rows": null,
            "grid_column": null,
            "grid_gap": null,
            "grid_row": null,
            "grid_template_areas": null,
            "grid_template_columns": null,
            "grid_template_rows": null,
            "height": null,
            "justify_content": null,
            "justify_items": null,
            "left": null,
            "margin": null,
            "max_height": null,
            "max_width": null,
            "min_height": null,
            "min_width": null,
            "object_fit": null,
            "object_position": null,
            "order": null,
            "overflow": null,
            "overflow_x": null,
            "overflow_y": null,
            "padding": null,
            "right": null,
            "top": null,
            "visibility": null,
            "width": null
          }
        },
        "d88a3b24b92f452ea293e64380eced49": {
          "model_module": "@jupyter-widgets/controls",
          "model_name": "ProgressStyleModel",
          "model_module_version": "1.5.0",
          "state": {
            "_model_module": "@jupyter-widgets/controls",
            "_model_module_version": "1.5.0",
            "_model_name": "ProgressStyleModel",
            "_view_count": null,
            "_view_module": "@jupyter-widgets/base",
            "_view_module_version": "1.2.0",
            "_view_name": "StyleView",
            "bar_color": null,
            "description_width": ""
          }
        },
        "5e148291a1cd4a58816bf8599a542540": {
          "model_module": "@jupyter-widgets/base",
          "model_name": "LayoutModel",
          "model_module_version": "1.2.0",
          "state": {
            "_model_module": "@jupyter-widgets/base",
            "_model_module_version": "1.2.0",
            "_model_name": "LayoutModel",
            "_view_count": null,
            "_view_module": "@jupyter-widgets/base",
            "_view_module_version": "1.2.0",
            "_view_name": "LayoutView",
            "align_content": null,
            "align_items": null,
            "align_self": null,
            "border": null,
            "bottom": null,
            "display": null,
            "flex": null,
            "flex_flow": null,
            "grid_area": null,
            "grid_auto_columns": null,
            "grid_auto_flow": null,
            "grid_auto_rows": null,
            "grid_column": null,
            "grid_gap": null,
            "grid_row": null,
            "grid_template_areas": null,
            "grid_template_columns": null,
            "grid_template_rows": null,
            "height": null,
            "justify_content": null,
            "justify_items": null,
            "left": null,
            "margin": null,
            "max_height": null,
            "max_width": null,
            "min_height": null,
            "min_width": null,
            "object_fit": null,
            "object_position": null,
            "order": null,
            "overflow": null,
            "overflow_x": null,
            "overflow_y": null,
            "padding": null,
            "right": null,
            "top": null,
            "visibility": null,
            "width": null
          }
        },
        "676eb90bd7bf4715b0d1785e27afdbb0": {
          "model_module": "@jupyter-widgets/controls",
          "model_name": "DescriptionStyleModel",
          "model_module_version": "1.5.0",
          "state": {
            "_model_module": "@jupyter-widgets/controls",
            "_model_module_version": "1.5.0",
            "_model_name": "DescriptionStyleModel",
            "_view_count": null,
            "_view_module": "@jupyter-widgets/base",
            "_view_module_version": "1.2.0",
            "_view_name": "StyleView",
            "description_width": ""
          }
        },
        "9cb3490e22524f5491af7a7153a49cf6": {
          "model_module": "@jupyter-widgets/controls",
          "model_name": "HBoxModel",
          "model_module_version": "1.5.0",
          "state": {
            "_dom_classes": [],
            "_model_module": "@jupyter-widgets/controls",
            "_model_module_version": "1.5.0",
            "_model_name": "HBoxModel",
            "_view_count": null,
            "_view_module": "@jupyter-widgets/controls",
            "_view_module_version": "1.5.0",
            "_view_name": "HBoxView",
            "box_style": "",
            "children": [
              "IPY_MODEL_1994361990d144dd95465072ce731033",
              "IPY_MODEL_fba68750a3f549c7b375b41dc39e0408",
              "IPY_MODEL_ddbc06e0bb744465ace022569e691c25"
            ],
            "layout": "IPY_MODEL_203301c8ba724b048f84436b4bb3a669"
          }
        },
        "1994361990d144dd95465072ce731033": {
          "model_module": "@jupyter-widgets/controls",
          "model_name": "HTMLModel",
          "model_module_version": "1.5.0",
          "state": {
            "_dom_classes": [],
            "_model_module": "@jupyter-widgets/controls",
            "_model_module_version": "1.5.0",
            "_model_name": "HTMLModel",
            "_view_count": null,
            "_view_module": "@jupyter-widgets/controls",
            "_view_module_version": "1.5.0",
            "_view_name": "HTMLView",
            "description": "",
            "description_tooltip": null,
            "layout": "IPY_MODEL_aa7023ee74e640a5b8ccbd52ff9a436c",
            "placeholder": "​",
            "style": "IPY_MODEL_af42d44e20d34d7f8007d5ceb94b9394",
            "value": "tokenizer.json: 100%"
          }
        },
        "fba68750a3f549c7b375b41dc39e0408": {
          "model_module": "@jupyter-widgets/controls",
          "model_name": "FloatProgressModel",
          "model_module_version": "1.5.0",
          "state": {
            "_dom_classes": [],
            "_model_module": "@jupyter-widgets/controls",
            "_model_module_version": "1.5.0",
            "_model_name": "FloatProgressModel",
            "_view_count": null,
            "_view_module": "@jupyter-widgets/controls",
            "_view_module_version": "1.5.0",
            "_view_name": "ProgressView",
            "bar_style": "success",
            "description": "",
            "description_tooltip": null,
            "layout": "IPY_MODEL_e45a253e49ea4838a0629db3dda3006d",
            "max": 466062,
            "min": 0,
            "orientation": "horizontal",
            "style": "IPY_MODEL_cf66a94ab97a44aeb3587c8200f9dea0",
            "value": 466062
          }
        },
        "ddbc06e0bb744465ace022569e691c25": {
          "model_module": "@jupyter-widgets/controls",
          "model_name": "HTMLModel",
          "model_module_version": "1.5.0",
          "state": {
            "_dom_classes": [],
            "_model_module": "@jupyter-widgets/controls",
            "_model_module_version": "1.5.0",
            "_model_name": "HTMLModel",
            "_view_count": null,
            "_view_module": "@jupyter-widgets/controls",
            "_view_module_version": "1.5.0",
            "_view_name": "HTMLView",
            "description": "",
            "description_tooltip": null,
            "layout": "IPY_MODEL_1d18395f8b2349dcac7a108175202252",
            "placeholder": "​",
            "style": "IPY_MODEL_20c5653634464994b65ca73f338fdc7c",
            "value": " 466k/466k [00:00&lt;00:00, 5.89MB/s]"
          }
        },
        "203301c8ba724b048f84436b4bb3a669": {
          "model_module": "@jupyter-widgets/base",
          "model_name": "LayoutModel",
          "model_module_version": "1.2.0",
          "state": {
            "_model_module": "@jupyter-widgets/base",
            "_model_module_version": "1.2.0",
            "_model_name": "LayoutModel",
            "_view_count": null,
            "_view_module": "@jupyter-widgets/base",
            "_view_module_version": "1.2.0",
            "_view_name": "LayoutView",
            "align_content": null,
            "align_items": null,
            "align_self": null,
            "border": null,
            "bottom": null,
            "display": null,
            "flex": null,
            "flex_flow": null,
            "grid_area": null,
            "grid_auto_columns": null,
            "grid_auto_flow": null,
            "grid_auto_rows": null,
            "grid_column": null,
            "grid_gap": null,
            "grid_row": null,
            "grid_template_areas": null,
            "grid_template_columns": null,
            "grid_template_rows": null,
            "height": null,
            "justify_content": null,
            "justify_items": null,
            "left": null,
            "margin": null,
            "max_height": null,
            "max_width": null,
            "min_height": null,
            "min_width": null,
            "object_fit": null,
            "object_position": null,
            "order": null,
            "overflow": null,
            "overflow_x": null,
            "overflow_y": null,
            "padding": null,
            "right": null,
            "top": null,
            "visibility": null,
            "width": null
          }
        },
        "aa7023ee74e640a5b8ccbd52ff9a436c": {
          "model_module": "@jupyter-widgets/base",
          "model_name": "LayoutModel",
          "model_module_version": "1.2.0",
          "state": {
            "_model_module": "@jupyter-widgets/base",
            "_model_module_version": "1.2.0",
            "_model_name": "LayoutModel",
            "_view_count": null,
            "_view_module": "@jupyter-widgets/base",
            "_view_module_version": "1.2.0",
            "_view_name": "LayoutView",
            "align_content": null,
            "align_items": null,
            "align_self": null,
            "border": null,
            "bottom": null,
            "display": null,
            "flex": null,
            "flex_flow": null,
            "grid_area": null,
            "grid_auto_columns": null,
            "grid_auto_flow": null,
            "grid_auto_rows": null,
            "grid_column": null,
            "grid_gap": null,
            "grid_row": null,
            "grid_template_areas": null,
            "grid_template_columns": null,
            "grid_template_rows": null,
            "height": null,
            "justify_content": null,
            "justify_items": null,
            "left": null,
            "margin": null,
            "max_height": null,
            "max_width": null,
            "min_height": null,
            "min_width": null,
            "object_fit": null,
            "object_position": null,
            "order": null,
            "overflow": null,
            "overflow_x": null,
            "overflow_y": null,
            "padding": null,
            "right": null,
            "top": null,
            "visibility": null,
            "width": null
          }
        },
        "af42d44e20d34d7f8007d5ceb94b9394": {
          "model_module": "@jupyter-widgets/controls",
          "model_name": "DescriptionStyleModel",
          "model_module_version": "1.5.0",
          "state": {
            "_model_module": "@jupyter-widgets/controls",
            "_model_module_version": "1.5.0",
            "_model_name": "DescriptionStyleModel",
            "_view_count": null,
            "_view_module": "@jupyter-widgets/base",
            "_view_module_version": "1.2.0",
            "_view_name": "StyleView",
            "description_width": ""
          }
        },
        "e45a253e49ea4838a0629db3dda3006d": {
          "model_module": "@jupyter-widgets/base",
          "model_name": "LayoutModel",
          "model_module_version": "1.2.0",
          "state": {
            "_model_module": "@jupyter-widgets/base",
            "_model_module_version": "1.2.0",
            "_model_name": "LayoutModel",
            "_view_count": null,
            "_view_module": "@jupyter-widgets/base",
            "_view_module_version": "1.2.0",
            "_view_name": "LayoutView",
            "align_content": null,
            "align_items": null,
            "align_self": null,
            "border": null,
            "bottom": null,
            "display": null,
            "flex": null,
            "flex_flow": null,
            "grid_area": null,
            "grid_auto_columns": null,
            "grid_auto_flow": null,
            "grid_auto_rows": null,
            "grid_column": null,
            "grid_gap": null,
            "grid_row": null,
            "grid_template_areas": null,
            "grid_template_columns": null,
            "grid_template_rows": null,
            "height": null,
            "justify_content": null,
            "justify_items": null,
            "left": null,
            "margin": null,
            "max_height": null,
            "max_width": null,
            "min_height": null,
            "min_width": null,
            "object_fit": null,
            "object_position": null,
            "order": null,
            "overflow": null,
            "overflow_x": null,
            "overflow_y": null,
            "padding": null,
            "right": null,
            "top": null,
            "visibility": null,
            "width": null
          }
        },
        "cf66a94ab97a44aeb3587c8200f9dea0": {
          "model_module": "@jupyter-widgets/controls",
          "model_name": "ProgressStyleModel",
          "model_module_version": "1.5.0",
          "state": {
            "_model_module": "@jupyter-widgets/controls",
            "_model_module_version": "1.5.0",
            "_model_name": "ProgressStyleModel",
            "_view_count": null,
            "_view_module": "@jupyter-widgets/base",
            "_view_module_version": "1.2.0",
            "_view_name": "StyleView",
            "bar_color": null,
            "description_width": ""
          }
        },
        "1d18395f8b2349dcac7a108175202252": {
          "model_module": "@jupyter-widgets/base",
          "model_name": "LayoutModel",
          "model_module_version": "1.2.0",
          "state": {
            "_model_module": "@jupyter-widgets/base",
            "_model_module_version": "1.2.0",
            "_model_name": "LayoutModel",
            "_view_count": null,
            "_view_module": "@jupyter-widgets/base",
            "_view_module_version": "1.2.0",
            "_view_name": "LayoutView",
            "align_content": null,
            "align_items": null,
            "align_self": null,
            "border": null,
            "bottom": null,
            "display": null,
            "flex": null,
            "flex_flow": null,
            "grid_area": null,
            "grid_auto_columns": null,
            "grid_auto_flow": null,
            "grid_auto_rows": null,
            "grid_column": null,
            "grid_gap": null,
            "grid_row": null,
            "grid_template_areas": null,
            "grid_template_columns": null,
            "grid_template_rows": null,
            "height": null,
            "justify_content": null,
            "justify_items": null,
            "left": null,
            "margin": null,
            "max_height": null,
            "max_width": null,
            "min_height": null,
            "min_width": null,
            "object_fit": null,
            "object_position": null,
            "order": null,
            "overflow": null,
            "overflow_x": null,
            "overflow_y": null,
            "padding": null,
            "right": null,
            "top": null,
            "visibility": null,
            "width": null
          }
        },
        "20c5653634464994b65ca73f338fdc7c": {
          "model_module": "@jupyter-widgets/controls",
          "model_name": "DescriptionStyleModel",
          "model_module_version": "1.5.0",
          "state": {
            "_model_module": "@jupyter-widgets/controls",
            "_model_module_version": "1.5.0",
            "_model_name": "DescriptionStyleModel",
            "_view_count": null,
            "_view_module": "@jupyter-widgets/base",
            "_view_module_version": "1.2.0",
            "_view_name": "StyleView",
            "description_width": ""
          }
        },
        "0f93b8ce9a4c4863b64b6641fb637c5e": {
          "model_module": "@jupyter-widgets/controls",
          "model_name": "HBoxModel",
          "model_module_version": "1.5.0",
          "state": {
            "_dom_classes": [],
            "_model_module": "@jupyter-widgets/controls",
            "_model_module_version": "1.5.0",
            "_model_name": "HBoxModel",
            "_view_count": null,
            "_view_module": "@jupyter-widgets/controls",
            "_view_module_version": "1.5.0",
            "_view_name": "HBoxView",
            "box_style": "",
            "children": [
              "IPY_MODEL_8bf4d0d93cf44fd395b591f48105e9bc",
              "IPY_MODEL_cd9cf8e02169466cbaafe46dc621963e",
              "IPY_MODEL_34b542eaf788426a84b67c34b5c2fd26"
            ],
            "layout": "IPY_MODEL_54dfd15babc540a5abaed14b0fc32a50"
          }
        },
        "8bf4d0d93cf44fd395b591f48105e9bc": {
          "model_module": "@jupyter-widgets/controls",
          "model_name": "HTMLModel",
          "model_module_version": "1.5.0",
          "state": {
            "_dom_classes": [],
            "_model_module": "@jupyter-widgets/controls",
            "_model_module_version": "1.5.0",
            "_model_name": "HTMLModel",
            "_view_count": null,
            "_view_module": "@jupyter-widgets/controls",
            "_view_module_version": "1.5.0",
            "_view_name": "HTMLView",
            "description": "",
            "description_tooltip": null,
            "layout": "IPY_MODEL_f1f596dc24c548d1b356acdd67c88923",
            "placeholder": "​",
            "style": "IPY_MODEL_9057896386f1423e9bdb9f4e8871a7d4",
            "value": "config.json: 100%"
          }
        },
        "cd9cf8e02169466cbaafe46dc621963e": {
          "model_module": "@jupyter-widgets/controls",
          "model_name": "FloatProgressModel",
          "model_module_version": "1.5.0",
          "state": {
            "_dom_classes": [],
            "_model_module": "@jupyter-widgets/controls",
            "_model_module_version": "1.5.0",
            "_model_name": "FloatProgressModel",
            "_view_count": null,
            "_view_module": "@jupyter-widgets/controls",
            "_view_module_version": "1.5.0",
            "_view_name": "ProgressView",
            "bar_style": "success",
            "description": "",
            "description_tooltip": null,
            "layout": "IPY_MODEL_8e2d5b3fa34e4f34b52981756b9b1beb",
            "max": 570,
            "min": 0,
            "orientation": "horizontal",
            "style": "IPY_MODEL_2c4dfffea1384bc8a4a7dc37920dfd02",
            "value": 570
          }
        },
        "34b542eaf788426a84b67c34b5c2fd26": {
          "model_module": "@jupyter-widgets/controls",
          "model_name": "HTMLModel",
          "model_module_version": "1.5.0",
          "state": {
            "_dom_classes": [],
            "_model_module": "@jupyter-widgets/controls",
            "_model_module_version": "1.5.0",
            "_model_name": "HTMLModel",
            "_view_count": null,
            "_view_module": "@jupyter-widgets/controls",
            "_view_module_version": "1.5.0",
            "_view_name": "HTMLView",
            "description": "",
            "description_tooltip": null,
            "layout": "IPY_MODEL_c448e65a2b824613bcb39003794ff997",
            "placeholder": "​",
            "style": "IPY_MODEL_4c7742a9ac6f4966b52a3d0b6cbb949f",
            "value": " 570/570 [00:00&lt;00:00, 15.8kB/s]"
          }
        },
        "54dfd15babc540a5abaed14b0fc32a50": {
          "model_module": "@jupyter-widgets/base",
          "model_name": "LayoutModel",
          "model_module_version": "1.2.0",
          "state": {
            "_model_module": "@jupyter-widgets/base",
            "_model_module_version": "1.2.0",
            "_model_name": "LayoutModel",
            "_view_count": null,
            "_view_module": "@jupyter-widgets/base",
            "_view_module_version": "1.2.0",
            "_view_name": "LayoutView",
            "align_content": null,
            "align_items": null,
            "align_self": null,
            "border": null,
            "bottom": null,
            "display": null,
            "flex": null,
            "flex_flow": null,
            "grid_area": null,
            "grid_auto_columns": null,
            "grid_auto_flow": null,
            "grid_auto_rows": null,
            "grid_column": null,
            "grid_gap": null,
            "grid_row": null,
            "grid_template_areas": null,
            "grid_template_columns": null,
            "grid_template_rows": null,
            "height": null,
            "justify_content": null,
            "justify_items": null,
            "left": null,
            "margin": null,
            "max_height": null,
            "max_width": null,
            "min_height": null,
            "min_width": null,
            "object_fit": null,
            "object_position": null,
            "order": null,
            "overflow": null,
            "overflow_x": null,
            "overflow_y": null,
            "padding": null,
            "right": null,
            "top": null,
            "visibility": null,
            "width": null
          }
        },
        "f1f596dc24c548d1b356acdd67c88923": {
          "model_module": "@jupyter-widgets/base",
          "model_name": "LayoutModel",
          "model_module_version": "1.2.0",
          "state": {
            "_model_module": "@jupyter-widgets/base",
            "_model_module_version": "1.2.0",
            "_model_name": "LayoutModel",
            "_view_count": null,
            "_view_module": "@jupyter-widgets/base",
            "_view_module_version": "1.2.0",
            "_view_name": "LayoutView",
            "align_content": null,
            "align_items": null,
            "align_self": null,
            "border": null,
            "bottom": null,
            "display": null,
            "flex": null,
            "flex_flow": null,
            "grid_area": null,
            "grid_auto_columns": null,
            "grid_auto_flow": null,
            "grid_auto_rows": null,
            "grid_column": null,
            "grid_gap": null,
            "grid_row": null,
            "grid_template_areas": null,
            "grid_template_columns": null,
            "grid_template_rows": null,
            "height": null,
            "justify_content": null,
            "justify_items": null,
            "left": null,
            "margin": null,
            "max_height": null,
            "max_width": null,
            "min_height": null,
            "min_width": null,
            "object_fit": null,
            "object_position": null,
            "order": null,
            "overflow": null,
            "overflow_x": null,
            "overflow_y": null,
            "padding": null,
            "right": null,
            "top": null,
            "visibility": null,
            "width": null
          }
        },
        "9057896386f1423e9bdb9f4e8871a7d4": {
          "model_module": "@jupyter-widgets/controls",
          "model_name": "DescriptionStyleModel",
          "model_module_version": "1.5.0",
          "state": {
            "_model_module": "@jupyter-widgets/controls",
            "_model_module_version": "1.5.0",
            "_model_name": "DescriptionStyleModel",
            "_view_count": null,
            "_view_module": "@jupyter-widgets/base",
            "_view_module_version": "1.2.0",
            "_view_name": "StyleView",
            "description_width": ""
          }
        },
        "8e2d5b3fa34e4f34b52981756b9b1beb": {
          "model_module": "@jupyter-widgets/base",
          "model_name": "LayoutModel",
          "model_module_version": "1.2.0",
          "state": {
            "_model_module": "@jupyter-widgets/base",
            "_model_module_version": "1.2.0",
            "_model_name": "LayoutModel",
            "_view_count": null,
            "_view_module": "@jupyter-widgets/base",
            "_view_module_version": "1.2.0",
            "_view_name": "LayoutView",
            "align_content": null,
            "align_items": null,
            "align_self": null,
            "border": null,
            "bottom": null,
            "display": null,
            "flex": null,
            "flex_flow": null,
            "grid_area": null,
            "grid_auto_columns": null,
            "grid_auto_flow": null,
            "grid_auto_rows": null,
            "grid_column": null,
            "grid_gap": null,
            "grid_row": null,
            "grid_template_areas": null,
            "grid_template_columns": null,
            "grid_template_rows": null,
            "height": null,
            "justify_content": null,
            "justify_items": null,
            "left": null,
            "margin": null,
            "max_height": null,
            "max_width": null,
            "min_height": null,
            "min_width": null,
            "object_fit": null,
            "object_position": null,
            "order": null,
            "overflow": null,
            "overflow_x": null,
            "overflow_y": null,
            "padding": null,
            "right": null,
            "top": null,
            "visibility": null,
            "width": null
          }
        },
        "2c4dfffea1384bc8a4a7dc37920dfd02": {
          "model_module": "@jupyter-widgets/controls",
          "model_name": "ProgressStyleModel",
          "model_module_version": "1.5.0",
          "state": {
            "_model_module": "@jupyter-widgets/controls",
            "_model_module_version": "1.5.0",
            "_model_name": "ProgressStyleModel",
            "_view_count": null,
            "_view_module": "@jupyter-widgets/base",
            "_view_module_version": "1.2.0",
            "_view_name": "StyleView",
            "bar_color": null,
            "description_width": ""
          }
        },
        "c448e65a2b824613bcb39003794ff997": {
          "model_module": "@jupyter-widgets/base",
          "model_name": "LayoutModel",
          "model_module_version": "1.2.0",
          "state": {
            "_model_module": "@jupyter-widgets/base",
            "_model_module_version": "1.2.0",
            "_model_name": "LayoutModel",
            "_view_count": null,
            "_view_module": "@jupyter-widgets/base",
            "_view_module_version": "1.2.0",
            "_view_name": "LayoutView",
            "align_content": null,
            "align_items": null,
            "align_self": null,
            "border": null,
            "bottom": null,
            "display": null,
            "flex": null,
            "flex_flow": null,
            "grid_area": null,
            "grid_auto_columns": null,
            "grid_auto_flow": null,
            "grid_auto_rows": null,
            "grid_column": null,
            "grid_gap": null,
            "grid_row": null,
            "grid_template_areas": null,
            "grid_template_columns": null,
            "grid_template_rows": null,
            "height": null,
            "justify_content": null,
            "justify_items": null,
            "left": null,
            "margin": null,
            "max_height": null,
            "max_width": null,
            "min_height": null,
            "min_width": null,
            "object_fit": null,
            "object_position": null,
            "order": null,
            "overflow": null,
            "overflow_x": null,
            "overflow_y": null,
            "padding": null,
            "right": null,
            "top": null,
            "visibility": null,
            "width": null
          }
        },
        "4c7742a9ac6f4966b52a3d0b6cbb949f": {
          "model_module": "@jupyter-widgets/controls",
          "model_name": "DescriptionStyleModel",
          "model_module_version": "1.5.0",
          "state": {
            "_model_module": "@jupyter-widgets/controls",
            "_model_module_version": "1.5.0",
            "_model_name": "DescriptionStyleModel",
            "_view_count": null,
            "_view_module": "@jupyter-widgets/base",
            "_view_module_version": "1.2.0",
            "_view_name": "StyleView",
            "description_width": ""
          }
        },
        "335d5f0aa5364466a41ea476e28ffae0": {
          "model_module": "@jupyter-widgets/controls",
          "model_name": "HBoxModel",
          "model_module_version": "1.5.0",
          "state": {
            "_dom_classes": [],
            "_model_module": "@jupyter-widgets/controls",
            "_model_module_version": "1.5.0",
            "_model_name": "HBoxModel",
            "_view_count": null,
            "_view_module": "@jupyter-widgets/controls",
            "_view_module_version": "1.5.0",
            "_view_name": "HBoxView",
            "box_style": "",
            "children": [
              "IPY_MODEL_57b28572611b4b70b627c7205fb57a04",
              "IPY_MODEL_a137f8698f264ca2808ac8106e344de1",
              "IPY_MODEL_f91821ac88294bdd822f43ec3a22eb3e"
            ],
            "layout": "IPY_MODEL_7b830b1bdd04424184de04f3f97aceaf"
          }
        },
        "57b28572611b4b70b627c7205fb57a04": {
          "model_module": "@jupyter-widgets/controls",
          "model_name": "HTMLModel",
          "model_module_version": "1.5.0",
          "state": {
            "_dom_classes": [],
            "_model_module": "@jupyter-widgets/controls",
            "_model_module_version": "1.5.0",
            "_model_name": "HTMLModel",
            "_view_count": null,
            "_view_module": "@jupyter-widgets/controls",
            "_view_module_version": "1.5.0",
            "_view_name": "HTMLView",
            "description": "",
            "description_tooltip": null,
            "layout": "IPY_MODEL_4d00c1e81e5c4d3e820884e2e682924f",
            "placeholder": "​",
            "style": "IPY_MODEL_206f3881d16e428f88e94e4fbde46d2c",
            "value": "model.safetensors: 100%"
          }
        },
        "a137f8698f264ca2808ac8106e344de1": {
          "model_module": "@jupyter-widgets/controls",
          "model_name": "FloatProgressModel",
          "model_module_version": "1.5.0",
          "state": {
            "_dom_classes": [],
            "_model_module": "@jupyter-widgets/controls",
            "_model_module_version": "1.5.0",
            "_model_name": "FloatProgressModel",
            "_view_count": null,
            "_view_module": "@jupyter-widgets/controls",
            "_view_module_version": "1.5.0",
            "_view_name": "ProgressView",
            "bar_style": "success",
            "description": "",
            "description_tooltip": null,
            "layout": "IPY_MODEL_ef61b322c348486ba5430f7dabb8954d",
            "max": 440449768,
            "min": 0,
            "orientation": "horizontal",
            "style": "IPY_MODEL_4a017062aefb41b8a07514a77be1eefe",
            "value": 440449768
          }
        },
        "f91821ac88294bdd822f43ec3a22eb3e": {
          "model_module": "@jupyter-widgets/controls",
          "model_name": "HTMLModel",
          "model_module_version": "1.5.0",
          "state": {
            "_dom_classes": [],
            "_model_module": "@jupyter-widgets/controls",
            "_model_module_version": "1.5.0",
            "_model_name": "HTMLModel",
            "_view_count": null,
            "_view_module": "@jupyter-widgets/controls",
            "_view_module_version": "1.5.0",
            "_view_name": "HTMLView",
            "description": "",
            "description_tooltip": null,
            "layout": "IPY_MODEL_0b843464d5294510a444b33290370d9c",
            "placeholder": "​",
            "style": "IPY_MODEL_cf8cc26482fa4cc1b177e483d79631b2",
            "value": " 440M/440M [00:05&lt;00:00, 27.6MB/s]"
          }
        },
        "7b830b1bdd04424184de04f3f97aceaf": {
          "model_module": "@jupyter-widgets/base",
          "model_name": "LayoutModel",
          "model_module_version": "1.2.0",
          "state": {
            "_model_module": "@jupyter-widgets/base",
            "_model_module_version": "1.2.0",
            "_model_name": "LayoutModel",
            "_view_count": null,
            "_view_module": "@jupyter-widgets/base",
            "_view_module_version": "1.2.0",
            "_view_name": "LayoutView",
            "align_content": null,
            "align_items": null,
            "align_self": null,
            "border": null,
            "bottom": null,
            "display": null,
            "flex": null,
            "flex_flow": null,
            "grid_area": null,
            "grid_auto_columns": null,
            "grid_auto_flow": null,
            "grid_auto_rows": null,
            "grid_column": null,
            "grid_gap": null,
            "grid_row": null,
            "grid_template_areas": null,
            "grid_template_columns": null,
            "grid_template_rows": null,
            "height": null,
            "justify_content": null,
            "justify_items": null,
            "left": null,
            "margin": null,
            "max_height": null,
            "max_width": null,
            "min_height": null,
            "min_width": null,
            "object_fit": null,
            "object_position": null,
            "order": null,
            "overflow": null,
            "overflow_x": null,
            "overflow_y": null,
            "padding": null,
            "right": null,
            "top": null,
            "visibility": null,
            "width": null
          }
        },
        "4d00c1e81e5c4d3e820884e2e682924f": {
          "model_module": "@jupyter-widgets/base",
          "model_name": "LayoutModel",
          "model_module_version": "1.2.0",
          "state": {
            "_model_module": "@jupyter-widgets/base",
            "_model_module_version": "1.2.0",
            "_model_name": "LayoutModel",
            "_view_count": null,
            "_view_module": "@jupyter-widgets/base",
            "_view_module_version": "1.2.0",
            "_view_name": "LayoutView",
            "align_content": null,
            "align_items": null,
            "align_self": null,
            "border": null,
            "bottom": null,
            "display": null,
            "flex": null,
            "flex_flow": null,
            "grid_area": null,
            "grid_auto_columns": null,
            "grid_auto_flow": null,
            "grid_auto_rows": null,
            "grid_column": null,
            "grid_gap": null,
            "grid_row": null,
            "grid_template_areas": null,
            "grid_template_columns": null,
            "grid_template_rows": null,
            "height": null,
            "justify_content": null,
            "justify_items": null,
            "left": null,
            "margin": null,
            "max_height": null,
            "max_width": null,
            "min_height": null,
            "min_width": null,
            "object_fit": null,
            "object_position": null,
            "order": null,
            "overflow": null,
            "overflow_x": null,
            "overflow_y": null,
            "padding": null,
            "right": null,
            "top": null,
            "visibility": null,
            "width": null
          }
        },
        "206f3881d16e428f88e94e4fbde46d2c": {
          "model_module": "@jupyter-widgets/controls",
          "model_name": "DescriptionStyleModel",
          "model_module_version": "1.5.0",
          "state": {
            "_model_module": "@jupyter-widgets/controls",
            "_model_module_version": "1.5.0",
            "_model_name": "DescriptionStyleModel",
            "_view_count": null,
            "_view_module": "@jupyter-widgets/base",
            "_view_module_version": "1.2.0",
            "_view_name": "StyleView",
            "description_width": ""
          }
        },
        "ef61b322c348486ba5430f7dabb8954d": {
          "model_module": "@jupyter-widgets/base",
          "model_name": "LayoutModel",
          "model_module_version": "1.2.0",
          "state": {
            "_model_module": "@jupyter-widgets/base",
            "_model_module_version": "1.2.0",
            "_model_name": "LayoutModel",
            "_view_count": null,
            "_view_module": "@jupyter-widgets/base",
            "_view_module_version": "1.2.0",
            "_view_name": "LayoutView",
            "align_content": null,
            "align_items": null,
            "align_self": null,
            "border": null,
            "bottom": null,
            "display": null,
            "flex": null,
            "flex_flow": null,
            "grid_area": null,
            "grid_auto_columns": null,
            "grid_auto_flow": null,
            "grid_auto_rows": null,
            "grid_column": null,
            "grid_gap": null,
            "grid_row": null,
            "grid_template_areas": null,
            "grid_template_columns": null,
            "grid_template_rows": null,
            "height": null,
            "justify_content": null,
            "justify_items": null,
            "left": null,
            "margin": null,
            "max_height": null,
            "max_width": null,
            "min_height": null,
            "min_width": null,
            "object_fit": null,
            "object_position": null,
            "order": null,
            "overflow": null,
            "overflow_x": null,
            "overflow_y": null,
            "padding": null,
            "right": null,
            "top": null,
            "visibility": null,
            "width": null
          }
        },
        "4a017062aefb41b8a07514a77be1eefe": {
          "model_module": "@jupyter-widgets/controls",
          "model_name": "ProgressStyleModel",
          "model_module_version": "1.5.0",
          "state": {
            "_model_module": "@jupyter-widgets/controls",
            "_model_module_version": "1.5.0",
            "_model_name": "ProgressStyleModel",
            "_view_count": null,
            "_view_module": "@jupyter-widgets/base",
            "_view_module_version": "1.2.0",
            "_view_name": "StyleView",
            "bar_color": null,
            "description_width": ""
          }
        },
        "0b843464d5294510a444b33290370d9c": {
          "model_module": "@jupyter-widgets/base",
          "model_name": "LayoutModel",
          "model_module_version": "1.2.0",
          "state": {
            "_model_module": "@jupyter-widgets/base",
            "_model_module_version": "1.2.0",
            "_model_name": "LayoutModel",
            "_view_count": null,
            "_view_module": "@jupyter-widgets/base",
            "_view_module_version": "1.2.0",
            "_view_name": "LayoutView",
            "align_content": null,
            "align_items": null,
            "align_self": null,
            "border": null,
            "bottom": null,
            "display": null,
            "flex": null,
            "flex_flow": null,
            "grid_area": null,
            "grid_auto_columns": null,
            "grid_auto_flow": null,
            "grid_auto_rows": null,
            "grid_column": null,
            "grid_gap": null,
            "grid_row": null,
            "grid_template_areas": null,
            "grid_template_columns": null,
            "grid_template_rows": null,
            "height": null,
            "justify_content": null,
            "justify_items": null,
            "left": null,
            "margin": null,
            "max_height": null,
            "max_width": null,
            "min_height": null,
            "min_width": null,
            "object_fit": null,
            "object_position": null,
            "order": null,
            "overflow": null,
            "overflow_x": null,
            "overflow_y": null,
            "padding": null,
            "right": null,
            "top": null,
            "visibility": null,
            "width": null
          }
        },
        "cf8cc26482fa4cc1b177e483d79631b2": {
          "model_module": "@jupyter-widgets/controls",
          "model_name": "DescriptionStyleModel",
          "model_module_version": "1.5.0",
          "state": {
            "_model_module": "@jupyter-widgets/controls",
            "_model_module_version": "1.5.0",
            "_model_name": "DescriptionStyleModel",
            "_view_count": null,
            "_view_module": "@jupyter-widgets/base",
            "_view_module_version": "1.2.0",
            "_view_name": "StyleView",
            "description_width": ""
          }
        }
      }
    }
  },
  "cells": [
    {
      "cell_type": "markdown",
      "source": [
        "## Basic validation of BLANC measurement"
      ],
      "metadata": {
        "id": "o_uAZFHnoXbC"
      }
    },
    {
      "cell_type": "code",
      "source": [
        "%pip install blanc"
      ],
      "metadata": {
        "colab": {
          "base_uri": "https://localhost:8080/"
        },
        "id": "ovTp_f7kohqW",
        "outputId": "c558d2b6-1e46-44ba-bec1-9814cd28cab9"
      },
      "execution_count": 1,
      "outputs": [
        {
          "output_type": "stream",
          "name": "stdout",
          "text": [
            "Collecting blanc\n",
            "  Downloading blanc-0.3.4-py3-none-any.whl (29 kB)\n",
            "Requirement already satisfied: nltk<4.0,>=3.1 in /usr/local/lib/python3.10/dist-packages (from blanc) (3.8.1)\n",
            "Requirement already satisfied: numpy<2.0,>=1.0 in /usr/local/lib/python3.10/dist-packages (from blanc) (1.23.5)\n",
            "Requirement already satisfied: scipy>=1.6.0 in /usr/local/lib/python3.10/dist-packages (from blanc) (1.11.4)\n",
            "Collecting torch<2.0,>=1.0 (from blanc)\n",
            "  Downloading torch-1.13.1-cp310-cp310-manylinux1_x86_64.whl (887.5 MB)\n",
            "\u001b[2K     \u001b[90m━━━━━━━━━━━━━━━━━━━━━━━━━━━━━━━━━━━━━━━━\u001b[0m \u001b[32m887.5/887.5 MB\u001b[0m \u001b[31m695.0 kB/s\u001b[0m eta \u001b[36m0:00:00\u001b[0m\n",
            "\u001b[?25hRequirement already satisfied: tqdm<5.0,>=4.27.0 in /usr/local/lib/python3.10/dist-packages (from blanc) (4.66.1)\n",
            "Requirement already satisfied: transformers>=2.4.0 in /usr/local/lib/python3.10/dist-packages (from blanc) (4.35.2)\n",
            "Requirement already satisfied: click in /usr/local/lib/python3.10/dist-packages (from nltk<4.0,>=3.1->blanc) (8.1.7)\n",
            "Requirement already satisfied: joblib in /usr/local/lib/python3.10/dist-packages (from nltk<4.0,>=3.1->blanc) (1.3.2)\n",
            "Requirement already satisfied: regex>=2021.8.3 in /usr/local/lib/python3.10/dist-packages (from nltk<4.0,>=3.1->blanc) (2023.6.3)\n",
            "Requirement already satisfied: typing-extensions in /usr/local/lib/python3.10/dist-packages (from torch<2.0,>=1.0->blanc) (4.5.0)\n",
            "Collecting nvidia-cuda-runtime-cu11==11.7.99 (from torch<2.0,>=1.0->blanc)\n",
            "  Downloading nvidia_cuda_runtime_cu11-11.7.99-py3-none-manylinux1_x86_64.whl (849 kB)\n",
            "\u001b[2K     \u001b[90m━━━━━━━━━━━━━━━━━━━━━━━━━━━━━━━━━━━━━━━━\u001b[0m \u001b[32m849.3/849.3 kB\u001b[0m \u001b[31m62.3 MB/s\u001b[0m eta \u001b[36m0:00:00\u001b[0m\n",
            "\u001b[?25hCollecting nvidia-cudnn-cu11==8.5.0.96 (from torch<2.0,>=1.0->blanc)\n",
            "  Downloading nvidia_cudnn_cu11-8.5.0.96-2-py3-none-manylinux1_x86_64.whl (557.1 MB)\n",
            "\u001b[2K     \u001b[90m━━━━━━━━━━━━━━━━━━━━━━━━━━━━━━━━━━━━━━━━\u001b[0m \u001b[32m557.1/557.1 MB\u001b[0m \u001b[31m2.3 MB/s\u001b[0m eta \u001b[36m0:00:00\u001b[0m\n",
            "\u001b[?25hCollecting nvidia-cublas-cu11==11.10.3.66 (from torch<2.0,>=1.0->blanc)\n",
            "  Downloading nvidia_cublas_cu11-11.10.3.66-py3-none-manylinux1_x86_64.whl (317.1 MB)\n",
            "\u001b[2K     \u001b[90m━━━━━━━━━━━━━━━━━━━━━━━━━━━━━━━━━━━━━━━━\u001b[0m \u001b[32m317.1/317.1 MB\u001b[0m \u001b[31m3.0 MB/s\u001b[0m eta \u001b[36m0:00:00\u001b[0m\n",
            "\u001b[?25hCollecting nvidia-cuda-nvrtc-cu11==11.7.99 (from torch<2.0,>=1.0->blanc)\n",
            "  Downloading nvidia_cuda_nvrtc_cu11-11.7.99-2-py3-none-manylinux1_x86_64.whl (21.0 MB)\n",
            "\u001b[2K     \u001b[90m━━━━━━━━━━━━━━━━━━━━━━━━━━━━━━━━━━━━━━━━\u001b[0m \u001b[32m21.0/21.0 MB\u001b[0m \u001b[31m8.8 MB/s\u001b[0m eta \u001b[36m0:00:00\u001b[0m\n",
            "\u001b[?25hRequirement already satisfied: setuptools in /usr/local/lib/python3.10/dist-packages (from nvidia-cublas-cu11==11.10.3.66->torch<2.0,>=1.0->blanc) (67.7.2)\n",
            "Requirement already satisfied: wheel in /usr/local/lib/python3.10/dist-packages (from nvidia-cublas-cu11==11.10.3.66->torch<2.0,>=1.0->blanc) (0.42.0)\n",
            "Requirement already satisfied: filelock in /usr/local/lib/python3.10/dist-packages (from transformers>=2.4.0->blanc) (3.13.1)\n",
            "Requirement already satisfied: huggingface-hub<1.0,>=0.16.4 in /usr/local/lib/python3.10/dist-packages (from transformers>=2.4.0->blanc) (0.20.3)\n",
            "Requirement already satisfied: packaging>=20.0 in /usr/local/lib/python3.10/dist-packages (from transformers>=2.4.0->blanc) (23.2)\n",
            "Requirement already satisfied: pyyaml>=5.1 in /usr/local/lib/python3.10/dist-packages (from transformers>=2.4.0->blanc) (6.0.1)\n",
            "Requirement already satisfied: requests in /usr/local/lib/python3.10/dist-packages (from transformers>=2.4.0->blanc) (2.31.0)\n",
            "Requirement already satisfied: tokenizers<0.19,>=0.14 in /usr/local/lib/python3.10/dist-packages (from transformers>=2.4.0->blanc) (0.15.1)\n",
            "Requirement already satisfied: safetensors>=0.3.1 in /usr/local/lib/python3.10/dist-packages (from transformers>=2.4.0->blanc) (0.4.1)\n",
            "Requirement already satisfied: fsspec>=2023.5.0 in /usr/local/lib/python3.10/dist-packages (from huggingface-hub<1.0,>=0.16.4->transformers>=2.4.0->blanc) (2023.6.0)\n",
            "Requirement already satisfied: charset-normalizer<4,>=2 in /usr/local/lib/python3.10/dist-packages (from requests->transformers>=2.4.0->blanc) (3.3.2)\n",
            "Requirement already satisfied: idna<4,>=2.5 in /usr/local/lib/python3.10/dist-packages (from requests->transformers>=2.4.0->blanc) (3.6)\n",
            "Requirement already satisfied: urllib3<3,>=1.21.1 in /usr/local/lib/python3.10/dist-packages (from requests->transformers>=2.4.0->blanc) (2.0.7)\n",
            "Requirement already satisfied: certifi>=2017.4.17 in /usr/local/lib/python3.10/dist-packages (from requests->transformers>=2.4.0->blanc) (2023.11.17)\n",
            "Installing collected packages: nvidia-cuda-runtime-cu11, nvidia-cuda-nvrtc-cu11, nvidia-cublas-cu11, nvidia-cudnn-cu11, torch, blanc\n",
            "  Attempting uninstall: torch\n",
            "    Found existing installation: torch 2.1.0+cu121\n",
            "    Uninstalling torch-2.1.0+cu121:\n",
            "      Successfully uninstalled torch-2.1.0+cu121\n",
            "\u001b[31mERROR: pip's dependency resolver does not currently take into account all the packages that are installed. This behaviour is the source of the following dependency conflicts.\n",
            "torchaudio 2.1.0+cu121 requires torch==2.1.0, but you have torch 1.13.1 which is incompatible.\n",
            "torchdata 0.7.0 requires torch==2.1.0, but you have torch 1.13.1 which is incompatible.\n",
            "torchtext 0.16.0 requires torch==2.1.0, but you have torch 1.13.1 which is incompatible.\n",
            "torchvision 0.16.0+cu121 requires torch==2.1.0, but you have torch 1.13.1 which is incompatible.\u001b[0m\u001b[31m\n",
            "\u001b[0mSuccessfully installed blanc-0.3.4 nvidia-cublas-cu11-11.10.3.66 nvidia-cuda-nvrtc-cu11-11.7.99 nvidia-cuda-runtime-cu11-11.7.99 nvidia-cudnn-cu11-8.5.0.96 torch-1.13.1\n"
          ]
        }
      ]
    },
    {
      "cell_type": "code",
      "source": [
        "import nltk\n",
        "\n",
        "nltk.download('punkt')"
      ],
      "metadata": {
        "colab": {
          "base_uri": "https://localhost:8080/"
        },
        "id": "Ignv6t5rpz5z",
        "outputId": "a2b51c81-a605-4d21-de40-a8f78e5184eb"
      },
      "execution_count": 2,
      "outputs": [
        {
          "output_type": "stream",
          "name": "stderr",
          "text": [
            "[nltk_data] Downloading package punkt to /root/nltk_data...\n",
            "[nltk_data]   Unzipping tokenizers/punkt.zip.\n"
          ]
        },
        {
          "output_type": "execute_result",
          "data": {
            "text/plain": [
              "True"
            ]
          },
          "metadata": {},
          "execution_count": 2
        }
      ]
    },
    {
      "cell_type": "code",
      "source": [
        "from blanc import BlancHelp, BlancTune\n",
        "\n",
        "document = \"Jack drove his minivan to the bazaar to purchase milk and honey for his large family.\"\n",
        "summary = \"Jack bought milk and honey.\"\n",
        "\n",
        "blanc_help = BlancHelp(device='cuda', inference_batch_size=128)\n",
        "blanc_tune = BlancTune(device='cuda', inference_batch_size=24, finetune_mask_evenly=False, finetune_batch_size=24)\n",
        "\n",
        "print(blanc_help.eval_once(document, summary))\n",
        "print(blanc_tune.eval_once(document, summary))\n"
      ],
      "metadata": {
        "colab": {
          "base_uri": "https://localhost:8080/",
          "height": 605,
          "referenced_widgets": [
            "148acd82c9c74918b08fcd61412908e7",
            "5bae96dc293f41dcb37ac013cdbbf918",
            "0523a8dfe14e45ba800e4ddba39c3491",
            "94f042d6809d43f98893094705ef9117",
            "6131618f2c5642ae80b084d770491cfe",
            "ff093806406643cfb50075eca37fe21c",
            "e252dcee25094d30b0e0ae50f142732e",
            "2c514832ca324db4bfb8d93816db4191",
            "4c67402ef37e472a9e9e253be89a0951",
            "6f4eddaea3de455dbd780b75c186b1ab",
            "c831694d4f494322920e8bc0fcc3f6f3",
            "c46d544284684d83b0bde6e4c789d47a",
            "3e6a5db79a8f484d8e3f6865138e898f",
            "c6ba9628b8e8437ea039c3ac45ad37ce",
            "be442e462b28447eb59caf0e3228cbda",
            "d01910dd8908445390e088414c3ebf2b",
            "af43dcaa10624fbf9a21669f35bab271",
            "b1e27097668748699cfc19a5e3b13613",
            "4071db54bf6d448f8e4f56752073528b",
            "d88a3b24b92f452ea293e64380eced49",
            "5e148291a1cd4a58816bf8599a542540",
            "676eb90bd7bf4715b0d1785e27afdbb0",
            "9cb3490e22524f5491af7a7153a49cf6",
            "1994361990d144dd95465072ce731033",
            "fba68750a3f549c7b375b41dc39e0408",
            "ddbc06e0bb744465ace022569e691c25",
            "203301c8ba724b048f84436b4bb3a669",
            "aa7023ee74e640a5b8ccbd52ff9a436c",
            "af42d44e20d34d7f8007d5ceb94b9394",
            "e45a253e49ea4838a0629db3dda3006d",
            "cf66a94ab97a44aeb3587c8200f9dea0",
            "1d18395f8b2349dcac7a108175202252",
            "20c5653634464994b65ca73f338fdc7c",
            "0f93b8ce9a4c4863b64b6641fb637c5e",
            "8bf4d0d93cf44fd395b591f48105e9bc",
            "cd9cf8e02169466cbaafe46dc621963e",
            "34b542eaf788426a84b67c34b5c2fd26",
            "54dfd15babc540a5abaed14b0fc32a50",
            "f1f596dc24c548d1b356acdd67c88923",
            "9057896386f1423e9bdb9f4e8871a7d4",
            "8e2d5b3fa34e4f34b52981756b9b1beb",
            "2c4dfffea1384bc8a4a7dc37920dfd02",
            "c448e65a2b824613bcb39003794ff997",
            "4c7742a9ac6f4966b52a3d0b6cbb949f",
            "335d5f0aa5364466a41ea476e28ffae0",
            "57b28572611b4b70b627c7205fb57a04",
            "a137f8698f264ca2808ac8106e344de1",
            "f91821ac88294bdd822f43ec3a22eb3e",
            "7b830b1bdd04424184de04f3f97aceaf",
            "4d00c1e81e5c4d3e820884e2e682924f",
            "206f3881d16e428f88e94e4fbde46d2c",
            "ef61b322c348486ba5430f7dabb8954d",
            "4a017062aefb41b8a07514a77be1eefe",
            "0b843464d5294510a444b33290370d9c",
            "cf8cc26482fa4cc1b177e483d79631b2"
          ]
        },
        "id": "6aTkw7z9odUx",
        "outputId": "44519dc2-26c7-4828-dbdc-58e057410fe0"
      },
      "execution_count": 3,
      "outputs": [
        {
          "output_type": "stream",
          "name": "stderr",
          "text": [
            "/usr/local/lib/python3.10/dist-packages/huggingface_hub/utils/_token.py:88: UserWarning: \n",
            "The secret `HF_TOKEN` does not exist in your Colab secrets.\n",
            "To authenticate with the Hugging Face Hub, create a token in your settings tab (https://huggingface.co/settings/tokens), set it as secret in your Google Colab and restart your session.\n",
            "You will be able to reuse this secret in all of your notebooks.\n",
            "Please note that authentication is recommended but still optional to access public models or datasets.\n",
            "  warnings.warn(\n"
          ]
        },
        {
          "output_type": "display_data",
          "data": {
            "text/plain": [
              "tokenizer_config.json:   0%|          | 0.00/28.0 [00:00<?, ?B/s]"
            ],
            "application/vnd.jupyter.widget-view+json": {
              "version_major": 2,
              "version_minor": 0,
              "model_id": "148acd82c9c74918b08fcd61412908e7"
            }
          },
          "metadata": {}
        },
        {
          "output_type": "display_data",
          "data": {
            "text/plain": [
              "vocab.txt:   0%|          | 0.00/232k [00:00<?, ?B/s]"
            ],
            "application/vnd.jupyter.widget-view+json": {
              "version_major": 2,
              "version_minor": 0,
              "model_id": "c46d544284684d83b0bde6e4c789d47a"
            }
          },
          "metadata": {}
        },
        {
          "output_type": "display_data",
          "data": {
            "text/plain": [
              "tokenizer.json:   0%|          | 0.00/466k [00:00<?, ?B/s]"
            ],
            "application/vnd.jupyter.widget-view+json": {
              "version_major": 2,
              "version_minor": 0,
              "model_id": "9cb3490e22524f5491af7a7153a49cf6"
            }
          },
          "metadata": {}
        },
        {
          "output_type": "display_data",
          "data": {
            "text/plain": [
              "config.json:   0%|          | 0.00/570 [00:00<?, ?B/s]"
            ],
            "application/vnd.jupyter.widget-view+json": {
              "version_major": 2,
              "version_minor": 0,
              "model_id": "0f93b8ce9a4c4863b64b6641fb637c5e"
            }
          },
          "metadata": {}
        },
        {
          "output_type": "display_data",
          "data": {
            "text/plain": [
              "model.safetensors:   0%|          | 0.00/440M [00:00<?, ?B/s]"
            ],
            "application/vnd.jupyter.widget-view+json": {
              "version_major": 2,
              "version_minor": 0,
              "model_id": "335d5f0aa5364466a41ea476e28ffae0"
            }
          },
          "metadata": {}
        },
        {
          "output_type": "stream",
          "name": "stderr",
          "text": [
            "Some weights of the model checkpoint at bert-base-uncased were not used when initializing BertForMaskedLM: ['cls.seq_relationship.bias', 'bert.pooler.dense.weight', 'cls.seq_relationship.weight', 'bert.pooler.dense.bias']\n",
            "- This IS expected if you are initializing BertForMaskedLM from the checkpoint of a model trained on another task or with another architecture (e.g. initializing a BertForSequenceClassification model from a BertForPreTraining model).\n",
            "- This IS NOT expected if you are initializing BertForMaskedLM from the checkpoint of a model that you expect to be exactly identical (initializing a BertForSequenceClassification model from a BertForSequenceClassification model).\n",
            "Some weights of the model checkpoint at bert-base-uncased were not used when initializing BertForMaskedLM: ['cls.seq_relationship.bias', 'bert.pooler.dense.weight', 'cls.seq_relationship.weight', 'bert.pooler.dense.bias']\n",
            "- This IS expected if you are initializing BertForMaskedLM from the checkpoint of a model trained on another task or with another architecture (e.g. initializing a BertForSequenceClassification model from a BertForPreTraining model).\n",
            "- This IS NOT expected if you are initializing BertForMaskedLM from the checkpoint of a model that you expect to be exactly identical (initializing a BertForSequenceClassification model from a BertForSequenceClassification model).\n",
            "100%|██████████| 1/1 [00:02<00:00,  2.51s/it]\n"
          ]
        },
        {
          "output_type": "stream",
          "name": "stdout",
          "text": [
            "0.2222222222222222\n"
          ]
        },
        {
          "output_type": "stream",
          "name": "stderr",
          "text": [
            "100%|██████████| 1/1 [00:00<00:00, 57.00it/s]\n",
            "Some weights of the model checkpoint at bert-base-uncased were not used when initializing BertForMaskedLM: ['cls.seq_relationship.bias', 'bert.pooler.dense.weight', 'cls.seq_relationship.weight', 'bert.pooler.dense.bias']\n",
            "- This IS expected if you are initializing BertForMaskedLM from the checkpoint of a model trained on another task or with another architecture (e.g. initializing a BertForSequenceClassification model from a BertForPreTraining model).\n",
            "- This IS NOT expected if you are initializing BertForMaskedLM from the checkpoint of a model that you expect to be exactly identical (initializing a BertForSequenceClassification model from a BertForSequenceClassification model).\n",
            "  0%|          | 0/1 [00:00<?, ?it/s]/usr/local/lib/python3.10/dist-packages/transformers/optimization.py:411: FutureWarning: This implementation of AdamW is deprecated and will be removed in a future version. Use the PyTorch implementation torch.optim.AdamW instead, or set `no_deprecation_warning=True` to disable this warning\n",
            "  warnings.warn(\n",
            "\n",
            "100%|██████████| 1/1 [00:00<00:00, 61.75it/s]\n",
            "100%|██████████| 1/1 [00:01<00:00,  1.42s/it]"
          ]
        },
        {
          "output_type": "stream",
          "name": "stdout",
          "text": [
            "0.2222222222222222\n"
          ]
        },
        {
          "output_type": "stream",
          "name": "stderr",
          "text": [
            "\n"
          ]
        }
      ]
    },
    {
      "cell_type": "markdown",
      "source": [
        "## Experiment 1: random words summaries"
      ],
      "metadata": {
        "id": "F7VexC1ouMCN"
      }
    },
    {
      "cell_type": "code",
      "source": [
        "import json\n",
        "import numpy as np\n",
        "\n",
        "# Load text-generated summary data in Google drive\n",
        "documents = []\n",
        "summaries = []\n",
        "human_scores = []\n",
        "CNN_DailyMail_555 = \"/content/drive/MyDrive/Colab Notebooks/M2-IASD/Large Language Model/Project/data/CNN_DailyMail_555.json\"\n",
        "\n",
        "with open(CNN_DailyMail_555, 'r', encoding='utf-8') as file:\n",
        "    data = json.load(file)\n",
        "\n",
        "# Iterate over the JSON data and store the text and generated summaries in the respective lists\n",
        "for item in data:\n",
        "    documents.append(item['text'])\n",
        "    summaries.append(item['summary'])\n",
        "    human_scores.append(np.mean(item['scores'])/5)\n",
        "\n",
        "print(len(documents))\n",
        "print(len(summaries))\n",
        "print(len(human_scores))"
      ],
      "metadata": {
        "colab": {
          "base_uri": "https://localhost:8080/"
        },
        "id": "bYAynAek7SBg",
        "outputId": "8d5e6091-6bcb-41a5-8428-e08ac0b654dd"
      },
      "execution_count": 4,
      "outputs": [
        {
          "output_type": "stream",
          "name": "stdout",
          "text": [
            "555\n",
            "555\n",
            "555\n"
          ]
        }
      ]
    },
    {
      "cell_type": "code",
      "source": [
        "import random\n",
        "from nltk.tokenize import word_tokenize\n",
        "\n",
        "random.seed(1)\n",
        "\n",
        "def generate_random_words_summary(text, summary_length):\n",
        "    words = word_tokenize(text)\n",
        "    return ' '.join(random.choices(words, k=summary_length))\n",
        "\n",
        "# Generate randomized word summaries\n",
        "random_words_summaries = []\n",
        "\n",
        "for doc, summary in zip(documents, summaries):\n",
        "    summary_length = len(word_tokenize(summary))\n",
        "    random_words_summary = generate_random_words_summary(doc, summary_length)\n",
        "    random_words_summaries.append(random_words_summary)\n",
        "\n",
        "print(len(word_tokenize(summaries[7])))\n",
        "print(len(word_tokenize(random_words_summaries[7])))"
      ],
      "metadata": {
        "colab": {
          "base_uri": "https://localhost:8080/"
        },
        "id": "os10IKLg8VKw",
        "outputId": "652d1bd4-2c07-4faf-921b-1896f740d0d2"
      },
      "execution_count": 62,
      "outputs": [
        {
          "output_type": "stream",
          "name": "stdout",
          "text": [
            "29\n",
            "29\n"
          ]
        }
      ]
    },
    {
      "cell_type": "code",
      "source": [
        "# Compare the scores of original summaries and random words sumaries with blanc_help\n",
        "blanc_help = BlancHelp(device='cuda', inference_batch_size=128)\n",
        "\n",
        "original_score = blanc_help.eval_pairs(documents, summaries)\n",
        "random_words_score = blanc_help.eval_pairs(documents, random_words_summaries)\n"
      ],
      "metadata": {
        "id": "mHKDKmw50p2n",
        "colab": {
          "base_uri": "https://localhost:8080/"
        },
        "outputId": "5c9af0bd-6469-445d-b25d-82a65a0cff19"
      },
      "execution_count": 63,
      "outputs": [
        {
          "output_type": "stream",
          "name": "stderr",
          "text": [
            "Some weights of the model checkpoint at bert-base-uncased were not used when initializing BertForMaskedLM: ['bert.pooler.dense.weight', 'cls.seq_relationship.weight', 'bert.pooler.dense.bias', 'cls.seq_relationship.bias']\n",
            "- This IS expected if you are initializing BertForMaskedLM from the checkpoint of a model trained on another task or with another architecture (e.g. initializing a BertForSequenceClassification model from a BertForPreTraining model).\n",
            "- This IS NOT expected if you are initializing BertForMaskedLM from the checkpoint of a model that you expect to be exactly identical (initializing a BertForSequenceClassification model from a BertForSequenceClassification model).\n",
            "100%|██████████| 535/535 [15:10<00:00,  1.70s/it]\n",
            "100%|██████████| 535/535 [15:14<00:00,  1.71s/it]\n"
          ]
        }
      ]
    },
    {
      "cell_type": "code",
      "source": [
        "\n",
        "print(\"BLANC-help score for original summaries:\", np.mean(original_score))\n",
        "print(\"BLANC-help score for random words summaries:\", np.mean(random_words_score))\n",
        "\n"
      ],
      "metadata": {
        "colab": {
          "base_uri": "https://localhost:8080/"
        },
        "id": "TlT6Z3moH8mn",
        "outputId": "cce932d2-d227-447f-8b80-e36eb2490c37"
      },
      "execution_count": 64,
      "outputs": [
        {
          "output_type": "stream",
          "name": "stdout",
          "text": [
            "BLANC-help score for original summaries: 0.12566519991690078\n",
            "BLANC-help score for random words summaries: 0.008102222778980922\n"
          ]
        }
      ]
    },
    {
      "cell_type": "code",
      "source": [
        "import matplotlib.pyplot as plt\n",
        "\n",
        "plt.figure(figsize=(10, 6))\n",
        "plt.scatter(random_words_score, original_score, alpha = 0.5)\n",
        "\n",
        "plt.xlabel('BLANC-help: random words summaries')\n",
        "plt.ylabel('BLANC-help: original summaries')\n",
        "\n",
        "plt.axis('equal')\n",
        "plt.gca().set_aspect('equal', adjustable='box')\n",
        "plt.grid(True)\n",
        "plt.show()"
      ],
      "metadata": {
        "colab": {
          "base_uri": "https://localhost:8080/",
          "height": 542
        },
        "id": "UIxLAyWP9SLK",
        "outputId": "4731d360-11d4-48bb-d07d-e8f6b7340faf"
      },
      "execution_count": 65,
      "outputs": [
        {
          "output_type": "display_data",
          "data": {
            "text/plain": [
              "<Figure size 1000x600 with 1 Axes>"
            ],
            "image/png": "[encoded data removed]"
          },
          "metadata": {}
        }
      ]
    },
    {
      "cell_type": "code",
      "source": [
        "\"\"\"\n",
        "# Compare the scores of original summaries and random words sumaries with blanc_tune\n",
        "blanc_tune = BlancTune(device='cuda', inference_batch_size=24, finetune_mask_evenly=False, finetune_batch_size=24)\n",
        "\n",
        "original_score = blanc_tune.eval_pairs(documents[:50], summaries[:50])\n",
        "random_words_score = blanc_tune.eval_pairs(documents[:50], random_words_summaries[:50])\n",
        "\"\"\"\n"
      ],
      "metadata": {
        "colab": {
          "base_uri": "https://localhost:8080/",
          "height": 71
        },
        "id": "AVUrR_6gH-Oa",
        "outputId": "c6e454d8-9fa1-4925-ac7f-4cf67e60760d"
      },
      "execution_count": 66,
      "outputs": [
        {
          "output_type": "execute_result",
          "data": {
            "text/plain": [
              "\"\\n# Compare the scores of original summaries and random words sumaries with blanc_tune\\nblanc_tune = BlancTune(device='cuda', inference_batch_size=24, finetune_mask_evenly=False, finetune_batch_size=24)\\n\\noriginal_score = blanc_tune.eval_pairs(documents[:50], summaries[:50])\\nrandom_words_score = blanc_tune.eval_pairs(documents[:50], random_words_summaries[:50])\\n\""
            ],
            "application/vnd.google.colaboratory.intrinsic+json": {
              "type": "string"
            }
          },
          "metadata": {},
          "execution_count": 66
        }
      ]
    },
    {
      "cell_type": "code",
      "source": [
        "\"\"\"\n",
        "print(\"BLANC-tune score for original summaries:\", np.mean(original_score))\n",
        "print(\"BLANC-tune score for random words summaries:\", np.mean(random_words_score))\n",
        "\"\"\""
      ],
      "metadata": {
        "colab": {
          "base_uri": "https://localhost:8080/",
          "height": 54
        },
        "id": "xKXH3U9NH_am",
        "outputId": "4708c2fc-9952-44a5-9836-5a7a084ab4fa"
      },
      "execution_count": 67,
      "outputs": [
        {
          "output_type": "execute_result",
          "data": {
            "text/plain": [
              "'\\nprint(\"BLANC-tune score for original summaries:\", np.mean(original_score))\\nprint(\"BLANC-tune score for random words summaries:\", np.mean(random_words_score))\\n'"
            ],
            "application/vnd.google.colaboratory.intrinsic+json": {
              "type": "string"
            }
          },
          "metadata": {},
          "execution_count": 67
        }
      ]
    },
    {
      "cell_type": "markdown",
      "source": [
        "## Experiment 2: BLANC-help for 3-sentence summaries with one or more sentences replaced by random words from the text."
      ],
      "metadata": {
        "id": "1WONtQobB4oI"
      }
    },
    {
      "cell_type": "code",
      "source": [
        "from nltk.tokenize import sent_tokenize\n",
        "\n",
        "# Filter summaries with exactly three sentences\n",
        "three_sentences_documents = []\n",
        "three_sentences_summaries = []\n",
        "three_sentences_human_scores = []\n",
        "\n",
        "\n",
        "for item in data:\n",
        "    if len(sent_tokenize(item['summary'])) == 3:\n",
        "        three_sentences_documents.append(item['text'])\n",
        "        three_sentences_summaries.append(item['summary'])\n",
        "        three_sentences_human_scores.append(np.mean(item['scores'])/5)\n",
        "\n",
        "print(len(three_sentences_documents))\n",
        "print(len(three_sentences_summaries))\n",
        "print(len(three_sentences_human_scores))"
      ],
      "metadata": {
        "colab": {
          "base_uri": "https://localhost:8080/"
        },
        "id": "6B781LAvCQsA",
        "outputId": "15046d33-6cf7-4167-f34a-0ab77906f7c9"
      },
      "execution_count": 68,
      "outputs": [
        {
          "output_type": "stream",
          "name": "stdout",
          "text": [
            "126\n",
            "126\n",
            "126\n"
          ]
        }
      ]
    },
    {
      "cell_type": "code",
      "source": [
        "# Function to replace sentences with random words\n",
        "def replace_with_random_words(summary, num_sentences_to_replace):\n",
        "    sentences = sent_tokenize(summary)\n",
        "    for i in range(num_sentences_to_replace):\n",
        "        random_words = ' '.join(random.choices(word_tokenize(sentences[i]), k=len(word_tokenize(sentences[i]))))\n",
        "        sentences[i] = random_words\n",
        "    return ' '.join(sentences)\n",
        "\n",
        "# Create these random words summaries\n",
        "summaries_one_sentence_randomized = []\n",
        "summaries_two_sentences_randomized = []\n",
        "summaries_three_sentences_randomized = []\n",
        "\n",
        "for i in range(len(three_sentences_documents)):\n",
        "    summaries_one_sentence_randomized.append(replace_with_random_words(three_sentences_summaries[i], 1))\n",
        "    summaries_two_sentences_randomized.append(replace_with_random_words(three_sentences_summaries[i], 2))\n",
        "    summaries_three_sentences_randomized.append(replace_with_random_words(three_sentences_summaries[i], 3))\n",
        "\n",
        "\n",
        "# Calculate the BLANC-help scores for four situations: 0, 1, 2, 3 sentences randomized\n",
        "blanc_help = BlancHelp(device='cuda', inference_batch_size=128)\n",
        "\n",
        "scores_original_summary = blanc_help.eval_pairs(three_sentences_documents, three_sentences_summaries)\n",
        "\n",
        "scores_one_sentence_randomized = blanc_help.eval_pairs(three_sentences_documents, summaries_one_sentence_randomized)\n",
        "\n",
        "scores_two_sentences_randomized = blanc_help.eval_pairs(three_sentences_documents, summaries_two_sentences_randomized)\n",
        "\n",
        "scores_three_sentences_randomized = blanc_help.eval_pairs(three_sentences_documents, summaries_three_sentences_randomized)\n"
      ],
      "metadata": {
        "colab": {
          "base_uri": "https://localhost:8080/"
        },
        "id": "Inhol0mAGtGF",
        "outputId": "6c862c80-0601-49c6-8de7-8345e05fbca2"
      },
      "execution_count": 69,
      "outputs": [
        {
          "output_type": "stream",
          "name": "stderr",
          "text": [
            "Some weights of the model checkpoint at bert-base-uncased were not used when initializing BertForMaskedLM: ['bert.pooler.dense.weight', 'cls.seq_relationship.weight', 'bert.pooler.dense.bias', 'cls.seq_relationship.bias']\n",
            "- This IS expected if you are initializing BertForMaskedLM from the checkpoint of a model trained on another task or with another architecture (e.g. initializing a BertForSequenceClassification model from a BertForPreTraining model).\n",
            "- This IS NOT expected if you are initializing BertForMaskedLM from the checkpoint of a model that you expect to be exactly identical (initializing a BertForSequenceClassification model from a BertForSequenceClassification model).\n",
            "100%|██████████| 87/87 [02:12<00:00,  1.52s/it]\n",
            "100%|██████████| 87/87 [02:11<00:00,  1.51s/it]\n",
            "100%|██████████| 87/87 [02:11<00:00,  1.51s/it]\n",
            "100%|██████████| 87/87 [02:11<00:00,  1.52s/it]\n"
          ]
        }
      ]
    },
    {
      "cell_type": "code",
      "source": [
        "print(\"BLANC-help score for original summaries:\", np.mean(scores_original_summary))\n",
        "print(\"BLANC-help score for one sentence randomized summaries:\", np.mean(scores_one_sentence_randomized))\n",
        "print(\"BLANC-help score for two sentence randomized summaries:\", np.mean(scores_two_sentences_randomized))\n",
        "print(\"BLANC-help score for three sentence randomized summaries:\", np.mean(scores_three_sentences_randomized))"
      ],
      "metadata": {
        "colab": {
          "base_uri": "https://localhost:8080/"
        },
        "id": "2h7ZBIo1LU_f",
        "outputId": "4a2685f4-2445-4b10-c3fe-e6a4a8becd8c"
      },
      "execution_count": 70,
      "outputs": [
        {
          "output_type": "stream",
          "name": "stdout",
          "text": [
            "BLANC-help score for original summaries: 0.11729071954579352\n",
            "BLANC-help score for one sentence randomized summaries: 0.09477707369935848\n",
            "BLANC-help score for two sentence randomized summaries: 0.06707220833961212\n",
            "BLANC-help score for three sentence randomized summaries: 0.022031848394312478\n"
          ]
        }
      ]
    },
    {
      "cell_type": "code",
      "source": [
        "\n",
        "# Create a list of indices\n",
        "indices = np.arange(len(scores_original_summary))\n",
        "\n",
        "# Sort the lists based on scores_original_summary\n",
        "sorted_indices = sorted(indices, key=lambda i: scores_original_summary[i])\n",
        "\n",
        "# # Sort the summaries based on the scores of the original summary\n",
        "sorted_scores_original_summary = [scores_original_summary[i] for i in sorted_indices]\n",
        "sorted_scores_one_sentence_randomized = [scores_one_sentence_randomized[i] for i in sorted_indices]\n",
        "sorted_scores_two_sentences_randomized = [scores_two_sentences_randomized[i] for i in sorted_indices]\n",
        "sorted_scores_three_sentences_randomized = [scores_three_sentences_randomized[i] for i in sorted_indices]\n",
        "\n",
        "\n",
        "# Create scatter plots for each summary type\n",
        "plt.scatter(indices, sorted_scores_original_summary, alpha=0.5, label='Original Summary', color='green')\n",
        "plt.scatter(indices, sorted_scores_one_sentence_randomized, alpha=0.5, label='One Sentence Randomized', color='blue')\n",
        "plt.scatter(indices, sorted_scores_two_sentences_randomized, alpha=0.5, label='Two Sentences Randomized', color='orange')\n",
        "plt.scatter(indices, sorted_scores_three_sentences_randomized, alpha=0.5, label='All Three Sentences Randomized', color='red')\n",
        "\n",
        "# Labeling the plot\n",
        "plt.title('BLANC Scores for Summaries with Randomized Sentences')\n",
        "plt.xlabel('Summaries Sorted by BLANC of Original Summary')\n",
        "plt.ylabel('BLANC Score')\n",
        "plt.legend()\n",
        "plt.grid(True)\n",
        "plt.show()\n"
      ],
      "metadata": {
        "colab": {
          "base_uri": "https://localhost:8080/",
          "height": 472
        },
        "id": "l7_AN1C3LnGh",
        "outputId": "fd2455a9-7b77-4a8f-fd3b-2cc5a1982e71"
      },
      "execution_count": 71,
      "outputs": [
        {
          "output_type": "display_data",
          "data": {
            "text/plain": [
              "<Figure size 640x480 with 1 Axes>"
            ],
            "image/png": "[encoded data removed]"
          },
          "metadata": {}
        }
      ]
    },
    {
      "cell_type": "markdown",
      "source": [
        "## Experiment 3: random sentences summaries"
      ],
      "metadata": {
        "id": "oK3aJHPZBR_x"
      }
    },
    {
      "cell_type": "code",
      "source": [
        "from nltk.tokenize import sent_tokenize\n",
        "import random\n",
        "random.seed(1)\n",
        "\n",
        "\n",
        "def generate_random_sentence_summary(text, summary, num_sentences):\n",
        "    sentences = sent_tokenize(text)\n",
        "    random_sentences = []\n",
        "\n",
        "    while len(random_sentences) < num_sentences and sentences:\n",
        "        candidate_sentence = random.choice(sentences)\n",
        "        random_sentences.append(candidate_sentence)\n",
        "        # Delete the correspoding sentence in the original text\n",
        "        sentences.remove(candidate_sentence)\n",
        "\n",
        "    modified_text = ' '.join(sentences)\n",
        "\n",
        "    return ' '.join(random_sentences), modified_text\n",
        "\n",
        "# Example usage:\n",
        "original_text_ex = \"This is a sample text. It contains multiple sentences. We want to generate a random summary from it.\"\n",
        "summary_text_ex = \"This is a random summary.\"\n",
        "\n",
        "random_summary_ex, modified_text_ex = generate_random_sentence_summary(original_text_ex, summary_text_ex, 1)\n",
        "\n",
        "print(\"Original text:\\n\", original_text_ex)\n",
        "print(\"\\nRandom sentences summary:\\n\", random_summary_ex)\n",
        "print(\"\\nModified text:\\n\", modified_text_ex)"
      ],
      "metadata": {
        "colab": {
          "base_uri": "https://localhost:8080/"
        },
        "id": "mIpX2tfUiZvG",
        "outputId": "7e61a7cc-d789-4d36-8d5a-345ffc451cd9"
      },
      "execution_count": 7,
      "outputs": [
        {
          "output_type": "stream",
          "name": "stdout",
          "text": [
            "Original text:\n",
            " This is a sample text. It contains multiple sentences. We want to generate a random summary from it.\n",
            "\n",
            "Random sentences summary:\n",
            " This is a sample text.\n",
            "\n",
            "Modified text:\n",
            " It contains multiple sentences. We want to generate a random summary from it.\n"
          ]
        }
      ]
    },
    {
      "cell_type": "code",
      "source": [
        "# Generate randomized sentences summaries\n",
        "random_sentences_summaries = []\n",
        "modified_documents = []\n",
        "\n",
        "for doc, summary in zip(documents, summaries):\n",
        "    num_sentences = len(sent_tokenize(summary))\n",
        "    random_sentences_summary, modified_text = generate_random_sentence_summary(doc, summary, num_sentences)\n",
        "    modified_documents.append(modified_text)\n",
        "    random_sentences_summaries.append(random_sentences_summary)\n",
        "\n",
        "print(len(sent_tokenize(summaries[10])))\n",
        "print(len(sent_tokenize(random_sentences_summaries[10])))"
      ],
      "metadata": {
        "id": "0Yihd62y4a4v",
        "colab": {
          "base_uri": "https://localhost:8080/"
        },
        "outputId": "fb067908-1cee-484a-a46a-5d1fd88b9986"
      },
      "execution_count": 8,
      "outputs": [
        {
          "output_type": "stream",
          "name": "stdout",
          "text": [
            "6\n",
            "6\n"
          ]
        }
      ]
    },
    {
      "cell_type": "code",
      "source": [
        "# Compare the scores of original summaries and random sentences sumaries with blanc_help\n",
        "blanc_help = BlancHelp(device='cuda', inference_batch_size=128)\n",
        "\n",
        "original_score = blanc_help.eval_pairs(modified_documents, summaries)\n",
        "random_sentences_score = blanc_help.eval_pairs(modified_documents, random_sentences_summaries)"
      ],
      "metadata": {
        "colab": {
          "base_uri": "https://localhost:8080/"
        },
        "id": "TymddghBLPnG",
        "outputId": "2364000a-54ef-4bd1-de98-9122ea509e33"
      },
      "execution_count": 9,
      "outputs": [
        {
          "output_type": "stream",
          "name": "stderr",
          "text": [
            "Some weights of the model checkpoint at bert-base-uncased were not used when initializing BertForMaskedLM: ['cls.seq_relationship.bias', 'bert.pooler.dense.weight', 'cls.seq_relationship.weight', 'bert.pooler.dense.bias']\n",
            "- This IS expected if you are initializing BertForMaskedLM from the checkpoint of a model trained on another task or with another architecture (e.g. initializing a BertForSequenceClassification model from a BertForPreTraining model).\n",
            "- This IS NOT expected if you are initializing BertForMaskedLM from the checkpoint of a model that you expect to be exactly identical (initializing a BertForSequenceClassification model from a BertForSequenceClassification model).\n",
            "100%|██████████| 459/459 [13:54<00:00,  1.82s/it]\n",
            "100%|██████████| 459/459 [20:20<00:00,  2.66s/it]\n"
          ]
        }
      ]
    },
    {
      "cell_type": "code",
      "source": [
        "print(\"BLANC-help score for original summaries:\", np.mean(original_score))\n",
        "print(\"BLANC-help score for random sentences summaries:\", np.mean(random_sentences_score))\n"
      ],
      "metadata": {
        "colab": {
          "base_uri": "https://localhost:8080/"
        },
        "id": "Zi3OVsykJp_1",
        "outputId": "bb39f05e-55a8-4d91-a680-392fc3f48dcd"
      },
      "execution_count": 10,
      "outputs": [
        {
          "output_type": "stream",
          "name": "stdout",
          "text": [
            "BLANC-help score for original summaries: 0.12644161558297384\n",
            "BLANC-help score for random sentences summaries: 0.08987041171085026\n"
          ]
        }
      ]
    },
    {
      "cell_type": "code",
      "source": [
        "import matplotlib.pyplot as plt\n",
        "\n",
        "plt.figure(figsize=(10, 6))\n",
        "plt.scatter(random_sentences_score, original_score, alpha = 0.5)\n",
        "\n",
        "plt.xlabel('BLANC-help: random sentences summaries')\n",
        "plt.ylabel('BLANC-help: original summaries')\n",
        "\n",
        "plt.axis('equal')\n",
        "plt.gca().set_aspect('equal', adjustable='box')\n",
        "plt.grid(True)\n",
        "plt.show()\n"
      ],
      "metadata": {
        "colab": {
          "base_uri": "https://localhost:8080/",
          "height": 542
        },
        "id": "ObNNisbSplh6",
        "outputId": "7445ea4d-2842-479e-fa72-5675f303fa59"
      },
      "execution_count": 13,
      "outputs": [
        {
          "output_type": "display_data",
          "data": {
            "text/plain": [
              "<Figure size 1000x600 with 1 Axes>"
            ],
            "image/png": "[encoded data removed]"
          },
          "metadata": {}
        }
      ]
    },
    {
      "cell_type": "code",
      "source": [
        "\"\"\"\n",
        "# Compare the scores of original summaries and random sentences sumaries with blanc_tune\n",
        "blanc_tune = BlancTune(device='cuda', inference_batch_size=24, finetune_mask_evenly=False, finetune_batch_size=24)\n",
        "\n",
        "original_score = blanc_tune.eval_pairs(modified_documents[175:225], summaries[175:225])\n",
        "random_words_score = blanc_tune.eval_pairs(modified_documents[175:225], random_sentences_summaries[175:225])\n",
        "\"\"\"\n"
      ],
      "metadata": {
        "colab": {
          "base_uri": "https://localhost:8080/",
          "height": 71
        },
        "id": "VPMS_TcRJs4T",
        "outputId": "42667058-c4b9-4f6d-b19b-1fa5f2bb4127"
      },
      "execution_count": 14,
      "outputs": [
        {
          "output_type": "execute_result",
          "data": {
            "text/plain": [
              "\"\\n# Compare the scores of original summaries and random sentences sumaries with blanc_tune\\nblanc_tune = BlancTune(device='cuda', inference_batch_size=24, finetune_mask_evenly=False, finetune_batch_size=24)\\n\\noriginal_score = blanc_tune.eval_pairs(modified_documents[175:225], summaries[175:225])\\nrandom_words_score = blanc_tune.eval_pairs(modified_documents[175:225], random_sentences_summaries[175:225])\\n\""
            ],
            "application/vnd.google.colaboratory.intrinsic+json": {
              "type": "string"
            }
          },
          "metadata": {},
          "execution_count": 14
        }
      ]
    },
    {
      "cell_type": "code",
      "source": [
        "\"\"\"\n",
        "print(\"BLANC-tune score for original summaries:\", np.mean(original_score))\n",
        "print(\"BLANC-tune score for random sentences summaries:\", np.mean(random_sentences_score))\n",
        "\"\"\""
      ],
      "metadata": {
        "colab": {
          "base_uri": "https://localhost:8080/",
          "height": 54
        },
        "id": "h71KdmdfLtMD",
        "outputId": "9ee33293-7078-4089-978f-82e74e30a451"
      },
      "execution_count": 15,
      "outputs": [
        {
          "output_type": "execute_result",
          "data": {
            "text/plain": [
              "'\\nprint(\"BLANC-tune score for original summaries:\", np.mean(original_score))\\nprint(\"BLANC-tune score for random sentences summaries:\", np.mean(random_sentences_score))\\n'"
            ],
            "application/vnd.google.colaboratory.intrinsic+json": {
              "type": "string"
            }
          },
          "metadata": {},
          "execution_count": 15
        }
      ]
    },
    {
      "cell_type": "markdown",
      "source": [
        "## Experiment 4: Comparison of BLANC score and human score"
      ],
      "metadata": {
        "id": "P-mesk-ibcnq"
      }
    },
    {
      "cell_type": "code",
      "source": [
        "\n",
        "blanc_help = BlancHelp(device='cuda', inference_batch_size=128)\n",
        "\n",
        "blanc_score = blanc_help.eval_pairs(documents[150:200], summaries[150:200])\n",
        "human_score = human_scores[150:200]\n"
      ],
      "metadata": {
        "colab": {
          "base_uri": "https://localhost:8080/"
        },
        "id": "pEuK7OUHeGOI",
        "outputId": "cc914303-4c00-472d-9213-adcfc376fae1"
      },
      "execution_count": 16,
      "outputs": [
        {
          "output_type": "stream",
          "name": "stderr",
          "text": [
            "Some weights of the model checkpoint at bert-base-uncased were not used when initializing BertForMaskedLM: ['cls.seq_relationship.bias', 'bert.pooler.dense.weight', 'cls.seq_relationship.weight', 'bert.pooler.dense.bias']\n",
            "- This IS expected if you are initializing BertForMaskedLM from the checkpoint of a model trained on another task or with another architecture (e.g. initializing a BertForSequenceClassification model from a BertForPreTraining model).\n",
            "- This IS NOT expected if you are initializing BertForMaskedLM from the checkpoint of a model that you expect to be exactly identical (initializing a BertForSequenceClassification model from a BertForSequenceClassification model).\n",
            "100%|██████████| 49/49 [01:10<00:00,  1.44s/it]\n"
          ]
        }
      ]
    },
    {
      "cell_type": "code",
      "source": [
        "from scipy.stats import pearsonr\n",
        "\n",
        "# Calculate Pearson correlation coefficients between BLANC-help scores and human scores\n",
        "correlation, _ = pearsonr(blanc_score, human_score)\n",
        "print('Pearson correlation:', correlation)"
      ],
      "metadata": {
        "colab": {
          "base_uri": "https://localhost:8080/"
        },
        "id": "WoEGUxOVfvJ5",
        "outputId": "e25dca3d-6cf0-40de-d968-ecafb5b9a319"
      },
      "execution_count": 17,
      "outputs": [
        {
          "output_type": "stream",
          "name": "stdout",
          "text": [
            "Pearson correlation: 0.3730517831960919\n"
          ]
        }
      ]
    },
    {
      "cell_type": "code",
      "source": [
        "blanc_tune = BlancTune(device='cuda', inference_batch_size=24, finetune_mask_evenly=False, finetune_batch_size=24)\n",
        "\n",
        "blanc_score = blanc_tune.eval_pairs(documents[150:200], summaries[150:200])"
      ],
      "metadata": {
        "colab": {
          "base_uri": "https://localhost:8080/"
        },
        "id": "m0caAStAf2mg",
        "outputId": "fc059b4d-65fd-4204-a9d3-65b6b43c14d3"
      },
      "execution_count": 18,
      "outputs": [
        {
          "output_type": "stream",
          "name": "stderr",
          "text": [
            "Some weights of the model checkpoint at bert-base-uncased were not used when initializing BertForMaskedLM: ['cls.seq_relationship.bias', 'bert.pooler.dense.weight', 'cls.seq_relationship.weight', 'bert.pooler.dense.bias']\n",
            "- This IS expected if you are initializing BertForMaskedLM from the checkpoint of a model trained on another task or with another architecture (e.g. initializing a BertForSequenceClassification model from a BertForPreTraining model).\n",
            "- This IS NOT expected if you are initializing BertForMaskedLM from the checkpoint of a model that you expect to be exactly identical (initializing a BertForSequenceClassification model from a BertForSequenceClassification model).\n",
            "100%|██████████| 129/129 [00:16<00:00,  7.63it/s]\n",
            "Some weights of the model checkpoint at bert-base-uncased were not used when initializing BertForMaskedLM: ['cls.seq_relationship.bias', 'bert.pooler.dense.weight', 'cls.seq_relationship.weight', 'bert.pooler.dense.bias']\n",
            "- This IS expected if you are initializing BertForMaskedLM from the checkpoint of a model trained on another task or with another architecture (e.g. initializing a BertForSequenceClassification model from a BertForPreTraining model).\n",
            "- This IS NOT expected if you are initializing BertForMaskedLM from the checkpoint of a model that you expect to be exactly identical (initializing a BertForSequenceClassification model from a BertForSequenceClassification model).\n",
            "  0%|          | 0/50 [00:00<?, ?it/s]/usr/local/lib/python3.10/dist-packages/transformers/optimization.py:411: FutureWarning: This implementation of AdamW is deprecated and will be removed in a future version. Use the PyTorch implementation torch.optim.AdamW instead, or set `no_deprecation_warning=True` to disable this warning\n",
            "  warnings.warn(\n",
            "\n",
            "  0%|          | 0/4 [00:00<?, ?it/s]\u001b[A\n",
            " 25%|██▌       | 1/4 [00:00<00:00,  7.05it/s]\u001b[A\n",
            " 50%|█████     | 2/4 [00:00<00:00,  7.91it/s]\u001b[A\n",
            "100%|██████████| 4/4 [00:00<00:00,  8.76it/s]\n",
            "  2%|▏         | 1/50 [00:02<01:49,  2.24s/it]\n",
            "  0%|          | 0/9 [00:00<?, ?it/s]\u001b[A\n",
            " 22%|██▏       | 2/9 [00:00<00:00, 12.53it/s]\u001b[A\n",
            " 44%|████▍     | 4/9 [00:00<00:00, 10.39it/s]\u001b[A\n",
            " 67%|██████▋   | 6/9 [00:00<00:00, 10.83it/s]\u001b[A\n",
            "100%|██████████| 9/9 [00:00<00:00, 11.80it/s]\n",
            "  4%|▍         | 2/50 [00:05<02:16,  2.84s/it]\n",
            "  0%|          | 0/2 [00:00<?, ?it/s]\u001b[A\n",
            " 50%|█████     | 1/2 [00:00<00:00,  3.45it/s]\u001b[A\n",
            "100%|██████████| 2/2 [00:00<00:00,  4.08it/s]\n",
            "  6%|▌         | 3/50 [00:08<02:19,  2.98s/it]\n",
            "  0%|          | 0/2 [00:00<?, ?it/s]\u001b[A\n",
            "100%|██████████| 2/2 [00:00<00:00,  8.43it/s]\n",
            "  8%|▊         | 4/50 [00:11<02:09,  2.82s/it]\n",
            "  0%|          | 0/3 [00:00<?, ?it/s]\u001b[A\n",
            "100%|██████████| 3/3 [00:00<00:00, 19.35it/s]\n",
            " 10%|█         | 5/50 [00:13<01:57,  2.60s/it]\n",
            "  0%|          | 0/2 [00:00<?, ?it/s]\u001b[A\n",
            "100%|██████████| 2/2 [00:00<00:00, 11.27it/s]\n",
            " 12%|█▏        | 6/50 [00:16<01:55,  2.62s/it]\n",
            "  0%|          | 0/9 [00:00<?, ?it/s]\u001b[A\n",
            " 22%|██▏       | 2/9 [00:00<00:00, 10.94it/s]\u001b[A\n",
            " 44%|████▍     | 4/9 [00:00<00:00,  9.72it/s]\u001b[A\n",
            " 56%|█████▌    | 5/9 [00:00<00:00,  9.28it/s]\u001b[A\n",
            "100%|██████████| 9/9 [00:00<00:00, 11.80it/s]\n",
            " 14%|█▍        | 7/50 [00:20<02:12,  3.09s/it]\n",
            "100%|██████████| 1/1 [00:00<00:00, 19.39it/s]\n",
            " 16%|█▌        | 8/50 [00:23<02:07,  3.04s/it]\n",
            "  0%|          | 0/1 [00:00<?, ?it/s]\u001b[A\n",
            "100%|██████████| 1/1 [00:00<00:00,  8.15it/s]\n",
            " 18%|█▊        | 9/50 [00:25<01:57,  2.86s/it]\n",
            "  0%|          | 0/2 [00:00<?, ?it/s]\u001b[A\n",
            "100%|██████████| 2/2 [00:00<00:00, 12.22it/s]\n",
            " 20%|██        | 10/50 [00:29<02:03,  3.09s/it]\n",
            "  0%|          | 0/4 [00:00<?, ?it/s]\u001b[A\n",
            " 25%|██▌       | 1/4 [00:00<00:00,  8.37it/s]\u001b[A\n",
            " 50%|█████     | 2/4 [00:00<00:00,  6.99it/s]\u001b[A\n",
            "100%|██████████| 4/4 [00:00<00:00,  8.42it/s]\n",
            " 22%|██▏       | 11/50 [00:33<02:12,  3.41s/it]\n",
            "  0%|          | 0/1 [00:00<?, ?it/s]\u001b[A\n",
            "100%|██████████| 1/1 [00:00<00:00,  9.33it/s]\n",
            " 24%|██▍       | 12/50 [00:35<01:55,  3.03s/it]\n",
            "  0%|          | 0/3 [00:00<?, ?it/s]\u001b[A\n",
            "100%|██████████| 3/3 [00:00<00:00, 15.67it/s]\n",
            " 26%|██▌       | 13/50 [00:37<01:44,  2.83s/it]\n",
            "  0%|          | 0/1 [00:00<?, ?it/s]\u001b[A\n",
            "100%|██████████| 1/1 [00:00<00:00,  7.45it/s]\n",
            " 28%|██▊       | 14/50 [00:40<01:37,  2.70s/it]\n",
            "  0%|          | 0/2 [00:00<?, ?it/s]\u001b[A\n",
            " 50%|█████     | 1/2 [00:00<00:00,  9.08it/s]\u001b[A\n",
            "100%|██████████| 2/2 [00:00<00:00,  8.70it/s]\n",
            " 30%|███       | 15/50 [00:43<01:45,  3.03s/it]\n",
            "  0%|          | 0/4 [00:00<?, ?it/s]\u001b[A\n",
            " 25%|██▌       | 1/4 [00:00<00:00,  8.84it/s]\u001b[A\n",
            " 50%|█████     | 2/4 [00:00<00:00,  8.31it/s]\u001b[A\n",
            " 75%|███████▌  | 3/4 [00:00<00:00,  8.90it/s]\u001b[A\n",
            "100%|██████████| 4/4 [00:00<00:00,  8.42it/s]\n",
            " 32%|███▏      | 16/50 [00:46<01:41,  2.99s/it]\n",
            "  0%|          | 0/2 [00:00<?, ?it/s]\u001b[A\n",
            " 50%|█████     | 1/2 [00:00<00:00,  8.74it/s]\u001b[A\n",
            "100%|██████████| 2/2 [00:00<00:00,  9.03it/s]\n",
            " 34%|███▍      | 17/50 [00:49<01:34,  2.85s/it]\n",
            "  0%|          | 0/5 [00:00<?, ?it/s]\u001b[A\n",
            " 20%|██        | 1/5 [00:00<00:00,  9.09it/s]\u001b[A\n",
            " 60%|██████    | 3/5 [00:00<00:00,  9.21it/s]\u001b[A\n",
            "100%|██████████| 5/5 [00:00<00:00, 10.11it/s]\n",
            " 36%|███▌      | 18/50 [00:51<01:24,  2.63s/it]\n",
            "  0%|          | 0/3 [00:00<?, ?it/s]\u001b[A\n",
            " 33%|███▎      | 1/3 [00:00<00:00,  5.82it/s]\u001b[A\n",
            "100%|██████████| 3/3 [00:00<00:00,  8.38it/s]\n",
            " 38%|███▊      | 19/50 [00:54<01:22,  2.67s/it]\n",
            "  0%|          | 0/3 [00:00<?, ?it/s]\u001b[A\n",
            "100%|██████████| 3/3 [00:00<00:00, 13.74it/s]\n",
            " 40%|████      | 20/50 [00:56<01:17,  2.60s/it]\n",
            "  0%|          | 0/2 [00:00<?, ?it/s]\u001b[A\n",
            "100%|██████████| 2/2 [00:00<00:00,  9.43it/s]\n",
            " 42%|████▏     | 21/50 [01:00<01:24,  2.91s/it]\n",
            "  0%|          | 0/4 [00:00<?, ?it/s]\u001b[A\n",
            " 50%|█████     | 2/4 [00:00<00:00,  9.97it/s]\u001b[A\n",
            "100%|██████████| 4/4 [00:00<00:00,  9.80it/s]\n",
            " 44%|████▍     | 22/50 [01:03<01:24,  3.02s/it]\n",
            "  0%|          | 0/2 [00:00<?, ?it/s]\u001b[A\n",
            "100%|██████████| 2/2 [00:00<00:00,  7.45it/s]\n",
            " 46%|████▌     | 23/50 [01:06<01:20,  2.99s/it]\n",
            "  0%|          | 0/5 [00:00<?, ?it/s]\u001b[A\n",
            " 20%|██        | 1/5 [00:00<00:00,  5.75it/s]\u001b[A\n",
            " 40%|████      | 2/5 [00:00<00:00,  5.69it/s]\u001b[A\n",
            " 60%|██████    | 3/5 [00:00<00:00,  7.01it/s]\u001b[A\n",
            "100%|██████████| 5/5 [00:00<00:00,  8.30it/s]\n",
            " 48%|████▊     | 24/50 [01:10<01:22,  3.19s/it]\n",
            "  0%|          | 0/4 [00:00<?, ?it/s]\u001b[A\n",
            " 25%|██▌       | 1/4 [00:00<00:00,  9.41it/s]\u001b[A\n",
            " 50%|█████     | 2/4 [00:00<00:00,  7.36it/s]\u001b[A\n",
            "100%|██████████| 4/4 [00:00<00:00,  9.20it/s]\n",
            " 50%|█████     | 25/50 [01:13<01:18,  3.13s/it]\n",
            "  0%|          | 0/5 [00:00<?, ?it/s]\u001b[A\n",
            " 20%|██        | 1/5 [00:00<00:00,  4.41it/s]\u001b[A\n",
            " 40%|████      | 2/5 [00:00<00:00,  4.13it/s]\u001b[A\n",
            "100%|██████████| 5/5 [00:00<00:00,  6.30it/s]\n",
            " 52%|█████▏    | 26/50 [01:17<01:23,  3.47s/it]\n",
            "  0%|          | 0/2 [00:00<?, ?it/s]\u001b[A\n",
            "100%|██████████| 2/2 [00:00<00:00,  9.94it/s]\n",
            " 54%|█████▍    | 27/50 [01:19<01:13,  3.19s/it]\n",
            "  0%|          | 0/2 [00:00<?, ?it/s]\u001b[A\n",
            "100%|██████████| 2/2 [00:00<00:00, 11.70it/s]\n",
            " 56%|█████▌    | 28/50 [01:22<01:07,  3.08s/it]\n",
            "  0%|          | 0/2 [00:00<?, ?it/s]\u001b[A\n",
            "100%|██████████| 2/2 [00:00<00:00,  5.67it/s]\n",
            " 58%|█████▊    | 29/50 [01:25<01:01,  2.94s/it]\n",
            "  0%|          | 0/7 [00:00<?, ?it/s]\u001b[A\n",
            " 29%|██▊       | 2/7 [00:00<00:00, 12.76it/s]\u001b[A\n",
            " 57%|█████▋    | 4/7 [00:00<00:00, 11.01it/s]\u001b[A\n",
            "100%|██████████| 7/7 [00:00<00:00, 12.52it/s]\n",
            " 60%|██████    | 30/50 [01:29<01:03,  3.19s/it]\n",
            "  0%|          | 0/2 [00:00<?, ?it/s]\u001b[A\n",
            "100%|██████████| 2/2 [00:00<00:00,  9.69it/s]\n",
            " 62%|██████▏   | 31/50 [01:32<00:59,  3.11s/it]\n",
            "  0%|          | 0/3 [00:00<?, ?it/s]\u001b[A\n",
            "100%|██████████| 3/3 [00:00<00:00, 14.11it/s]\n",
            " 64%|██████▍   | 32/50 [01:35<00:54,  3.04s/it]\n",
            "100%|██████████| 1/1 [00:00<00:00, 15.90it/s]\n",
            " 66%|██████▌   | 33/50 [01:36<00:46,  2.71s/it]\n",
            "  0%|          | 0/4 [00:00<?, ?it/s]\u001b[A\n",
            " 25%|██▌       | 1/4 [00:00<00:00,  5.57it/s]\u001b[A\n",
            " 50%|█████     | 2/4 [00:00<00:00,  6.77it/s]\u001b[A\n",
            "100%|██████████| 4/4 [00:00<00:00,  7.31it/s]\n",
            " 68%|██████▊   | 34/50 [01:39<00:44,  2.77s/it]\n",
            "  0%|          | 0/2 [00:00<?, ?it/s]\u001b[A\n",
            "100%|██████████| 2/2 [00:00<00:00, 11.77it/s]\n",
            " 70%|███████   | 35/50 [01:42<00:41,  2.80s/it]\n",
            "  0%|          | 0/2 [00:00<?, ?it/s]\u001b[A\n",
            "100%|██████████| 2/2 [00:00<00:00,  8.83it/s]\n",
            " 72%|███████▏  | 36/50 [01:45<00:39,  2.85s/it]\n",
            "  0%|          | 0/6 [00:00<?, ?it/s]\u001b[A\n",
            " 17%|█▋        | 1/6 [00:00<00:00,  7.18it/s]\u001b[A\n",
            " 50%|█████     | 3/6 [00:00<00:00,  9.28it/s]\u001b[A\n",
            " 67%|██████▋   | 4/6 [00:00<00:00,  7.47it/s]\u001b[A\n",
            "100%|██████████| 6/6 [00:00<00:00,  8.23it/s]\n",
            " 74%|███████▍  | 37/50 [01:49<00:39,  3.01s/it]\n",
            "  0%|          | 0/1 [00:00<?, ?it/s]\u001b[A\n",
            "100%|██████████| 1/1 [00:00<00:00,  6.15it/s]\n",
            " 76%|███████▌  | 38/50 [01:52<00:36,  3.02s/it]\n",
            "  0%|          | 0/3 [00:00<?, ?it/s]\u001b[A\n",
            "100%|██████████| 3/3 [00:00<00:00, 10.76it/s]\n",
            " 78%|███████▊  | 39/50 [01:54<00:31,  2.89s/it]\n",
            "  0%|          | 0/4 [00:00<?, ?it/s]\u001b[A\n",
            " 25%|██▌       | 1/4 [00:00<00:00,  3.90it/s]\u001b[A\n",
            " 50%|█████     | 2/4 [00:00<00:00,  3.31it/s]\u001b[A\n",
            "100%|██████████| 4/4 [00:00<00:00,  4.94it/s]\n",
            " 80%|████████  | 40/50 [01:58<00:30,  3.09s/it]\n",
            "  0%|          | 0/2 [00:00<?, ?it/s]\u001b[A\n",
            "100%|██████████| 2/2 [00:00<00:00, 11.77it/s]\n",
            " 82%|████████▏ | 41/50 [02:01<00:27,  3.02s/it]\n",
            "  0%|          | 0/1 [00:00<?, ?it/s]\u001b[A\n",
            "100%|██████████| 1/1 [00:00<00:00,  2.48it/s]\n",
            " 84%|████████▍ | 42/50 [02:03<00:23,  2.91s/it]\n",
            "  0%|          | 0/2 [00:00<?, ?it/s]\u001b[A\n",
            "100%|██████████| 2/2 [00:00<00:00, 10.10it/s]\n",
            " 86%|████████▌ | 43/50 [02:07<00:21,  3.03s/it]\n",
            "  0%|          | 0/4 [00:00<?, ?it/s]\u001b[A\n",
            " 50%|█████     | 2/4 [00:00<00:00, 10.91it/s]\u001b[A\n",
            "100%|██████████| 4/4 [00:00<00:00, 12.46it/s]\n",
            " 88%|████████▊ | 44/50 [02:09<00:17,  2.91s/it]\n",
            "  0%|          | 0/4 [00:00<?, ?it/s]\u001b[A\n",
            " 25%|██▌       | 1/4 [00:00<00:00,  9.37it/s]\u001b[A\n",
            "100%|██████████| 4/4 [00:00<00:00, 11.23it/s]\n",
            " 90%|█████████ | 45/50 [02:13<00:15,  3.14s/it]\n",
            "100%|██████████| 1/1 [00:00<00:00, 11.88it/s]\n",
            " 92%|█████████▏| 46/50 [02:15<00:11,  2.83s/it]\n",
            "  0%|          | 0/3 [00:00<?, ?it/s]\u001b[A\n",
            " 33%|███▎      | 1/3 [00:00<00:00,  6.99it/s]\u001b[A\n",
            "100%|██████████| 3/3 [00:00<00:00,  9.31it/s]\n",
            " 94%|█████████▍| 47/50 [02:18<00:08,  2.89s/it]\n",
            "  0%|          | 0/2 [00:00<?, ?it/s]\u001b[A\n",
            "100%|██████████| 2/2 [00:00<00:00,  5.06it/s]\n",
            " 96%|█████████▌| 48/50 [02:22<00:06,  3.18s/it]\n",
            "  0%|          | 0/4 [00:00<?, ?it/s]\u001b[A\n",
            " 25%|██▌       | 1/4 [00:00<00:00,  7.35it/s]\u001b[A\n",
            " 50%|█████     | 2/4 [00:00<00:00,  6.33it/s]\u001b[A\n",
            "100%|██████████| 4/4 [00:00<00:00,  7.46it/s]\n",
            " 98%|█████████▊| 49/50 [02:25<00:03,  3.28s/it]\n",
            "  0%|          | 0/3 [00:00<?, ?it/s]\u001b[A\n",
            " 33%|███▎      | 1/3 [00:00<00:00,  8.77it/s]\u001b[A\n",
            "100%|██████████| 3/3 [00:00<00:00, 10.29it/s]\n",
            "100%|██████████| 50/50 [02:29<00:00,  2.99s/it]\n"
          ]
        }
      ]
    },
    {
      "cell_type": "code",
      "source": [
        "# Calculate Pearson correlation coefficients between BLANC-tune scores and human scores\n",
        "correlation, _ = pearsonr(blanc_score, human_score)\n",
        "print('Pearson correlation:', correlation)"
      ],
      "metadata": {
        "colab": {
          "base_uri": "https://localhost:8080/"
        },
        "id": "fUfjvhQ0gcTd",
        "outputId": "8869a78a-5ff6-4d21-ed87-63510cd632b8"
      },
      "execution_count": 19,
      "outputs": [
        {
          "output_type": "stream",
          "name": "stdout",
          "text": [
            "Pearson correlation: 0.3519732250316079\n"
          ]
        }
      ]
    },
    {
      "cell_type": "code",
      "source": [],
      "metadata": {
        "id": "p2fmch40ge57"
      },
      "execution_count": null,
      "outputs": []
    }
  ]
}