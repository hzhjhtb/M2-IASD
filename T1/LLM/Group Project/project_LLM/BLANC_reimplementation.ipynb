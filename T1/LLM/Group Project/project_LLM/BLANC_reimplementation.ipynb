{
  "nbformat": 4,
  "nbformat_minor": 0,
  "metadata": {
    "colab": {
      "provenance": []
    },
    "kernelspec": {
      "name": "python3",
      "display_name": "Python 3"
    },
    "language_info": {
      "name": "python"
    }
  },
  "cells": [
    {
      "cell_type": "code",
      "execution_count": 3,
      "metadata": {
        "colab": {
          "base_uri": "https://localhost:8080/"
        },
        "id": "b2J0OX29yaAb",
        "outputId": "cdacaa6c-8a4e-4691-df79-2753d573d983"
      },
      "outputs": [
        {
          "output_type": "stream",
          "name": "stderr",
          "text": [
            "[nltk_data] Downloading package punkt to /root/nltk_data...\n",
            "[nltk_data]   Unzipping tokenizers/punkt.zip.\n"
          ]
        }
      ],
      "source": [
        "import nltk\n",
        "nltk.download('punkt')\n",
        "from nltk.tokenize import sent_tokenize\n",
        "from transformers import BertTokenizer, BertForMaskedLM\n",
        "import torch\n",
        "from transformers import AdamW"
      ]
    },
    {
      "cell_type": "markdown",
      "source": [
        "#BLANC Help reimplementation"
      ],
      "metadata": {
        "id": "zfNk4g9l8QyU"
      }
    },
    {
      "cell_type": "code",
      "source": [
        "class BlancHelp:\n",
        "    def __init__(self):\n",
        "        self.tokenizer = BertTokenizer.from_pretrained('bert-base-uncased')\n",
        "        self.model = BertForMaskedLM.from_pretrained('bert-base-uncased')\n",
        "        self.M = 6\n",
        "        self.L_min = 4\n",
        "\n",
        "    def mask_sentence(self, sentence, i0):\n",
        "        tokens = self.tokenizer.tokenize(sentence)\n",
        "        masked_tokens = tokens.copy()\n",
        "        mask_positions = []\n",
        "\n",
        "        for i, token in enumerate(tokens):\n",
        "            if (i - i0) % self.M == 0 and len(token) >= self.L_min:\n",
        "                masked_tokens[i] = self.tokenizer.mask_token\n",
        "                mask_positions.append(i)\n",
        "\n",
        "        masked_sentence = self.tokenizer.convert_tokens_to_string(masked_tokens)\n",
        "\n",
        "        print(f\"Original Sentence: {sentence}\")\n",
        "        print(f\"Masked Sentence: {masked_sentence}\")\n",
        "        print(f\"Mask Positions: {mask_positions}\")\n",
        "\n",
        "        return masked_sentence, mask_positions\n",
        "\n",
        "    def unmask(self, text):\n",
        "        inputs = self.tokenizer(text, return_tensors=\"pt\")\n",
        "        with torch.no_grad():\n",
        "            outputs = self.model(**inputs)\n",
        "        predictions = outputs.logits\n",
        "\n",
        "        predictions = predictions[:, 1:-1, :]\n",
        "\n",
        "        print(f\"Input Text for Unmasking: {text}\")\n",
        "        predicted_tokens = torch.argmax(predictions, dim=-1)\n",
        "        predicted_sentence = self.tokenizer.decode(predicted_tokens[0])\n",
        "        print(f\"Predicted Sentence: {predicted_sentence}\")\n",
        "        return predictions\n",
        "\n",
        "    def eval(self, document, summary):\n",
        "        sentences = sent_tokenize(document)\n",
        "        S = [[0, 0], [0, 0]]\n",
        "        B = 0\n",
        "\n",
        "        for sentence in sentences:\n",
        "            for i0 in range(1, self.M + 1):\n",
        "                masked_sentence, mask_positions = self.mask_sentence(sentence, i0)\n",
        "                input_base = \".\" * len(summary) + \" \"+ masked_sentence\n",
        "                input_help = summary + \" \" + masked_sentence\n",
        "\n",
        "                out_base = self.unmask(input_base)\n",
        "                out_help = self.unmask(input_help)\n",
        "\n",
        "                for pos in mask_positions:\n",
        "                    base_pos = pos + len(self.tokenizer.tokenize(\".\" * len(summary)))\n",
        "                    help_pos = pos + len(self.tokenizer.tokenize(summary))\n",
        "\n",
        "                    base_pred_token = torch.argmax(out_base[0, base_pos]).item()\n",
        "                    help_pred_token = torch.argmax(out_help[0, help_pos]).item()\n",
        "                    original_token = self.tokenizer.convert_tokens_to_ids(self.tokenizer.tokenize(sentence)[pos])\n",
        "\n",
        "                    k = int(base_pred_token == original_token)\n",
        "                    m = int(help_pred_token == original_token)\n",
        "\n",
        "                    base_pred_word = self.tokenizer.convert_ids_to_tokens(base_pred_token)\n",
        "                    help_pred_word = self.tokenizer.convert_ids_to_tokens(help_pred_token)\n",
        "                    original_word = self.tokenizer.convert_ids_to_tokens(original_token)\n",
        "\n",
        "                    print(f\"Original Word: {original_word}, Base Prediction: {base_pred_word}, Help Prediction: {help_pred_word}\")\n",
        "                    S[k][m] += 1\n",
        "\n",
        "        if sum(sum(S, [])) != 0:\n",
        "            B = (S[0][1] - S[1][0]) / sum(sum(S, []))\n",
        "\n",
        "        print(f\"S: {S}\")\n",
        "        print(f\"BLANC Score: {B}\")\n",
        "        return B\n"
      ],
      "metadata": {
        "id": "iqyYUO7myspJ"
      },
      "execution_count": 1,
      "outputs": []
    },
    {
      "cell_type": "markdown",
      "source": [
        "## Test code for case study"
      ],
      "metadata": {
        "id": "V30XadIU8a4o"
      }
    },
    {
      "cell_type": "code",
      "source": [
        "# Example usage\n",
        "document = \"Jack drove his minivan to the bazaar to purchase milk and honey for his large family.\"\n",
        "summary = \"Jack bought milk and honey.\"\n",
        "blanc_help = BlancHelp()\n",
        "blanc_score = blanc_help.eval(document, summary)\n",
        "blanc_score"
      ],
      "metadata": {
        "colab": {
          "base_uri": "https://localhost:8080/"
        },
        "id": "Cx7zPrUc5uJ-",
        "outputId": "89f02b30-0edb-4611-e9ed-638b1d9a3bff"
      },
      "execution_count": 4,
      "outputs": [
        {
          "output_type": "stream",
          "name": "stderr",
          "text": [
            "Some weights of the model checkpoint at bert-base-uncased were not used when initializing BertForMaskedLM: ['cls.seq_relationship.bias', 'cls.seq_relationship.weight', 'bert.pooler.dense.weight', 'bert.pooler.dense.bias']\n",
            "- This IS expected if you are initializing BertForMaskedLM from the checkpoint of a model trained on another task or with another architecture (e.g. initializing a BertForSequenceClassification model from a BertForPreTraining model).\n",
            "- This IS NOT expected if you are initializing BertForMaskedLM from the checkpoint of a model that you expect to be exactly identical (initializing a BertForSequenceClassification model from a BertForSequenceClassification model).\n"
          ]
        },
        {
          "output_type": "stream",
          "name": "stdout",
          "text": [
            "Original Sentence: Jack drove his minivan to the bazaar to purchase milk and honey for his large family.\n",
            "Masked Sentence: jack [MASK] his minivan to the [MASK] to purchase milk and honey for his large family .\n",
            "Mask Positions: [1, 7]\n",
            "Input Text for Unmasking: ........................... jack [MASK] his minivan to the [MASK] to purchase milk and honey for his large family .\n",
            "Predicted Sentence: ........................... jack took his minivan to the store to buy milk and honey for his large family.\n",
            "Input Text for Unmasking: Jack bought milk and honey. jack [MASK] his minivan to the [MASK] to purchase milk and honey for his large family .\n",
            "Predicted Sentence: jack bought milk and honey. jack took his minivan to the store to buy milk and honey for his large family.\n",
            "Original Word: drove, Base Prediction: took, Help Prediction: took\n",
            "Original Word: bazaar, Base Prediction: store, Help Prediction: store\n",
            "Original Sentence: Jack drove his minivan to the bazaar to purchase milk and honey for his large family.\n",
            "Masked Sentence: jack drove his minivan to the bazaar to purchase milk and honey for his large family .\n",
            "Mask Positions: []\n",
            "Input Text for Unmasking: ........................... jack drove his minivan to the bazaar to purchase milk and honey for his large family .\n",
            "Predicted Sentence: ........................... jack drove his minivan to the bazaar to buy milk and honey for his large family.\n",
            "Input Text for Unmasking: Jack bought milk and honey. jack drove his minivan to the bazaar to purchase milk and honey for his large family .\n",
            "Predicted Sentence: . bought milk and honey. jack drove his minivan to the bazaar to buy milk and honey for his large family.\n",
            "Original Sentence: Jack drove his minivan to the bazaar to purchase milk and honey for his large family.\n",
            "Masked Sentence: jack drove his [MASK]van to the bazaar to [MASK] milk and honey for his [MASK] family .\n",
            "Mask Positions: [3, 9, 15]\n",
            "Input Text for Unmasking: ........................... jack drove his [MASK]van to the bazaar to [MASK] milk and honey for his [MASK] family .\n",
            "Predicted Sentence: ........................... jack drove his white van to the bazaar to buy milk and honey for his starving family.\n",
            "Input Text for Unmasking: Jack bought milk and honey. jack drove his [MASK]van to the bazaar to [MASK] milk and honey for his [MASK] family .\n",
            "Predicted Sentence: jack bought milk and honey. jack drove his small van to the bazaar to buy milk and honey for his new family.\n",
            "Original Word: mini, Base Prediction: white, Help Prediction: small\n",
            "Original Word: purchase, Base Prediction: buy, Help Prediction: buy\n",
            "Original Word: large, Base Prediction: starving, Help Prediction: new\n",
            "Original Sentence: Jack drove his minivan to the bazaar to purchase milk and honey for his large family.\n",
            "Masked Sentence: jack drove his mini [MASK] to the bazaar to purchase [MASK] and honey for his large [MASK] .\n",
            "Mask Positions: [4, 10, 16]\n",
            "Input Text for Unmasking: ........................... jack drove his mini [MASK] to the bazaar to purchase [MASK] and honey for his large [MASK] .\n",
            "Predicted Sentence: ........................... jack drove his minivan to the bazaar to buy milk and honey for his large family.\n",
            "Input Text for Unmasking: Jack bought milk and honey. jack drove his mini [MASK] to the bazaar to purchase [MASK] and honey for his large [MASK] .\n",
            "Predicted Sentence: jack bought milk and honey. jack drove his minivan to the bazaar to buy milk and honey for his large family.\n",
            "Original Word: ##van, Base Prediction: ##van, Help Prediction: ##van\n",
            "Original Word: milk, Base Prediction: milk, Help Prediction: milk\n",
            "Original Word: family, Base Prediction: family, Help Prediction: family\n",
            "Original Sentence: Jack drove his minivan to the bazaar to purchase milk and honey for his large family.\n",
            "Masked Sentence: jack drove his minivan to the bazaar to purchase milk and honey for his large family .\n",
            "Mask Positions: []\n",
            "Input Text for Unmasking: ........................... jack drove his minivan to the bazaar to purchase milk and honey for his large family .\n",
            "Predicted Sentence: ........................... jack drove his minivan to the bazaar to buy milk and honey for his large family.\n",
            "Input Text for Unmasking: Jack bought milk and honey. jack drove his minivan to the bazaar to purchase milk and honey for his large family .\n",
            "Predicted Sentence: . bought milk and honey. jack drove his minivan to the bazaar to buy milk and honey for his large family.\n",
            "Original Sentence: Jack drove his minivan to the bazaar to purchase milk and honey for his large family.\n",
            "Masked Sentence: [MASK] drove his minivan to the bazaar to purchase milk and [MASK] for his large family .\n",
            "Mask Positions: [0, 12]\n",
            "Input Text for Unmasking: ........................... [MASK] drove his minivan to the bazaar to purchase milk and [MASK] for his large family .\n",
            "Predicted Sentence: ........................... he drove his minivan to the bazaar to buy milk and food for his large family.\n",
            "Input Text for Unmasking: Jack bought milk and honey. [MASK] drove his minivan to the bazaar to purchase milk and [MASK] for his large family .\n",
            "Predicted Sentence: jack bought milk and honey. he drove his minivan to the bazaar to buy milk and honey for his large family.\n",
            "Original Word: jack, Base Prediction: he, Help Prediction: he\n",
            "Original Word: honey, Base Prediction: food, Help Prediction: honey\n",
            "S: [[6, 1], [0, 3]]\n",
            "BLANC Score: 0.1\n"
          ]
        },
        {
          "output_type": "execute_result",
          "data": {
            "text/plain": [
              "0.1"
            ]
          },
          "metadata": {},
          "execution_count": 4
        }
      ]
    },
    {
      "cell_type": "code",
      "source": [
        "summary = \"Jack drove his car.\"\n",
        "blanc_help = BlancHelp()\n",
        "blanc_score = blanc_help.eval(document, summary)\n",
        "blanc_score"
      ],
      "metadata": {
        "colab": {
          "base_uri": "https://localhost:8080/"
        },
        "id": "jCgPefLHUd57",
        "outputId": "9dc42f2d-7a63-45da-e8ef-ae77314530b3"
      },
      "execution_count": 5,
      "outputs": [
        {
          "output_type": "stream",
          "name": "stderr",
          "text": [
            "Some weights of the model checkpoint at bert-base-uncased were not used when initializing BertForMaskedLM: ['cls.seq_relationship.bias', 'cls.seq_relationship.weight', 'bert.pooler.dense.weight', 'bert.pooler.dense.bias']\n",
            "- This IS expected if you are initializing BertForMaskedLM from the checkpoint of a model trained on another task or with another architecture (e.g. initializing a BertForSequenceClassification model from a BertForPreTraining model).\n",
            "- This IS NOT expected if you are initializing BertForMaskedLM from the checkpoint of a model that you expect to be exactly identical (initializing a BertForSequenceClassification model from a BertForSequenceClassification model).\n"
          ]
        },
        {
          "output_type": "stream",
          "name": "stdout",
          "text": [
            "Original Sentence: Jack drove his minivan to the bazaar to purchase milk and honey for his large family.\n",
            "Masked Sentence: jack [MASK] his minivan to the [MASK] to purchase milk and honey for his large family .\n",
            "Mask Positions: [1, 7]\n",
            "Input Text for Unmasking: ................... jack [MASK] his minivan to the [MASK] to purchase milk and honey for his large family .\n",
            "Predicted Sentence: ................... jack took his minivan to the store to buy milk and honey for his large family.\n",
            "Input Text for Unmasking: Jack drove his car. jack [MASK] his minivan to the [MASK] to purchase milk and honey for his large family .\n",
            "Predicted Sentence: jack drove his car. jack drove his minivan to the store to buy milk and honey for his large family.\n",
            "Original Word: drove, Base Prediction: took, Help Prediction: drove\n",
            "Original Word: bazaar, Base Prediction: store, Help Prediction: store\n",
            "Original Sentence: Jack drove his minivan to the bazaar to purchase milk and honey for his large family.\n",
            "Masked Sentence: jack drove his minivan to the bazaar to purchase milk and honey for his large family .\n",
            "Mask Positions: []\n",
            "Input Text for Unmasking: ................... jack drove his minivan to the bazaar to purchase milk and honey for his large family .\n",
            "Predicted Sentence: ................... jack drove his minivan to the bazaar to buy milk and honey for his large family.\n",
            "Input Text for Unmasking: Jack drove his car. jack drove his minivan to the bazaar to purchase milk and honey for his large family .\n",
            "Predicted Sentence: . drove his car. jack drove his minivan to the bazaar to buy milk and honey for his large family.\n",
            "Original Sentence: Jack drove his minivan to the bazaar to purchase milk and honey for his large family.\n",
            "Masked Sentence: jack drove his [MASK]van to the bazaar to [MASK] milk and honey for his [MASK] family .\n",
            "Mask Positions: [3, 9, 15]\n",
            "Input Text for Unmasking: ................... jack drove his [MASK]van to the bazaar to [MASK] milk and honey for his [MASK] family .\n",
            "Predicted Sentence: ................... jack drove his white van to the bazaar to buy milk and honey for his starving family.\n",
            "Input Text for Unmasking: Jack drove his car. jack drove his [MASK]van to the bazaar to [MASK] milk and honey for his [MASK] family .\n",
            "Predicted Sentence: jack drove his car. jack drove his small van to the bazaar to buy milk and honey for his new family.\n",
            "Original Word: mini, Base Prediction: white, Help Prediction: small\n",
            "Original Word: purchase, Base Prediction: buy, Help Prediction: buy\n",
            "Original Word: large, Base Prediction: starving, Help Prediction: new\n",
            "Original Sentence: Jack drove his minivan to the bazaar to purchase milk and honey for his large family.\n",
            "Masked Sentence: jack drove his mini [MASK] to the bazaar to purchase [MASK] and honey for his large [MASK] .\n",
            "Mask Positions: [4, 10, 16]\n",
            "Input Text for Unmasking: ................... jack drove his mini [MASK] to the bazaar to purchase [MASK] and honey for his large [MASK] .\n",
            "Predicted Sentence: ................... jack drove his minivan to the bazaar to buy milk and honey for his large family.\n",
            "Input Text for Unmasking: Jack drove his car. jack drove his mini [MASK] to the bazaar to purchase [MASK] and honey for his large [MASK] .\n",
            "Predicted Sentence: jack drove his car. jack drove his minivan to the bazaar to buy milk and honey for his large family.\n",
            "Original Word: ##van, Base Prediction: ##van, Help Prediction: ##van\n",
            "Original Word: milk, Base Prediction: milk, Help Prediction: milk\n",
            "Original Word: family, Base Prediction: family, Help Prediction: family\n",
            "Original Sentence: Jack drove his minivan to the bazaar to purchase milk and honey for his large family.\n",
            "Masked Sentence: jack drove his minivan to the bazaar to purchase milk and honey for his large family .\n",
            "Mask Positions: []\n",
            "Input Text for Unmasking: ................... jack drove his minivan to the bazaar to purchase milk and honey for his large family .\n",
            "Predicted Sentence: ................... jack drove his minivan to the bazaar to buy milk and honey for his large family.\n",
            "Input Text for Unmasking: Jack drove his car. jack drove his minivan to the bazaar to purchase milk and honey for his large family .\n",
            "Predicted Sentence: . drove his car. jack drove his minivan to the bazaar to buy milk and honey for his large family.\n",
            "Original Sentence: Jack drove his minivan to the bazaar to purchase milk and honey for his large family.\n",
            "Masked Sentence: [MASK] drove his minivan to the bazaar to purchase milk and [MASK] for his large family .\n",
            "Mask Positions: [0, 12]\n",
            "Input Text for Unmasking: ................... [MASK] drove his minivan to the bazaar to purchase milk and [MASK] for his large family .\n",
            "Predicted Sentence: ................... he drove his minivan to the bazaar to buy milk and bread for his large family.\n",
            "Input Text for Unmasking: Jack drove his car. [MASK] drove his minivan to the bazaar to purchase milk and [MASK] for his large family .\n",
            "Predicted Sentence: jack drove his car. jack drove his minivan to the bazaar to buy milk and eggs for his large family.\n",
            "Original Word: jack, Base Prediction: he, Help Prediction: jack\n",
            "Original Word: honey, Base Prediction: bread, Help Prediction: eggs\n",
            "S: [[5, 2], [0, 3]]\n",
            "BLANC Score: 0.2\n"
          ]
        },
        {
          "output_type": "execute_result",
          "data": {
            "text/plain": [
              "0.2"
            ]
          },
          "metadata": {},
          "execution_count": 5
        }
      ]
    },
    {
      "cell_type": "markdown",
      "source": [
        "#BLANC Tune reimplementation"
      ],
      "metadata": {
        "id": "t4rWe6Dj8jdy"
      }
    },
    {
      "cell_type": "code",
      "source": [
        "class BlancTune(BlancHelp):\n",
        "    def __init__(self):\n",
        "        super().__init__()\n",
        "\n",
        "    def fine_tune_model(self, summary, learning_rate=5e-5, epochs=3):\n",
        "        inputs = self.tokenizer(summary, return_tensors=\"pt\", max_length=512, truncation=True, padding=\"max_length\")\n",
        "\n",
        "        # Prepare the model for training\n",
        "        self.model.train()\n",
        "        optimizer = AdamW(self.model.parameters(), lr=learning_rate)\n",
        "\n",
        "        # Fine-tuning loop\n",
        "        for epoch in range(epochs):\n",
        "            optimizer.zero_grad()\n",
        "            outputs = self.model(**inputs, labels=inputs[\"input_ids\"])\n",
        "            loss = outputs.loss\n",
        "            loss.backward()\n",
        "            optimizer.step()\n",
        "\n",
        "    def eval(self, document, summary):\n",
        "        self.fine_tune_model(summary)\n",
        "        return super().eval(document, summary)\n"
      ],
      "metadata": {
        "id": "_m3Tg7rvvnFA"
      },
      "execution_count": 12,
      "outputs": []
    },
    {
      "cell_type": "markdown",
      "source": [
        "## Test code for case study"
      ],
      "metadata": {
        "id": "xj4AgNr78pWg"
      }
    },
    {
      "cell_type": "code",
      "source": [
        "blanc_tune = BlancTune()\n",
        "tune_score = blanc_tune.eval(document, summary)\n",
        "print(f\"BLANC-tune Score: {tune_score}\")"
      ],
      "metadata": {
        "colab": {
          "base_uri": "https://localhost:8080/"
        },
        "id": "m_UPbgvrvtjl",
        "outputId": "3de019a6-eefa-4ddd-83f8-690eda48c9a7"
      },
      "execution_count": 13,
      "outputs": [
        {
          "output_type": "stream",
          "name": "stderr",
          "text": [
            "Some weights of the model checkpoint at bert-base-uncased were not used when initializing BertForMaskedLM: ['cls.seq_relationship.bias', 'cls.seq_relationship.weight', 'bert.pooler.dense.weight', 'bert.pooler.dense.bias']\n",
            "- This IS expected if you are initializing BertForMaskedLM from the checkpoint of a model trained on another task or with another architecture (e.g. initializing a BertForSequenceClassification model from a BertForPreTraining model).\n",
            "- This IS NOT expected if you are initializing BertForMaskedLM from the checkpoint of a model that you expect to be exactly identical (initializing a BertForSequenceClassification model from a BertForSequenceClassification model).\n",
            "/usr/local/lib/python3.10/dist-packages/transformers/optimization.py:411: FutureWarning: This implementation of AdamW is deprecated and will be removed in a future version. Use the PyTorch implementation torch.optim.AdamW instead, or set `no_deprecation_warning=True` to disable this warning\n",
            "  warnings.warn(\n"
          ]
        },
        {
          "output_type": "stream",
          "name": "stdout",
          "text": [
            "Original Sentence: Jack drove his minivan to the bazaar to purchase milk and honey for his large family.\n",
            "Masked Sentence: jack [MASK] his minivan to the [MASK] to purchase milk and honey for his large family .\n",
            "Mask Positions: [1, 7]\n",
            "Input Text for Unmasking: ........................... jack [MASK] his minivan to the [MASK] to purchase milk and honey for his large family .\n",
            "Predicted Sentence: ........................... jack takes his minivan to the store to buy milk and honey for his large family.\n",
            "Input Text for Unmasking: Jack bought milk and honey. jack [MASK] his minivan to the [MASK] to purchase milk and honey for his large family .\n",
            "Predicted Sentence: jack bought milk and honey. jack took his mini rover to the store to purchase milk and honey for his large family.\n",
            "Original Word: drove, Base Prediction: takes, Help Prediction: took\n",
            "Original Word: bazaar, Base Prediction: store, Help Prediction: store\n",
            "Original Sentence: Jack drove his minivan to the bazaar to purchase milk and honey for his large family.\n",
            "Masked Sentence: jack drove his minivan to the bazaar to purchase milk and honey for his large family .\n",
            "Mask Positions: []\n",
            "Input Text for Unmasking: ........................... jack drove his minivan to the bazaar to purchase milk and honey for his large family .\n",
            "Predicted Sentence: ........................... jack drove his minivan to the bazaar to buy milk and honey for his large family.\n",
            "Input Text for Unmasking: Jack bought milk and honey. jack drove his minivan to the bazaar to purchase milk and honey for his large family .\n",
            "Predicted Sentence: jack bought milk and honey. jack drove his minivan to the bazaar to purchase milk and honey for his large family.\n",
            "Original Sentence: Jack drove his minivan to the bazaar to purchase milk and honey for his large family.\n",
            "Masked Sentence: jack drove his [MASK]van to the bazaar to [MASK] milk and honey for his [MASK] family .\n",
            "Mask Positions: [3, 9, 15]\n",
            "Input Text for Unmasking: ........................... jack drove his [MASK]van to the bazaar to [MASK] milk and honey for his [MASK] family .\n",
            "Predicted Sentence: ........................... jack drove his own van to the bazaar to buy milk and honey for his growing family.\n",
            "Input Text for Unmasking: Jack bought milk and honey. jack drove his [MASK]van to the bazaar to [MASK] milk and honey for his [MASK] family .\n",
            "Predicted Sentence: jack bought milk and honey. jack drove his small van to the bazaar to buy milk and honey for his new family.\n",
            "Original Word: mini, Base Prediction: own, Help Prediction: small\n",
            "Original Word: purchase, Base Prediction: buy, Help Prediction: buy\n",
            "Original Word: large, Base Prediction: growing, Help Prediction: new\n",
            "Original Sentence: Jack drove his minivan to the bazaar to purchase milk and honey for his large family.\n",
            "Masked Sentence: jack drove his mini [MASK] to the bazaar to purchase [MASK] and honey for his large [MASK] .\n",
            "Mask Positions: [4, 10, 16]\n",
            "Input Text for Unmasking: ........................... jack drove his mini [MASK] to the bazaar to purchase [MASK] and honey for his large [MASK] .\n",
            "Predicted Sentence: ........................... jack drove his minivan to the bazaar to buy milk and honey for his large family.\n",
            "Input Text for Unmasking: Jack bought milk and honey. jack drove his mini [MASK] to the bazaar to purchase [MASK] and honey for his large [MASK] .\n",
            "Predicted Sentence: jack bought milk and honey. jack drove his minivan to the bazaar to purchase milk and honey for his large family.\n",
            "Original Word: ##van, Base Prediction: ##van, Help Prediction: ##van\n",
            "Original Word: milk, Base Prediction: milk, Help Prediction: milk\n",
            "Original Word: family, Base Prediction: family, Help Prediction: family\n",
            "Original Sentence: Jack drove his minivan to the bazaar to purchase milk and honey for his large family.\n",
            "Masked Sentence: jack drove his minivan to the bazaar to purchase milk and honey for his large family .\n",
            "Mask Positions: []\n",
            "Input Text for Unmasking: ........................... jack drove his minivan to the bazaar to purchase milk and honey for his large family .\n",
            "Predicted Sentence: ........................... jack drove his minivan to the bazaar to purchase milk and honey for his large family.\n",
            "Input Text for Unmasking: Jack bought milk and honey. jack drove his minivan to the bazaar to purchase milk and honey for his large family .\n",
            "Predicted Sentence: jack bought milk and honey. jack drove his minivan to the bazaar to purchase milk and honey for his large family.\n",
            "Original Sentence: Jack drove his minivan to the bazaar to purchase milk and honey for his large family.\n",
            "Masked Sentence: [MASK] drove his minivan to the bazaar to purchase milk and [MASK] for his large family .\n",
            "Mask Positions: [0, 12]\n",
            "Input Text for Unmasking: ........................... [MASK] drove his minivan to the bazaar to purchase milk and [MASK] for his large family .\n",
            "Predicted Sentence: ........................... he drove his minivan to the bazaar to purchase milk and food for his large family.\n",
            "Input Text for Unmasking: Jack bought milk and honey. [MASK] drove his minivan to the bazaar to purchase milk and [MASK] for his large family .\n",
            "Predicted Sentence: jack bought milk and honey. he drove his minivan to the bazaar to buy milk and honey for his large family.\n",
            "Original Word: jack, Base Prediction: he, Help Prediction: he\n",
            "Original Word: honey, Base Prediction: food, Help Prediction: honey\n",
            "S: [[6, 1], [0, 3]]\n",
            "BLANC Score: 0.1\n",
            "BLANC-tune Score: 0.1\n"
          ]
        }
      ]
    }
  ]
}