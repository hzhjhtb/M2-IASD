{
 "cells": [
  {
   "cell_type": "markdown",
   "metadata": {},
   "source": [
    "# Non-convex optimization - application to matrix completion\n",
    "In this notebook, we define matrix completion problems and we implement a (naive) algorithm to solve it through non-convex optimization."
   ]
  },
  {
   "cell_type": "code",
   "execution_count": 1,
   "metadata": {},
   "outputs": [],
   "source": [
    "from enum import Enum\n",
    "import numpy as np\n",
    "from numpy import random\n",
    "import matplotlib.pyplot as plt"
   ]
  },
  {
   "cell_type": "markdown",
   "metadata": {},
   "source": [
    "## Matrix completion\n",
    "Matrix completion is the problem of recovering a matrix $M\\in \\mathbb{R}^{n\\times m}$ from the observation of a subset of entries, $(M_{i,j})_{(i,j)\\in S}$ for some $S\\subset\\{1,\\dots,n\\}\\times\\{1,\\dots,m\\}$, under the hypothesis that $M$ has low rank.\n",
    "\n",
    "In this notebook, we make a simplifying assumption: $M$ is square ($n=m$) and positive semidefinite ($M\\succeq 0$)."
   ]
  },
  {
   "cell_type": "markdown",
   "metadata": {},
   "source": [
    "To perform tests, we will need to generate random instances of matrix completion problems. This is done with two functions. The first one, subsample_matrix, selects a random subset of entries of a matrix."
   ]
  },
  {
   "cell_type": "code",
   "execution_count": 2,
   "metadata": {},
   "outputs": [],
   "source": [
    "def subsample_matrix(M,s):\n",
    "    # M is the matrix to subsample\n",
    "    # s is the number of entries to select\n",
    "    m = np.shape(M)[0]\n",
    "    n = np.shape(M)[1]\n",
    "    subset = random.choice(m*n,s,replace=False)\n",
    "    mask = np.zeros(n*m)\n",
    "    mask[subset] = 1\n",
    "    mask = mask.reshape((m,n))\n",
    "    M_sub = M * mask\n",
    "    return (M_sub,mask)"
   ]
  },
  {
   "cell_type": "markdown",
   "metadata": {},
   "source": [
    "**Question 1:** Write a function generate_matrix(n,p) which returns a random $n\\times n$ semidefinite positive matrix with rank $p$."
   ]
  },
  {
   "cell_type": "code",
   "execution_count": 3,
   "metadata": {},
   "outputs": [],
   "source": [
    "def generate_matrix(n,p):\n",
    "    # n is the dimension of the matrix\n",
    "    # p is the rank\n",
    "    U = random.randn(n,p)\n",
    "    M = np.dot(U,np.transpose(U))\n",
    "    return M"
   ]
  },
  {
   "cell_type": "markdown",
   "metadata": {},
   "source": [
    "## Cost function and gradient descent"
   ]
  },
  {
   "cell_type": "markdown",
   "metadata": {},
   "source": [
    "Given the rank $p$ and the entries $(M_{i,j})_{(i,j)\\in S}$, we attempt to reconstruct $M$ with a naive heuristic."
   ]
  },
  {
   "cell_type": "markdown",
   "metadata": {},
   "source": [
    "**Question 2:** Show that $M$ is semidefinite positive with rank at most $p$ if and only if it can be written as $M=UU^T$ for some $U\\in\\mathbb{R}^{n\\times p}$."
   ]
  },
  {
   "cell_type": "markdown",
   "metadata": {},
   "source": [
    "**Solution:** First, if $M=UU^T$ for some $U\\in\\mathbb{R}^{n\\times p}$, it is semidefinite positive: for all $x\\in\\mathbb{R}^n$,\n",
    "\\begin{equation*}\n",
    "\\langle x,Mx\\rangle = x^TUU^Tx = (U^Tx)^T (U^Tx) = ||U^Tx||^2\\geq 0.\n",
    "\\end{equation*}\n",
    "Its range is included in the range of $U$, which has dimension at most $p$ because $U$ has only $p$ columns. Therefore, the range of $M$ has dimension at most $p$, and $\\mathrm{rank}(M)\\leq p$.\n",
    "\n",
    "We now assume that $M$ is semidefinite positive with rank at most $p$ and show that it can be written as $M=UU^T$ for some $U\\in\\mathbb{R}^{n\\times p}$. As $M$ is symmetric, it can be diagonalized in an orthonormal basis:\n",
    "\\begin{equation*}\n",
    "M=G\\left(\\begin{smallmatrix}\\lambda_1&&\\\\&\\ddots&\\\\&&\\lambda_n\\end{smallmatrix}\\right)G^T.\n",
    "\\end{equation*}\n",
    "Because $M$ has rank at most $p$, it has at most $p$ non-zero eigenvalues. We can order the eigenvalues so that $\\lambda_{p+1}=\\dots=\\lambda_n=0$.\n",
    "\n",
    "And as $M\\succeq 0$, all its eigenvalues are nonnegative: $\\lambda_1,\\dots,\\lambda_p\\geq 0$. Hence,\n",
    "\\begin{equation*}\n",
    "\\left(\\begin{smallmatrix}\\lambda_1&&\\\\&\\ddots&\\\\&&\\lambda_n\\end{smallmatrix}\\right)\n",
    "=\\left(\\begin{smallmatrix}\\lambda_1&&&&&\\\\&\\ddots&&&&\\\\&&\\lambda_p&&&\\\\\n",
    "&&&0&&\\\\&&&&\\ddots&\\\\&&&&&0\\end{smallmatrix}\\right)\n",
    "=\\left(\\begin{smallmatrix}\\sqrt{\\lambda_1}&&\\\\&\\ddots&\\\\&&\\sqrt{\\lambda_p}\\\\\n",
    "0&\\dots&0\\\\\\vdots&&\\vdots\\\\0&\\dots&0\\end{smallmatrix}\\right)\n",
    "\\left(\\begin{smallmatrix}\\sqrt{\\lambda_1}&&0&\\dots&0\\\\&\\ddots&\\vdots&&\\vdots\\\\&&\\sqrt{\\lambda_p}&0&\\dots&0\\end{smallmatrix}\\right)\n",
    "\\end{equation*}\n",
    "\n",
    "As a consequence, $M=UU^T$ for\n",
    "\\begin{equation*}\n",
    "U=G \\left(\\begin{smallmatrix}\\sqrt{\\lambda_1}&&\\\\&\\ddots&\\\\&&\\sqrt{\\lambda_p}\\\\\n",
    "0&\\dots&0\\\\\\vdots&&\\vdots\\\\0&\\dots&0\\end{smallmatrix}\\right).\n",
    "\\end{equation*}\n",
    "$\\square$"
   ]
  },
  {
   "cell_type": "markdown",
   "metadata": {},
   "source": [
    "This property implies that, to recover $M$, it is enough to find $U\\in\\mathbb{R}^{n\\times p}$ such that, for all $(i,j)\\in S$, $(UU^T)_{i,j} = M_{i,j}$."
   ]
  },
  {
   "cell_type": "markdown",
   "metadata": {},
   "source": [
    "**Question 3:** Show that the matrices $U$ which satisfy these equalities are exactly the minimizers of the following function:\n",
    "\\begin{equation*}\n",
    "L : U\\in\\mathbb{R}^{n\\times p} \\to \\sum_{(i,j)\\in S} ((UU^T)_{i,j}-M_{i,j})^2.\n",
    "\\end{equation*}"
   ]
  },
  {
   "cell_type": "markdown",
   "metadata": {},
   "source": [
    "**Solution:** We observe that $L(U)\\geq 0$ for any $U$, since squares are nonnegative. Additionally, if $U$ is a matrix such that $M=UU^T$, then $M_{i,j}=(UU^T)_{i,j}$ for any $(i,j)\\in S$, hence $L(U)=0$. This shows that the minimum of $L$ is zero.\n",
    "\n",
    "Consequently, $U$ is a minimizer of $L$ if and only if $L(U)=0$, that is if and only if all the squares in the definition of $L$ are zero, that is if and only if\n",
    "\\begin{equation*}\n",
    "(UU^T)_{i,j}=M_{i,j},\\quad\\forall (i,j)\\in S.\n",
    "\\end{equation*}\n",
    "$\\square$"
   ]
  },
  {
   "cell_type": "markdown",
   "metadata": {},
   "source": [
    "This suggests to recover $U$ by attempting to find a minimizer of $L$. We do this by running gradient descent on $L$."
   ]
  },
  {
   "cell_type": "markdown",
   "metadata": {},
   "source": [
    "**Question 4:** Show that, for any $U\\in\\mathbb{R}^{n\\times p}$,\n",
    "\\begin{equation*}\n",
    "\\nabla L(U) = 2 (E+E^T)U,\\mbox{ with }E = (UU^T-M) \\otimes \\mathrm{Mask},\n",
    "\\end{equation*}\n",
    "where $\\mathrm{Mask}$ is the $n\\times n$ matrix such that\n",
    "\\begin{align*}\n",
    "\\mathrm{Mask}_{i,j}&=1\\mbox{ if }(i,j)\\in S,\\\\\n",
    "&=0\\mbox{ otherwise},\n",
    "\\end{align*}\n",
    "and $\\otimes$ denotes the coordinate by coordinate multiplication."
   ]
  },
  {
   "cell_type": "markdown",
   "metadata": {},
   "source": [
    "**Solution:** Let $U\\in\\mathbb{R}^{n\\times p}$ be fixed. The gradient $\\nabla L(U)$ is the only element in $\\mathbb{R}^{n\\times p}$ such that, for all $V\\in\\mathbb{R}^{n\\times p}$,\n",
    "\\begin{equation*}\n",
    "\\langle \\nabla L(U),V\\rangle = \\underset{\\epsilon\\to 0}{\\lim} \\frac{L(U+\\epsilon V)-L(U)}{\\epsilon}.\n",
    "\\end{equation*}\n",
    "\n",
    "For any $V\\in\\mathbb{R}^{n\\times p}$ and $\\epsilon\\in\\mathbb{R}$,\n",
    "\\begin{align*}\n",
    "L(U+\\epsilon V)-L(U)\n",
    "& = \\sum_{(i,j)\\in S} (((U+\\epsilon V)(U+\\epsilon V)^T)_{i,j}-M_{i,j})^2-((UU^T)_{i,j}-M_{i,j})^2 \\\\\n",
    "& = \\sum_{(i,j)\\in S} ((UU^T+\\epsilon VU^T+\\epsilon UV^T+\\epsilon^2VV^T)_{i,j}-M_{i,j})^2-((UU^T)_{i,j}-M_{i,j})^2 \\\\\n",
    "& = \\sum_{(i,j)\\in S} ((UU^T)_{i,j}-M_{i,j}+\\epsilon (VU^T+ UV^T)_{i,j})^2-((UU^T)_{i,j}-M_{i,j})^2 + O(\\epsilon^2)\\\\\n",
    "& = \\sum_{(i,j)\\in S} 2 \\epsilon ((UU^T)_{i,j}-M_{i,j})(VU^T+ UV^T)_{i,j} + O(\\epsilon^2)\\\\\n",
    "& = 2 \\epsilon \\sum_{1\\leq i,j\\leq n} \\mathrm{Mask}_{i,j} ((UU^T)_{i,j}-M_{i,j})(VU^T+ UV^T)_{i,j} + O(\\epsilon^2)\\\\\n",
    "& = 2 \\epsilon \\langle E, VU^T+UV^T \\rangle + O(\\epsilon^2).\n",
    "\\end{align*}\n",
    "\n",
    "Therefore, for any $V\\in\\mathbb{R}^{n\\times p}$,\n",
    "\\begin{equation*}\n",
    "\\langle \\nabla L(U),V\\rangle = 2 \\langle E,VU^T+UV^T \\rangle.\n",
    "\\end{equation*}\n",
    "\n",
    "To conclude, we only have to write $2 \\langle E,VU^T+UV^T \\rangle$ under the form $\\langle \\mbox{something},V\\rangle$.\n",
    "\n",
    "We have\n",
    "\\begin{align*}\n",
    "\\langle E,VU^T\\rangle\n",
    "&=\\mathrm{Tr}(E(VU^T)^T)\\\\\n",
    "&=\\mathrm{Tr}(EUV^T) \\\\\n",
    "&=\\langle EU,V\\rangle\n",
    "\\end{align*}\n",
    "and\n",
    "\\begin{align*}\n",
    "\\langle E,UV^T\\rangle\n",
    "& = \\langle E^T,(UV^T)^T\\rangle \\\\\n",
    "& = \\langle E^T,VU^T\\rangle \\\\\n",
    "&=\\langle E^TU,V\\rangle.\n",
    "\\end{align*}\n",
    "\n",
    "Therefore, for any $V\\in\\mathbb{R}^{n\\times p}$,\n",
    "\\begin{equation*}\n",
    "\\langle \\nabla L(U),V\\rangle = \\langle 2(E+E^T)U,V \\rangle,\n",
    "\\end{equation*}\n",
    "which proves that $\\nabla L(U)=2(E+E^T)U$.\n",
    "\n",
    "$\\square$"
   ]
  },
  {
   "cell_type": "markdown",
   "metadata": {},
   "source": [
    "**Question 5:** Implement functions cost_function($U$,$M_{sub}$,$\\mathrm{Mask}$) and cost_and_gradient($U$,$M_{sub}$,$\\mathrm{Mask}$), which respectively compute $L(U)$ and $(L(U),\\nabla L(U))$."
   ]
  },
  {
   "cell_type": "code",
   "execution_count": 4,
   "metadata": {},
   "outputs": [],
   "source": [
    "def cost_function(U,M_sub,mask):\n",
    "    # M_sub,mask are the observed values and their position\n",
    "    # U is the point at which L and its gradient are computed\n",
    "    E = np.dot(U,np.transpose(U))-M_sub\n",
    "    E = E * mask\n",
    "    return np.sum(E**2)"
   ]
  },
  {
   "cell_type": "code",
   "execution_count": 5,
   "metadata": {},
   "outputs": [],
   "source": [
    "def cost_and_gradient(U,M_sub,mask):\n",
    "    # M_sub,mask are the observed values and their position\n",
    "    # U is the point at which L and its gradient are computed\n",
    "    E = np.dot(U,np.transpose(U))-M_sub\n",
    "    E = E * mask\n",
    "    cost = np.sum(E**2)\n",
    "    grad = 2*np.dot(E+np.transpose(E),U)\n",
    "    return (cost,grad)"
   ]
  },
  {
   "cell_type": "markdown",
   "metadata": {},
   "source": [
    "We define a function classify which, given a matrix $U$, determines whether it is an approximate global minimum of $L$, an approximate first-order critical point, or neither of them."
   ]
  },
  {
   "cell_type": "code",
   "execution_count": 6,
   "metadata": {},
   "outputs": [],
   "source": [
    "class convergence(Enum):\n",
    "    NOT_CONVERGED = 0\n",
    "    GLOBAL_MINIMUM = 1\n",
    "    CRITICAL_POINT = 2"
   ]
  },
  {
   "cell_type": "code",
   "execution_count": 7,
   "metadata": {},
   "outputs": [],
   "source": [
    "def classify(M_sub,mask,U,cost,grad):\n",
    "    # M_sub,mask are the observed values and their position\n",
    "    # U is the candidate solution\n",
    "    \n",
    "    if cost/np.sum(M_sub**2)<1e-4:\n",
    "        return convergence.GLOBAL_MINIMUM # solution\n",
    "    elif np.linalg.norm(grad)/np.linalg.norm(U)<1e-3:\n",
    "        return convergence.CRITICAL_POINT # first order critical\n",
    "    else:\n",
    "        return convergence.NOT_CONVERGED # not converged"
   ]
  },
  {
   "cell_type": "markdown",
   "metadata": {},
   "source": [
    "Properly choosing the stepsize of gradient descent is delicate. We propose to use backtracking line search. The following function implements it. It takes as input the previous stepsize (as well as the parameters of the problem, the current iterate, and the value and gradient of $L$ at this iterate) and returns the new one."
   ]
  },
  {
   "cell_type": "code",
   "execution_count": 8,
   "metadata": {},
   "outputs": [],
   "source": [
    "def backtrack(previous_step,M_sub,mask,U,cost,grad):\n",
    "    # previous_step is the step used at the previous iteration, or the initial one\n",
    "    # M_sub,mask are the observed values and their position\n",
    "    # U is the current iterate\n",
    "    # cost,grad are the value and gradient of L at U\n",
    "    step = 1.1*previous_step\n",
    "    norm_grad_square = np.sum(grad**2)\n",
    "    while (cost_function(U-step*grad,M_sub,mask)-cost > \n",
    "          - step * norm_grad_square / 2):\n",
    "        step = step/2\n",
    "    return step"
   ]
  },
  {
   "cell_type": "markdown",
   "metadata": {},
   "source": [
    "**Question 6:** Write a function gradient_descent_solver($M_{sub}$,$\\mathrm{mask}$,$p$,nb_its) which tries to reconstruct $M$ by performing nb_its gradient descent steps on $L$, starting from a random initial point. The function must return the candidate solution $M$, the list of values of $L$ explored during the descent and the convergence status after the last iteration, as defined by the function classify.\n",
    "\n",
    "To save time, interrupt the descent before reaching nb_its iterations if approximate convergence has already occured (use the function classify again)."
   ]
  },
  {
   "cell_type": "code",
   "execution_count": 9,
   "metadata": {},
   "outputs": [],
   "source": [
    "def gradient_descent_solver(M_sub,mask,p,nb_its):\n",
    "    # M_sub, mask are the observed values and their position\n",
    "    # p is the rank\n",
    "    # nb_its is the number of descent steps\n",
    "\n",
    "    n = M_sub.shape[0]\n",
    "    U = random.randn(n,p) # random initialization\n",
    "    \n",
    "    error = np.zeros(nb_its)\n",
    "    step = 1.\n",
    "    for t in np.arange(0,nb_its):\n",
    "        (cost,grad) = cost_and_gradient(U,M_sub,mask)\n",
    "        error[t] = cost\n",
    "        if classify(M_sub,U,cost,grad) is not convergence.NOT_CONVERGED:\n",
    "            break\n",
    "        step = backtrack(step,M_sub,mask,U,cost,grad)\n",
    "        U = U - step*grad\n",
    "        \n",
    "    error = error[0:t]\n",
    "    status = classify(M_sub,U,cost,grad)\n",
    "    return (np.dot(U,np.transpose(U)),error,status)"
   ]
  },
  {
   "cell_type": "markdown",
   "metadata": {},
   "source": [
    "## Tests"
   ]
  },
  {
   "cell_type": "markdown",
   "metadata": {},
   "source": [
    "We first test the code by running a simple example."
   ]
  },
  {
   "cell_type": "code",
   "execution_count": 10,
   "metadata": {},
   "outputs": [
    {
     "name": "stdout",
     "output_type": "stream",
     "text": [
      "convergence.GLOBAL_MINIMUM\n"
     ]
    },
    {
     "data": {
      "text/plain": [
       "<matplotlib.image.AxesImage at 0x7fe469073910>"
      ]
     },
     "execution_count": 10,
     "metadata": {},
     "output_type": "execute_result"
    },
    {
     "data": {
      "image/png": "[encoded data removed]",
      "text/plain": [
       "<Figure size 432x288 with 1 Axes>"
      ]
     },
     "metadata": {
      "needs_background": "light"
     },
     "output_type": "display_data"
    },
    {
     "data": {
      "image/png": "[encoded data removed]",
      "text/plain": [
       "<Figure size 432x288 with 4 Axes>"
      ]
     },
     "metadata": {
      "needs_background": "light"
     },
     "output_type": "display_data"
    }
   ],
   "source": [
    "n = 5\n",
    "p = 2\n",
    "s = 13\n",
    "# Generate random instance\n",
    "M_sol = generate_matrix(n,p)\n",
    "(M_sub,mask) = subsample_matrix(M_sol,s)\n",
    "# Run gradient descent\n",
    "(M,error,status) = gradient_descent_solver(M_sub,mask,p,10000)\n",
    "# Plot the results\n",
    "print status\n",
    "plt.figure(1)\n",
    "plt.plot(np.arange(10,np.size(error)),error[10:])\n",
    "plt.xlabel('iteration')\n",
    "plt.ylabel('$L$')\n",
    "plt.figure(2)\n",
    "plt.subplot(221)\n",
    "plt.title('Ground truth')\n",
    "plt.imshow(M_sol)\n",
    "plt.subplot(222)\n",
    "plt.title('Candidate solution')\n",
    "plt.imshow(M,vmin=np.amin(M_sol),vmax=np.amax(M_sol))\n",
    "plt.subplot(223)\n",
    "plt.title('Difference')\n",
    "plt.imshow(M-M_sol,vmin=np.amin(M_sol),vmax=np.amax(M_sol))\n",
    "plt.subplot(224)\n",
    "plt.title('Mask')\n",
    "plt.imshow(mask)"
   ]
  },
  {
   "cell_type": "markdown",
   "metadata": {},
   "source": [
    "Secondly, we study the influence of the number of observed values on the behavior of gradient descent."
   ]
  },
  {
   "cell_type": "code",
   "execution_count": 11,
   "metadata": {},
   "outputs": [],
   "source": [
    "def test(n,p,s,nb_its,nb_tests):\n",
    "    # (n,p,s) = (matrix size, rank, number of observed values)\n",
    "    # nb_its is the number of gradient descent steps\n",
    "    # nb_tests is the number of tests\n",
    "    counter = [0,0,0]\n",
    "    for n_it in range(0,nb_tests):\n",
    "        M = generate_matrix(n,p)\n",
    "        (M_sub,mask) = subsample_matrix(M,s)\n",
    "        (U,error,status) = gradient_descent_solver(M_sub,mask,p,nb_its)\n",
    "        counter[status.value] = counter[status.value] + 1\n",
    "    return counter"
   ]
  },
  {
   "cell_type": "code",
   "execution_count": 12,
   "metadata": {},
   "outputs": [
    {
     "name": "stdout",
     "output_type": "stream",
     "text": [
      "s =  10 -  12 -  14 -  16 -  18 -  20 -  22 -  24 -  26 -  28 -  30 -  32 -  34 -  36 -  38 - "
     ]
    },
    {
     "data": {
      "text/plain": [
       "<matplotlib.legend.Legend at 0x7fe468f04450>"
      ]
     },
     "execution_count": 12,
     "metadata": {},
     "output_type": "execute_result"
    },
    {
     "name": "stdout",
     "output_type": "stream",
     "text": [
      "\n"
     ]
    },
    {
     "data": {
      "image/png": "[encoded data removed]",
      "text/plain": [
       "<Figure size 432x288 with 1 Axes>"
      ]
     },
     "metadata": {
      "needs_background": "light"
     },
     "output_type": "display_data"
    }
   ],
   "source": [
    "n = 9\n",
    "p = 1\n",
    "vals_s = range(10,40,2)\n",
    "nb_s = len(vals_s)\n",
    "counter = np.zeros((nb_s,3))\n",
    "print('s = '),\n",
    "for n_it in range(0,nb_s):\n",
    "    s = vals_s[n_it]\n",
    "    print(str(s) + ' - '),\n",
    "    counter[n_it,:] = test(n,p,s,20000,50)\n",
    "plt.xlabel('s')\n",
    "plt.ylabel('counts')\n",
    "plt.plot(vals_s,counter[:,convergence.GLOBAL_MINIMUM.value],label='Global minimum')\n",
    "plt.plot(vals_s,counter[:,convergence.CRITICAL_POINT.value],label='Critical point')\n",
    "plt.plot(vals_s,counter[:,convergence.NOT_CONVERGED.value],label='Not converged')\n",
    "plt.legend()"
   ]
  },
  {
   "cell_type": "markdown",
   "metadata": {},
   "source": [
    "## Additional questions"
   ]
  },
  {
   "cell_type": "markdown",
   "metadata": {},
   "source": [
    "<ul>\n",
    "<li>Perform tests for other values of $n,p$. How does the behavior of the algorithm vary with these parameters?</li>\n",
    "<li>Play with the stepsize.</li>\n",
    "<li>Implement an other optimization algorithm than gradient descent.</li>\n",
    "<li>Show that, for any $U\\in\\mathbb{R}^{n\\times p},G\\in O(p)$, $L(UG)=L(U)$.</li>\n",
    "<li>Compute all the critical points of $L$ when $s=n^2$. Is it in accordance with what you observe numerically? If not, why?</li>\n",
    "<li>Same question when $s=1$.</li>\n",
    "</ul>"
   ]
  }
 ],
 "metadata": {
  "kernelspec": {
   "display_name": "Python 3",
   "language": "python",
   "name": "python3"
  },
  "language_info": {
   "codemirror_mode": {
    "name": "ipython",
    "version": 3
   },
   "file_extension": ".py",
   "mimetype": "text/x-python",
   "name": "python",
   "nbconvert_exporter": "python",
   "pygments_lexer": "ipython3",
   "version": "3.9.9"
  }
 },
 "nbformat": 4,
 "nbformat_minor": 2
}
