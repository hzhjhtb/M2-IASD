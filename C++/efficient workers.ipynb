{
 "cells": [
  {
   "cell_type": "code",
   "execution_count": 3,
   "metadata": {},
   "outputs": [
    {
     "data": {
      "text/plain": [
       "5"
      ]
     },
     "execution_count": 3,
     "metadata": {},
     "output_type": "execute_result"
    }
   ],
   "source": [
    "def findMinCost(efficiency):\n",
    "    efficiency.sort()\n",
    "    n = len(efficiency)\n",
    "    memo = {}\n",
    "\n",
    "    def dp(i, excluded):\n",
    "        # If we've gone through all pairs, return 0 cost\n",
    "        if i >= n:\n",
    "            return 0 if excluded else float('inf')\n",
    "        \n",
    "        # If we've already computed this subproblem, return the stored result\n",
    "        if (i, excluded) in memo:\n",
    "            return memo[(i, excluded)]\n",
    "\n",
    "        # Cost if we exclude the current worker\n",
    "        exclude_current = dp(i + 1, True) if not excluded else float('inf')\n",
    "\n",
    "        # Cost if we pair the current worker with the next one and exclude another one later\n",
    "        include_current = dp(i + 2, excluded) + (0 if i + 1 >= n else abs(efficiency[i] - efficiency[i + 1]))\n",
    "\n",
    "        # The minimum cost between excluding the current or including it in a pair\n",
    "        memo[(i, excluded)] = min(exclude_current, include_current)\n",
    "\n",
    "        return memo[(i, excluded)]\n",
    "    \n",
    "    # Start the recursion from the first worker and no one excluded\n",
    "    return dp(0, False)\n",
    "\n",
    "# Test the function with the given example\n",
    "efficiency = [4, 16, 2, 1, 8]\n",
    "findMinCost(efficiency)"
   ]
  },
  {
   "cell_type": "code",
   "execution_count": null,
   "metadata": {},
   "outputs": [],
   "source": []
  }
 ],
 "metadata": {
  "kernelspec": {
   "display_name": "IASD",
   "language": "python",
   "name": "python3"
  },
  "language_info": {
   "codemirror_mode": {
    "name": "ipython",
    "version": 3
   },
   "file_extension": ".py",
   "mimetype": "text/x-python",
   "name": "python",
   "nbconvert_exporter": "python",
   "pygments_lexer": "ipython3",
   "version": "3.10.12"
  },
  "orig_nbformat": 4
 },
 "nbformat": 4,
 "nbformat_minor": 2
}
