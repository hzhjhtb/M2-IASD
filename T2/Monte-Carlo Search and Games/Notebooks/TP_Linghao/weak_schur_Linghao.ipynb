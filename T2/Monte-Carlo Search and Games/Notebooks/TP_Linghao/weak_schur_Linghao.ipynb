{
 "cells": [
  {
   "cell_type": "code",
   "execution_count": 9,
   "metadata": {},
   "outputs": [],
   "source": [
    "import random\n",
    "import math\n",
    "import numpy as np\n",
    "N = 3\n",
    "\n",
    "MaxNumber = 10000\n",
    "class WS (object):\n",
    "    def __init__ (self):\n",
    "        self.partitions = [[] for i in range (N)]\n",
    "        self.possible = np.full((N,MaxNumber),True)\n",
    "        self.next = 1\n",
    "        self.sequence = []\n",
    " \n",
    "    def legalMoves (self):\n",
    "        l = []\n",
    "        for i in range (N):\n",
    "            if self.possible [i] [self.next]:\n",
    "                l.append (i)\n",
    "        return l\n",
    " \n",
    "    def code (self, p):\n",
    "        return N * self.next + p\n",
    "    \n",
    "    def terminal (self):\n",
    "        l = self.legalMoves ()\n",
    "        if l == []:\n",
    "            return True\n",
    "        return False\n",
    " \n",
    "    def score (self):\n",
    "        return self.next - 1\n",
    " \n",
    "    def play (self, p):\n",
    "        for i in range (len (self.partitions [p])):\n",
    "            self.possible [p] [self.next + self.partitions [p] [i]] = False\n",
    "        self.partitions [p].append (self.next)\n",
    "        self.next = self.next + 1\n",
    "        self.sequence.append (p)\n",
    "\n",
    "    def beta (self, p):\n",
    "        last = len (self.sequence)\n",
    "        if last == 0:\n",
    "            return 0\n",
    "        if p == self.sequence[last-1]:\n",
    "            return 10\n",
    "        return 0"
   ]
  },
  {
   "cell_type": "code",
   "execution_count": 2,
   "metadata": {},
   "outputs": [],
   "source": [
    "class Policy (object):\n",
    "    def __init__ (self):\n",
    "        self.dict = {}\n",
    " \n",
    "    def get (self, code):\n",
    "        w = 0\n",
    "        if code in self.dict:\n",
    "            w = self.dict [code]\n",
    "        return w\n",
    " \n",
    "    def put (self, code, w):\n",
    "        self.dict [code] = w "
   ]
  },
  {
   "cell_type": "code",
   "execution_count": 3,
   "metadata": {},
   "outputs": [],
   "source": [
    "def playout (state, policy):\n",
    "    while not state.terminal ():\n",
    "        l = state.legalMoves ()\n",
    "        z = 0\n",
    "        for i in range (len (l)):\n",
    "            z = z + math.exp (policy.get (state.code (l [i])))\n",
    "        stop = random.random () * z\n",
    "        move = 0\n",
    "        z = 0\n",
    "        while True:\n",
    "            z = z + math.exp (policy.get (state.code (l [move])))\n",
    "            if z >= stop:\n",
    "                break\n",
    "            move = move + 1\n",
    "        state.play (l [move])"
   ]
  },
  {
   "cell_type": "code",
   "execution_count": 5,
   "metadata": {},
   "outputs": [],
   "source": [
    "import copy\n",
    "\n",
    "def adapt (sequence, policy):\n",
    "    polp = copy.deepcopy (policy)\n",
    "    s = WS ()\n",
    "    while not s.terminal ():\n",
    "        l = s.legalMoves ()\n",
    "        z = 0\n",
    "        for i in range (len (l)):\n",
    "            z = z + math.exp (policy.get (s.code (l [i])))\n",
    "        move = sequence [len (s.sequence)]\n",
    "        polp.put (s.code (move), polp.get(s.code (move)) + 1)\n",
    "        for i in range (len (l)):\n",
    "            proba = math.exp (policy.get (s.code (l [i]))) / z\n",
    "            polp.put (s.code (l [i]), polp.get(s.code (l [i])) - proba)\n",
    "        s.play (move)\n",
    "    return polp"
   ]
  },
  {
   "cell_type": "code",
   "execution_count": 6,
   "metadata": {},
   "outputs": [
    {
     "name": "stdout",
     "output_type": "stream",
     "text": [
      "[[3, 5, 6, 7, 19, 21, 23], [1, 2, 4, 8, 11, 16, 22], [9, 10, 12, 13, 14, 15, 17, 18, 20]]\n"
     ]
    },
    {
     "data": {
      "text/plain": [
       "[[1, 2, 4, 8, 11, 16, 22],\n",
       " [3, 5, 6, 7, 19, 21, 23],\n",
       " [9, 10, 12, 13, 14, 15, 17, 18, 20]]"
      ]
     },
     "execution_count": 6,
     "metadata": {},
     "output_type": "execute_result"
    }
   ],
   "source": [
    "def NRPA (level, policy):\n",
    "    state = WS ()\n",
    "    if level == 0:\n",
    "        playout (state, policy)\n",
    "        return state\n",
    "    pol = copy.deepcopy (policy)\n",
    "    for i in range (100):\n",
    "        ws = NRPA (level - 1, pol)\n",
    "        if ws.score () >= state.score ():\n",
    "            state = ws\n",
    "        pol = adapt (state.sequence, pol)\n",
    "    return state\n",
    " \n",
    "ws = NRPA (2, Policy ())\n",
    "print (ws.partitions)\n",
    "[[1, 2, 4, 8, 11, 16, 22], [3, 5, 6, 7, 19, 21, 23], [9, 10, 12, 13, 14, 15, 17, 18, 20]]"
   ]
  },
  {
   "cell_type": "code",
   "execution_count": 7,
   "metadata": {},
   "outputs": [],
   "source": [
    "# Bias weights learning\n",
    "\n",
    "def playout(state, policy, w1):\n",
    "    while not state.terminal():\n",
    "        l = state.legalMoves()\n",
    "        z = 0\n",
    "        for i in range(len(l)):\n",
    "            z = z + math.exp(policy.get(state.code(l[i])) + w1 * state.beta(l[i]))\n",
    "        stop = random.random() * z\n",
    "        move = 0\n",
    "        z = 0\n",
    "        while True:\n",
    "            z = z + math.exp(policy.get(state.code(l[move])) + w1 * state.beta(l[move]))\n",
    "            if z >= stop:\n",
    "                break\n",
    "            move = move + 1\n",
    "        state.play(l[move])\n",
    "\n",
    "def adapt (sequence, policy, w1):\n",
    "    polp = copy.deepcopy (policy)\n",
    "    w = w1\n",
    "    s = WS ()\n",
    "    while not s.terminal ():\n",
    "        l = s.legalMoves ()\n",
    "        z = 0\n",
    "        b = 0\n",
    "        for i in range (len (l)):\n",
    "            z = z + math.exp (policy.get (s.code (l [i])) + w1 * s.beta (l [i]))\n",
    "            b = b + s.beta (l [i]) * math.exp (policy.get (s.code (l [i])) + w1 * s.beta (l [i]))\n",
    "        move = sequence [len (s.sequence)]\n",
    "        w = w + s.beta (move) – b / z\n",
    "        polp.put (s.code (move), polp.get(s.code (move)) + 1)\n",
    "        for i in range (len (l)):\n",
    "            proba = math.exp (policy.get (s.code (l [i])) + w1 * s.beta (l [i])) / z\n",
    "            polp.put (s.code (l [i]), polp.get(s.code (l [i])) - proba)\n",
    "        s.play (move)\n",
    "    return (polp,w)\n",
    "\n",
    "def BLGNRPA (level, policy, w):\n",
    "    state = WS ()\n",
    "    if level == 0:\n",
    "        playout (state, policy, w)\n",
    "        return state\n",
    "    pol = copy.deepcopy (policy)\n",
    "    w1 = w\n",
    "    for i in range (100):\n",
    "        ws = BLGNRPA (level - 1, pol, w1)\n",
    "        score = ws.score ()\n",
    "        if score >= state.score ():\n",
    "            state = ws\n",
    "        (pol, w1) = adapt (state.sequence, pol, w1)\n",
    "    return state"
   ]
  },
  {
   "cell_type": "code",
   "execution_count": null,
   "metadata": {},
   "outputs": [],
   "source": []
  },
  {
   "cell_type": "code",
   "execution_count": null,
   "metadata": {},
   "outputs": [],
   "source": []
  }
 ],
 "metadata": {
  "kernelspec": {
   "display_name": "IASD",
   "language": "python",
   "name": "python3"
  },
  "language_info": {
   "codemirror_mode": {
    "name": "ipython",
    "version": 3
   },
   "file_extension": ".py",
   "mimetype": "text/x-python",
   "name": "python",
   "nbconvert_exporter": "python",
   "pygments_lexer": "ipython3",
   "version": "3.10.13"
  }
 },
 "nbformat": 4,
 "nbformat_minor": 2
}
