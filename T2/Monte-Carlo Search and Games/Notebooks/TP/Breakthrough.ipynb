{
 "cells": [
  {
   "cell_type": "code",
   "execution_count": 1,
   "id": "nfwiu16oPV-M",
   "metadata": {
    "id": "nfwiu16oPV-M"
   },
   "outputs": [],
   "source": [
    "import numpy as np\n",
    "from copy import deepcopy\n",
    "import matplotlib.pyplot as plt\n",
    "from matplotlib import colors\n",
    "from math import sqrt\n",
    "from math import log"
   ]
  },
  {
   "cell_type": "markdown",
   "id": "2f4d4a95",
   "metadata": {
    "id": "2f4d4a95"
   },
   "source": [
    "# Move class for Breakthrough"
   ]
  },
  {
   "cell_type": "code",
   "execution_count": 2,
   "id": "f140c386",
   "metadata": {
    "id": "f140c386"
   },
   "outputs": [],
   "source": [
    "class Move(object):\n",
    "    def __init__(self, color, x1, y1, x2, y2):\n",
    "        self.color = color\n",
    "        self.x1 = x1\n",
    "        self.y1 = y1\n",
    "        self.x2 = x2\n",
    "        self.y2 = y2\n",
    "        \n",
    "    def valid (self, board):\n",
    "        if self.x2 >= Dx or self.y2 >= Dy or self.x2 < 0 or self.y2 < 0:\n",
    "            return False\n",
    "        if self.color == White:\n",
    "            if self.x2 != self.x1 + 1:\n",
    "                return False\n",
    "            if board.board [self.x2] [self.y2] == Black:\n",
    "                if self.y2 == self.y1 + 1 or self.y2 == self.y1 - 1:\n",
    "                    return True\n",
    "                return False\n",
    "            elif board.board [self.x2] [self.y2] == Empty:\n",
    "                if self.y2 == self.y1 + 1 or self.y2 == self.y1 - 1 or self.y2 == self.y1:\n",
    "                    return True\n",
    "                return False\n",
    "        elif self.color == Black:\n",
    "            if self.x2 != self.x1 - 1:\n",
    "                return False\n",
    "            if board.board [self.x2] [self.y2] == White:\n",
    "                if self.y2 == self.y1 + 1 or self.y2 == self.y1 - 1:\n",
    "                    return True\n",
    "                return False\n",
    "            elif board.board [self.x2] [self.y2] == Empty:\n",
    "                if self.y2 == self.y1 + 1 or self.y2 == self.y1 - 1 or self.y2 == self.y1:\n",
    "                    return True\n",
    "                return False\n",
    "        return False\n",
    "    \n",
    "    def code (self, board):\n",
    "        direction = 0\n",
    "        if self.y2 > self.y1:\n",
    "            if board.board [self.x2] [self.y2] == Empty:\n",
    "                direction = 1\n",
    "            else: \n",
    "                direction = 2\n",
    "        if self.y2 < self.y1:\n",
    "            if board.board [self.x2] [self.y2] == Empty:\n",
    "                direction = 3\n",
    "            else:\n",
    "                direction = 4\n",
    "        if self.color == White:\n",
    "            return 5 * (Dy * self.x1 + self.y1) + direction\n",
    "        else:\n",
    "            return 5 * Dx * Dy + 5 * (Dy * self.x1 + self.y1) + direction\n",
    "\n",
    "\n",
    "        "
   ]
  },
  {
   "cell_type": "markdown",
   "id": "fd9d3570",
   "metadata": {
    "id": "fd9d3570"
   },
   "source": [
    "# Board class to play Breakthrough 5x5"
   ]
  },
  {
   "cell_type": "code",
   "execution_count": 3,
   "id": "ad1bd5c6",
   "metadata": {
    "id": "ad1bd5c6"
   },
   "outputs": [],
   "source": [
    "import random\n",
    "\n",
    "Dx = 5\n",
    "Dy = 5\n",
    "Empty = 0\n",
    "White = 1\n",
    "Black = 2\n",
    "\n",
    "class Board(object):\n",
    "    def __init__(self):\n",
    "        self.h = 0\n",
    "        self.turn = White\n",
    "        self.board = np.zeros ((Dx, Dy))\n",
    "        for i in range (0, 2):\n",
    "            for j in range (0, Dy):\n",
    "                self.board [i] [j] = White\n",
    "        for i in range (Dx - 2, Dx):\n",
    "            for j in range (0, Dy):\n",
    "                self.board [i] [j] = Black\n",
    "    \n",
    "    def legalMoves(self):\n",
    "        moves = []\n",
    "        for i in range (0, Dx):\n",
    "            for j in range (0, Dy):\n",
    "                if self.board [i] [j] == self.turn:\n",
    "                    for k in [-1, 0, 1]:\n",
    "                        for l in [-1, 0, 1]:\n",
    "                            m = Move (self.turn, i, j, i + k, j + l)\n",
    "                            if m.valid (self):\n",
    "                                moves.append (m)\n",
    "        return moves\n",
    "    \n",
    "    def score (self):\n",
    "        for i in range (0, Dy):\n",
    "            if (self.board [Dx - 1] [i] == White):\n",
    "                return 1.0\n",
    "            elif (self.board [0] [i] == Black):\n",
    "                return 0.0\n",
    "        l = self.legalMoves ()\n",
    "        if len (l) == 0:\n",
    "            if self.turn == Black:\n",
    "                return 1.0\n",
    "            else:\n",
    "                return 0.0\n",
    "        return 0.5\n",
    "\n",
    "    def terminal (self):\n",
    "        if self.score () == 0.5:\n",
    "            return False\n",
    "        return True\n",
    "    \n",
    "    def play (self, move):\n",
    "        self.board [move.x1] [move.y1] = Empty\n",
    "        self.board [move.x2] [move.y2] = move.color\n",
    "        if (self.turn == White):\n",
    "            self.turn = Black\n",
    "        else:\n",
    "            self.turn = White\n",
    "\n",
    "    def playout (self):\n",
    "        while (True):\n",
    "            moves = self.legalMoves ()\n",
    "            if self.terminal ():\n",
    "                return self.score ()\n",
    "            n = random.randint (0, len (moves) - 1)\n",
    "            self.play (moves [n])\n",
    "\n",
    "    def print(self):\n",
    "        print(\"   1 2 3 4 5\")\n",
    "        for i in range(Dy):\n",
    "            print(\"{} |\".format(i + 1), end=\"\")\n",
    "            for j in range(Dx):\n",
    "                if self.board [i] [j] == Black:\n",
    "                    print(\"\\u265F\", end=\"\")\n",
    "                elif self.board [i] [j] == White:\n",
    "                    print(\"\\u2659\", end=\"\")\n",
    "                else:\n",
    "                    print(\" \", end=\"\")\n",
    "                if j < Dx:\n",
    "                    print(\"|\", end=\"\")\n",
    "\n",
    "            if i < Dy:\n",
    "                print()        \n"
   ]
  },
  {
   "cell_type": "markdown",
   "id": "931a826d",
   "metadata": {
    "id": "931a826d"
   },
   "source": [
    "# Flat Monte Carlo"
   ]
  },
  {
   "cell_type": "code",
   "execution_count": 4,
   "id": "f9882084",
   "metadata": {
    "id": "f9882084"
   },
   "outputs": [],
   "source": [
    "import copy\n",
    "def flat (board, n):\n",
    "    moves = board.legalMoves ()\n",
    "    bestScore = 0\n",
    "    bestMove = 0\n",
    "    for m in range (len(moves)):\n",
    "        sum = 0\n",
    "        for i in range (n // len (moves)):\n",
    "            b = copy.deepcopy (board)\n",
    "            b.play (moves [m])\n",
    "            r = b.playout ()\n",
    "            if board.turn == Black:\n",
    "                r = 1 - r\n",
    "            sum = sum + r\n",
    "        if sum > bestScore:\n",
    "            bestScore = sum\n",
    "            bestMove = m\n",
    "    return moves [bestMove]"
   ]
  },
  {
   "cell_type": "code",
   "execution_count": null,
   "id": "zwlQ2NB4PUAR",
   "metadata": {
    "colab": {
     "base_uri": "https://localhost:8080/",
     "height": 504
    },
    "id": "zwlQ2NB4PUAR",
    "outputId": "1cf798a1-9b03-4992-87ea-7acb7958f83a"
   },
   "outputs": [],
   "source": []
  },
  {
   "cell_type": "markdown",
   "id": "32f5d367",
   "metadata": {
    "id": "32f5d367"
   },
   "source": [
    "# UCB"
   ]
  },
  {
   "cell_type": "code",
   "execution_count": null,
   "id": "cdebeb48",
   "metadata": {
    "id": "cdebeb48"
   },
   "outputs": [],
   "source": []
  },
  {
   "cell_type": "code",
   "execution_count": null,
   "id": "icrwL5M0b__q",
   "metadata": {
    "colab": {
     "base_uri": "https://localhost:8080/",
     "height": 504
    },
    "id": "icrwL5M0b__q",
    "outputId": "b160a369-16f7-4f27-bd7c-c0f7e26619cd"
   },
   "outputs": [],
   "source": []
  },
  {
   "cell_type": "markdown",
   "id": "0614d60e",
   "metadata": {
    "id": "0614d60e"
   },
   "source": [
    "# Board class with hashcode"
   ]
  },
  {
   "cell_type": "code",
   "execution_count": 5,
   "id": "fce070db",
   "metadata": {
    "id": "fce070db"
   },
   "outputs": [],
   "source": [
    "import random\n",
    "\n",
    "Dx = 5\n",
    "Dy = 5\n",
    "Empty = 0\n",
    "White = 1\n",
    "Black = 2\n",
    "\n",
    "hashTable = []\n",
    "for k in range (3):\n",
    "    l = []\n",
    "    for i in range (Dx):\n",
    "        l1 = []\n",
    "        for j in range (Dy):\n",
    "            l1.append (random.randint (0, 2 ** 64))\n",
    "        l.append (l1)\n",
    "    hashTable.append (l)\n",
    "hashTurn = random.randint (0, 2 ** 64)\n",
    "\n",
    "class Board(object):\n",
    "    def __init__(self):\n",
    "        self.h = 0\n",
    "        self.turn = White\n",
    "        self.board = np.zeros ((Dx, Dy))\n",
    "        for i in range (0, 2):\n",
    "            for j in range (0, Dy):\n",
    "                self.board [i] [j] = White\n",
    "        for i in range (Dx - 2, Dx):\n",
    "            for j in range (0, Dy):\n",
    "                self.board [i] [j] = Black\n",
    "    \n",
    "    def legalMoves(self):\n",
    "        moves = []\n",
    "        for i in range (0, Dx):\n",
    "            for j in range (0, Dy):\n",
    "                if self.board [i] [j] == self.turn:\n",
    "                    for k in [-1, 0, 1]:\n",
    "                        for l in [-1, 0, 1]:\n",
    "                            m = Move (self.turn, i, j, i + k, j + l)\n",
    "                            if m.valid (self):\n",
    "                                moves.append (m)\n",
    "        return moves\n",
    "    \n",
    "    def score(self):\n",
    "        for i in range (0, Dy):\n",
    "            if (self.board [Dx - 1] [i] == White):\n",
    "                return 1.0\n",
    "            elif (self.board [0] [i] == Black):\n",
    "                return 0.0\n",
    "        l = self.legalMoves ()\n",
    "        if len (l) == 0:\n",
    "            if self.turn == Black:\n",
    "                return 1.0\n",
    "            else:\n",
    "                return 0.0\n",
    "        return 0.5\n",
    "\n",
    "    def terminal(self):\n",
    "        if self.score () == 0.5:\n",
    "            return False\n",
    "        return True\n",
    "    \n",
    "    def playout(self):\n",
    "        while (True):\n",
    "            moves = self.legalMoves ()\n",
    "            if self.terminal ():\n",
    "                return self.score ()\n",
    "            n = random.randint (0, len (moves) - 1)\n",
    "            self.play (moves [n])\n",
    "            \n",
    "    def play(self, move):\n",
    "        col = int (self.board [move.x2] [move.y2])\n",
    "        if col != Empty:\n",
    "            self.h = self.h ^ hashTable [col] [move.x2] [move.y2]\n",
    "        self.h = self.h ^ hashTable [move.color] [move.x2] [move.y2]\n",
    "        self.h = self.h ^ hashTable [move.color] [move.x1] [move.y1]\n",
    "        self.h = self.h ^ hashTurn\n",
    "        self.board [move.x2] [move.y2] = move.color\n",
    "        self.board [move.x1] [move.y1] = Empty\n",
    "        if (move.color == White):\n",
    "            self.turn = Black\n",
    "        else:\n",
    "            self.turn = White\n",
    "            \n",
    "    def print(self):\n",
    "        print(\"   1 2 3 4 5\")\n",
    "        for i in range(Dy):\n",
    "            print(\"{} |\".format(i + 1), end=\"\")\n",
    "            for j in range(Dx):\n",
    "                if self.board [i] [j] == Black:\n",
    "                    print(\"\\u265F\", end=\"\")\n",
    "                elif self.board [i] [j] == White:\n",
    "                    print(\"\\u2659\", end=\"\")\n",
    "                else:\n",
    "                    print(\" \", end=\"\")\n",
    "                if j < Dx:\n",
    "                    print(\"|\", end=\"\")\n",
    "\n",
    "            if i < Dy:\n",
    "                print()\n"
   ]
  },
  {
   "cell_type": "markdown",
   "id": "e8f71076",
   "metadata": {
    "id": "e8f71076"
   },
   "source": [
    "# Transposition Table"
   ]
  },
  {
   "cell_type": "code",
   "execution_count": 6,
   "id": "68e409ec",
   "metadata": {
    "id": "68e409ec"
   },
   "outputs": [],
   "source": [
    "MaxLegalMoves = 6 * Dx\n",
    "Table = {}\n",
    "\n",
    "def add (board):\n",
    "    nplayouts = [0.0 for x in range (MaxLegalMoves)]\n",
    "    nwins = [0.0 for x in range (MaxLegalMoves)]\n",
    "    Table [board.h] = [0, nplayouts, nwins]\n",
    "\n",
    "def look (board):\n",
    "    return Table.get (board.h, None)\n"
   ]
  },
  {
   "cell_type": "markdown",
   "id": "ac3799f5",
   "metadata": {
    "id": "ac3799f5"
   },
   "source": [
    "# UCT"
   ]
  },
  {
   "cell_type": "code",
   "execution_count": null,
   "id": "4f52895b",
   "metadata": {
    "id": "4f52895b"
   },
   "outputs": [],
   "source": []
  },
  {
   "cell_type": "code",
   "execution_count": null,
   "id": "MV_fSzaboF08",
   "metadata": {
    "id": "MV_fSzaboF08"
   },
   "outputs": [],
   "source": []
  },
  {
   "cell_type": "markdown",
   "id": "71d9fe12",
   "metadata": {
    "id": "71d9fe12"
   },
   "source": [
    "# Tournament between Flat, UCB and UCT"
   ]
  },
  {
   "cell_type": "code",
   "execution_count": null,
   "id": "df6c26d8",
   "metadata": {
    "id": "df6c26d8"
   },
   "outputs": [],
   "source": []
  },
  {
   "cell_type": "code",
   "execution_count": null,
   "id": "mxgrVZaUpl1L",
   "metadata": {
    "colab": {
     "base_uri": "https://localhost:8080/"
    },
    "id": "mxgrVZaUpl1L",
    "outputId": "3820bc9f-42aa-42d5-8720-d7c0bdac311f"
   },
   "outputs": [],
   "source": [
    "\n",
    " "
   ]
  }
 ],
 "metadata": {
  "colab": {
   "provenance": []
  },
  "kernelspec": {
   "display_name": "Python 3 (ipykernel)",
   "language": "python",
   "name": "python3"
  },
  "language_info": {
   "codemirror_mode": {
    "name": "ipython",
    "version": 3
   },
   "file_extension": ".py",
   "mimetype": "text/x-python",
   "name": "python",
   "nbconvert_exporter": "python",
   "pygments_lexer": "ipython3",
   "version": "3.10.6"
  }
 },
 "nbformat": 4,
 "nbformat_minor": 5
}
