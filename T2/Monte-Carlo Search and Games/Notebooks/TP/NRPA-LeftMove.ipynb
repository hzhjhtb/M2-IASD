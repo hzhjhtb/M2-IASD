{
 "cells": [
  {
   "cell_type": "markdown",
   "id": "496b9ce7",
   "metadata": {},
   "source": [
    "# NRPA for LeftMove"
   ]
  },
  {
   "cell_type": "code",
   "execution_count": 5,
   "id": "41045c56",
   "metadata": {},
   "outputs": [],
   "source": [
    "import numpy as np\n",
    "import random\n",
    "import math\n",
    "import copy"
   ]
  },
  {
   "cell_type": "code",
   "execution_count": 6,
   "id": "8736afc1",
   "metadata": {},
   "outputs": [],
   "source": [
    "def score (state):\n",
    "    sum = 0\n",
    "    for i in range (len (state)):\n",
    "        sum += state [i]\n",
    "    return sum\n",
    "def play (state, move):\n",
    "    state.append (move)\n",
    "def legalMoves (state):\n",
    "    return [0,1]\n",
    "def terminal (state):\n",
    "    return len(state) >= 60\n",
    "def sequence (state):\n",
    "    return state\n",
    "def code (state, m):\n",
    "    return 2 * len (state) + m\n"
   ]
  },
  {
   "cell_type": "code",
   "execution_count": 7,
   "id": "01450f72",
   "metadata": {},
   "outputs": [],
   "source": [
    "def randomMove (state, policy):\n",
    "    moves = legalMoves (state)\n",
    "    sum = 0.0\n",
    "    for m in moves:\n",
    "        if policy.get (code(state,m)) == None:\n",
    "            policy [code(state,m)] = 0.0\n",
    "        sum = sum + math.exp (policy [code(state,m)])\n",
    "    stop = random.random () * sum\n",
    "    sum = 0.0\n",
    "    for m in moves:\n",
    "        sum = sum + math.exp (policy [code(state,m)])\n",
    "        if (sum >= stop):\n",
    "            return m\n",
    "        \n",
    "def playout (state, policy):\n",
    "    while not terminal (state):\n",
    "        move = randomMove (state, policy)\n",
    "        play (state, move)\n",
    "    return score (state),sequence(state)\n",
    "\n",
    "def adapt (policy, sequence):\n",
    "    s = []\n",
    "    polp = copy.deepcopy (policy)\n",
    "    for best in sequence:\n",
    "        moves = legalMoves (s)\n",
    "        sum = 0.0\n",
    "        for m in moves:\n",
    "            if policy.get (code(s,m)) == None:\n",
    "                policy [code(s,m)] = 0.0\n",
    "            sum = sum + math.exp (policy [code(s,m)])\n",
    "        for m in moves:\n",
    "            if polp.get (code(s,m)) == None:\n",
    "                polp [code(s,m)] = 0.0\n",
    "            polp [code(s,m)] -= math.exp (policy [code(s,m)]) / sum\n",
    "        polp [code(s,best)] += 1.0\n",
    "        play (s, best)\n",
    "    return polp\n",
    "\n",
    "def NRPA (level, policy):\n",
    "    if level == 0:\n",
    "        return playout ([], policy)\n",
    "    best = -np.inf\n",
    "    seq = []\n",
    "    for i in range (100):\n",
    "        pol = copy.deepcopy (policy)\n",
    "        sc, s = NRPA (level - 1, pol)\n",
    "        if sc > best:\n",
    "            best = sc\n",
    "            seq = s\n",
    "        policy = adapt (policy, seq)\n",
    "    return best, seq\n"
   ]
  },
  {
   "cell_type": "code",
   "execution_count": 8,
   "id": "a4bd38bd",
   "metadata": {},
   "outputs": [
    {
     "name": "stdout",
     "output_type": "stream",
     "text": [
      "28 [0, 0, 0, 1, 0, 1, 0, 0, 0, 0, 0, 1, 1, 1, 1, 0, 1, 0, 1, 0, 0, 0, 1, 0, 0, 0, 1, 1, 0, 1, 0, 1, 0, 0, 0, 0, 1, 1, 1, 1, 0, 0, 1, 0, 0, 1, 1, 1, 0, 0, 1, 1, 1, 0, 1, 1, 0, 1, 1, 0]\n",
      "48 [1, 1, 1, 1, 1, 1, 1, 1, 1, 0, 1, 1, 1, 1, 1, 0, 0, 0, 1, 1, 1, 1, 1, 0, 1, 0, 1, 1, 1, 1, 1, 1, 1, 1, 1, 1, 1, 0, 1, 1, 1, 1, 0, 1, 1, 1, 1, 1, 0, 1, 0, 1, 1, 0, 1, 1, 0, 1, 1, 1]\n",
      "60 [1, 1, 1, 1, 1, 1, 1, 1, 1, 1, 1, 1, 1, 1, 1, 1, 1, 1, 1, 1, 1, 1, 1, 1, 1, 1, 1, 1, 1, 1, 1, 1, 1, 1, 1, 1, 1, 1, 1, 1, 1, 1, 1, 1, 1, 1, 1, 1, 1, 1, 1, 1, 1, 1, 1, 1, 1, 1, 1, 1]\n"
     ]
    }
   ],
   "source": [
    "sc,s = NRPA (0, {})\n",
    "print (sc, s)\n",
    "sc,s = NRPA (1, {})\n",
    "print (sc, s)\n",
    "sc,s = NRPA (2, {})\n",
    "print (sc, s)\n"
   ]
  }
 ],
 "metadata": {
  "kernelspec": {
   "display_name": "Python 3 (ipykernel)",
   "language": "python",
   "name": "python3"
  },
  "language_info": {
   "codemirror_mode": {
    "name": "ipython",
    "version": 3
   },
   "file_extension": ".py",
   "mimetype": "text/x-python",
   "name": "python",
   "nbconvert_exporter": "python",
   "pygments_lexer": "ipython3",
   "version": "3.10.6"
  }
 },
 "nbformat": 4,
 "nbformat_minor": 5
}
