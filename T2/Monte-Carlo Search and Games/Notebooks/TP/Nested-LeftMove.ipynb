{
 "cells": [
  {
   "cell_type": "markdown",
   "id": "72654de1",
   "metadata": {},
   "source": [
    "# Nested for LeftMove"
   ]
  },
  {
   "cell_type": "code",
   "execution_count": 1,
   "id": "41045c56",
   "metadata": {},
   "outputs": [],
   "source": [
    "import numpy as np\n",
    "import random\n",
    "import math\n",
    "import copy"
   ]
  },
  {
   "cell_type": "code",
   "execution_count": 2,
   "id": "8736afc1",
   "metadata": {},
   "outputs": [],
   "source": [
    "def score (state):\n",
    "    sum = 0\n",
    "    for i in range (len (state)):\n",
    "        sum += state [i]\n",
    "    return sum\n",
    "def play (state, move):\n",
    "    state.append (move)\n",
    "    return state\n",
    "def legalMoves (state):\n",
    "    return [0,1]\n",
    "def terminal (state):\n",
    "    return len(state) >= 60"
   ]
  },
  {
   "cell_type": "code",
   "execution_count": 3,
   "id": "01450f72",
   "metadata": {},
   "outputs": [],
   "source": [
    "def playout (state):\n",
    "    while not terminal (state):\n",
    "        moves = legalMoves (state)\n",
    "        move = moves [int(random.random () * len (moves))]\n",
    "        state = play (state, move)\n",
    "    return state\n",
    "\n",
    "def nested (state, n):\n",
    "    if (n == 0):\n",
    "       return playout (state)\n",
    "    bestSequence = []\n",
    "    while not terminal (state):\n",
    "        moves = legalMoves (state)\n",
    "        for m in moves:\n",
    "            s1 = copy.deepcopy (state)\n",
    "            s1 = play (s1, m)\n",
    "            s1 = nested (s1, n - 1)\n",
    "            if score (s1) >= score (bestSequence):\n",
    "                bestSequence = s1\n",
    "        state = play (state, bestSequence [len (state)])\n",
    "    return state"
   ]
  },
  {
   "cell_type": "code",
   "execution_count": 4,
   "id": "a4bd38bd",
   "metadata": {},
   "outputs": [
    {
     "name": "stdout",
     "output_type": "stream",
     "text": [
      "playout:  37 [1, 1, 0, 0, 1, 0, 1, 1, 1, 1, 1, 0, 0, 1, 1, 1, 0, 0, 1, 0, 1, 1, 0, 1, 1, 1, 1, 1, 1, 0, 0, 1, 0, 1, 0, 0, 1, 1, 1, 1, 1, 0, 1, 1, 1, 0, 1, 1, 1, 1, 0, 0, 0, 0, 1, 1, 0, 1, 0, 0]\n",
      "Nested level 1:  40 [1, 1, 0, 0, 1, 0, 1, 0, 0, 1, 1, 0, 1, 0, 0, 1, 0, 1, 0, 0, 1, 0, 0, 0, 1, 1, 0, 1, 1, 1, 1, 1, 1, 1, 1, 1, 0, 1, 1, 1, 1, 0, 0, 1, 0, 1, 1, 1, 1, 1, 1, 1, 1, 0, 1, 1, 1, 1, 1, 1]\n",
      "Nested level 2: 52 [1, 0, 1, 1, 1, 1, 0, 1, 1, 1, 1, 1, 0, 1, 1, 1, 1, 1, 1, 0, 1, 1, 1, 1, 1, 1, 1, 1, 1, 1, 1, 1, 0, 1, 0, 0, 1, 1, 1, 0, 1, 1, 1, 1, 1, 1, 1, 1, 1, 1, 1, 1, 1, 1, 1, 1, 1, 1, 1, 1]\n"
     ]
    }
   ],
   "source": [
    "s = playout ([])\n",
    "print ('playout: ',score (s), s)\n",
    "s = nested ([], 1)\n",
    "print ('Nested level 1: ', score (s), s)\n",
    "s = nested ([], 2)\n",
    "print ('Nested level 2:', score (s), s)\n"
   ]
  },
  {
   "cell_type": "code",
   "execution_count": null,
   "id": "93ba6e98",
   "metadata": {},
   "outputs": [],
   "source": []
  }
 ],
 "metadata": {
  "kernelspec": {
   "display_name": "Python 3 (ipykernel)",
   "language": "python",
   "name": "python3"
  },
  "language_info": {
   "codemirror_mode": {
    "name": "ipython",
    "version": 3
   },
   "file_extension": ".py",
   "mimetype": "text/x-python",
   "name": "python",
   "nbconvert_exporter": "python",
   "pygments_lexer": "ipython3",
   "version": "3.10.12"
  }
 },
 "nbformat": 4,
 "nbformat_minor": 5
}
