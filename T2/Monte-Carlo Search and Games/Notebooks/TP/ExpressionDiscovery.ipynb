{
 "cells": [
  {
   "cell_type": "markdown",
   "id": "1e13ae29",
   "metadata": {},
   "source": [
    "# Nested for Expression Discovery"
   ]
  },
  {
   "cell_type": "code",
   "execution_count": 1,
   "id": "41045c56",
   "metadata": {},
   "outputs": [],
   "source": [
    "import numpy as np\n",
    "import random\n",
    "import math\n",
    "import copy"
   ]
  },
  {
   "cell_type": "code",
   "execution_count": 2,
   "id": "8736afc1",
   "metadata": {},
   "outputs": [],
   "source": [
    "atoms = [1, 2, 3, '+', '-']\n",
    "children = [0, 0, 0, 2, 2]\n",
    "MaxLength = 11\n",
    "\n",
    "def legalMoves (state, leaves):\n",
    "    l = []\n",
    "    for a in range (len (atoms)):\n",
    "        if len (state) + leaves + children [a] <= MaxLength:\n",
    "            l.append (a)\n",
    "    return l\n",
    "\n",
    "def play (state, move, leaves):\n",
    "    state.append (move)\n",
    "    return [state, leaves - 1 + children [move]]\n",
    "\n",
    "def terminal (state, leaves):\n",
    "    return leaves == 0\n",
    "\n",
    "def score (state, i):\n",
    "    if children [state [i]] == 0:\n",
    "        return [atoms [state [i]], i + 1]\n",
    "    if children [state [i]] == 2:\n",
    "        a = atoms [state [i]]\n",
    "        [s1,i] = score (state, i + 1)\n",
    "        [s2,i] = score (state, i)\n",
    "        if a == '+':\n",
    "            return [s1 + s2, i]\n",
    "        if a == '-':\n",
    "            return [s1 - s2, i]\n"
   ]
  },
  {
   "cell_type": "code",
   "execution_count": 3,
   "id": "01450f72",
   "metadata": {},
   "outputs": [],
   "source": [
    "def playout (state, leaves):\n",
    "    while not terminal (state, leaves):\n",
    "        moves = legalMoves (state, leaves)\n",
    "        move = moves [int(random.random () * len (moves))]\n",
    "        [state, leaves] = play (state, move, leaves)\n",
    "    return state\n",
    "\n",
    "def nested (state, leaves, n):\n",
    "    bestSequence = []\n",
    "    bestScore = -10e9\n",
    "    while not terminal (state, leaves):\n",
    "        moves = legalMoves (state, leaves)\n",
    "        for m in moves:\n",
    "            s1 = copy.deepcopy (state)\n",
    "            [s1, leaves1] = play (s1, m, leaves)\n",
    "            if (n == 1):\n",
    "                s1 = playout (s1, leaves1)\n",
    "            else:\n",
    "                s1 = nested (s1, leaves1, n - 1)\n",
    "            [score1, i] = score (s1, 0)\n",
    "            if score1 > bestScore:\n",
    "                bestScore = score1\n",
    "                bestSequence = s1\n",
    "        [state, leaves] = play (state, bestSequence [len (state)], leaves)\n",
    "    return state"
   ]
  },
  {
   "cell_type": "code",
   "execution_count": 4,
   "id": "a4bd38bd",
   "metadata": {},
   "outputs": [
    {
     "name": "stdout",
     "output_type": "stream",
     "text": [
      "2 \n",
      "2\n",
      "- 2 2 \n",
      "0\n",
      "2 \n",
      "2\n",
      "3 \n",
      "3\n",
      "- + 3 + 2 + 3 - 2 3 1 \n",
      "6\n",
      "2 \n",
      "2\n",
      "+ 2 3 \n",
      "5\n",
      "2 \n",
      "2\n",
      "3 \n",
      "3\n",
      "1 \n",
      "1\n",
      "+ + 3 + + + 3 3 3 3 3 \n",
      "18\n",
      "+ + + 3 + + 3 3 3 3 3 \n",
      "18\n",
      "+ 3 + 3 + + + 3 3 3 3 \n",
      "18\n",
      "+ 3 + + 3 3 + 3 + 3 3 \n",
      "18\n",
      "+ + 3 + 2 + 3 3 + 3 3 \n",
      "17\n",
      "- + 3 + 3 3 - 1 + 3 3 \n",
      "14\n",
      "+ 3 + 3 + + + 3 3 3 3 \n",
      "18\n",
      "+ + 3 + + 3 3 + 3 3 3 \n",
      "18\n",
      "- + 3 3 - 1 + 3 + 3 3 \n",
      "14\n",
      "+ + 1 + 3 3 + 3 + 3 3 \n",
      "16\n"
     ]
    }
   ],
   "source": [
    "import sys\n",
    "\n",
    "def printExpression (state):\n",
    "    for i in state:\n",
    "        sys.stdout.write (str (atoms [i]) + ' ')\n",
    "    sys.stdout.write ('\\n')\n",
    "    \n",
    "def test ():\n",
    "    for i in range (10):\n",
    "        s = playout ([], 1)\n",
    "        printExpression (s)\n",
    "        print (score (s, 0) [0])\n",
    "    for i in range (10):\n",
    "        s = nested ([], 1, 2)\n",
    "        printExpression (s)\n",
    "        print (score (s, 0) [0])\n",
    "\n",
    "test ()"
   ]
  },
  {
   "cell_type": "code",
   "execution_count": null,
   "id": "93ba6e98",
   "metadata": {},
   "outputs": [],
   "source": []
  }
 ],
 "metadata": {
  "kernelspec": {
   "display_name": "Python 3 (ipykernel)",
   "language": "python",
   "name": "python3"
  },
  "language_info": {
   "codemirror_mode": {
    "name": "ipython",
    "version": 3
   },
   "file_extension": ".py",
   "mimetype": "text/x-python",
   "name": "python",
   "nbconvert_exporter": "python",
   "pygments_lexer": "ipython3",
   "version": "3.10.12"
  }
 },
 "nbformat": 4,
 "nbformat_minor": 5
}
