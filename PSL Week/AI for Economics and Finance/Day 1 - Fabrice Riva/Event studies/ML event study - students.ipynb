{
 "cells": [
  {
   "cell_type": "markdown",
   "metadata": {},
   "source": [
    "# 1. Imports"
   ]
  },
  {
   "cell_type": "code",
   "execution_count": null,
   "metadata": {},
   "outputs": [],
   "source": [
    "import numpy as np, pandas as pd\n",
    "import matplotlib.pyplot as plt\n",
    "import seaborn as sns"
   ]
  },
  {
   "cell_type": "code",
   "execution_count": null,
   "metadata": {},
   "outputs": [],
   "source": [
    "df = pd.read_csv(\"data_final.csv\")\n",
    "df.head()"
   ]
  },
  {
   "cell_type": "markdown",
   "metadata": {},
   "source": [
    "# 2. Features correlation matrix"
   ]
  },
  {
   "cell_type": "code",
   "execution_count": null,
   "metadata": {},
   "outputs": [],
   "source": [
    "corr_mat = df.corr()"
   ]
  },
  {
   "cell_type": "code",
   "execution_count": null,
   "metadata": {},
   "outputs": [],
   "source": [
    "plt.rcParams[\"figure.figsize\"] = (10, 8)\n",
    "corr_mat = df.corr()\n",
    "sns.heatmap(corr_mat, annot=False, cmap='coolwarm', linewidths=.5)"
   ]
  },
  {
   "cell_type": "markdown",
   "metadata": {},
   "source": [
    "# 3. Standard linear models"
   ]
  },
  {
   "cell_type": "markdown",
   "metadata": {},
   "source": [
    "## 3.1. Features and model names"
   ]
  },
  {
   "cell_type": "code",
   "execution_count": null,
   "metadata": {},
   "outputs": [],
   "source": [
    "features = [['vwretd'], ['vwretd', 'RET_peers'], ['vwretd','RET_neigh'],\n",
    "           ['vwretd', 'SMB','HML'],\n",
    "           ['vwretd','SMB','HML','RMW','CMA']\n",
    "           ]\n",
    "\n",
    "names_linear = ['MM', 'MMP', 'MMN', 'MMFF3', 'MMFF5']"
   ]
  },
  {
   "cell_type": "markdown",
   "metadata": {},
   "source": [
    "## 3.2. Model training"
   ]
  },
  {
   "cell_type": "code",
   "execution_count": null,
   "metadata": {},
   "outputs": [],
   "source": [
    "PERMNO_list = pd.unique(df['PERMNO'])\n",
    "\n",
    "output = np.empty((len(df), len(names_linear))) # for storage of ARs\n",
    "\n",
    "from sklearn.linear_model import LinearRegression\n",
    "LinearModel = LinearRegression(fit_intercept=True)\n",
    "\n",
    "for model in # iterate over features sets\n",
    "    \n",
    "    ARs_linear = list() # for storage of current model's AR over all stocks\n",
    "    \n",
    "    for i in # iterate over all stocks\n",
    "        \n",
    "        cur_PERMNO = # current stock's PERMNO\n",
    "        cur_PERMNO_data = # select current stock's data\n",
    "            \n",
    "        feat = # current features set\n",
    "    \n",
    "        X, y  = # current features, # current labels. y must be a column vector => reshape X and y accordingly\n",
    "        X_train, y_train = # train features, # train labels\n",
    "\n",
    "        estimModel = # fit regression\n",
    "        stock_ARs = # compute abnormal returns for current stock on all dates (estimation window + event date)\n",
    "\n",
    "        ARs_linear.extend(stock_ARs)\n",
    "\n",
    "    output[# store ARs for current model in output array\n",
    "\n",
    "ARs_linear = # create pandas dataframe from ouput matrix. Column headers correspond to model names \n",
    "df = # concatenate ARs_linear with dataframe df"
   ]
  },
  {
   "cell_type": "markdown",
   "metadata": {},
   "source": [
    "## 3.2. Abnormal returns"
   ]
  },
  {
   "cell_type": "code",
   "execution_count": null,
   "metadata": {},
   "outputs": [],
   "source": [
    "AR_estim = # ARs on estimation period for all linear models\n",
    "AR_estim.head()"
   ]
  },
  {
   "cell_type": "code",
   "execution_count": null,
   "metadata": {},
   "outputs": [],
   "source": [
    "plt.rcParams[\"figure.figsize\"] = (9, 5) \n",
    "plt.boxplot(AR_estim.values, labels = AR_estim.columns, showmeans=True)\n",
    "plt.show()"
   ]
  },
  {
   "cell_type": "code",
   "execution_count": null,
   "metadata": {},
   "outputs": [],
   "source": [
    "AR_event = # ARs on event date for all models"
   ]
  },
  {
   "cell_type": "code",
   "execution_count": null,
   "metadata": {},
   "outputs": [],
   "source": [
    "AR_event.head()"
   ]
  },
  {
   "cell_type": "code",
   "execution_count": null,
   "metadata": {},
   "outputs": [],
   "source": [
    "plt.rcParams[\"figure.figsize\"] = (9, 5) \n",
    "plt.boxplot(AR_event.values, labels = AR_event.columns, showmeans=True)\n",
    "plt.show()"
   ]
  },
  {
   "cell_type": "markdown",
   "metadata": {},
   "source": [
    "## 4. Alternative models"
   ]
  },
  {
   "cell_type": "markdown",
   "metadata": {},
   "source": [
    "## 4.1. Model definitions"
   ]
  },
  {
   "cell_type": "code",
   "execution_count": null,
   "metadata": {},
   "outputs": [],
   "source": [
    "def get_models():\n",
    "    models, names = list(), list()\n",
    "    # Ridge\n",
    "    models.append(RidgeCV())\n",
    "    names.append('Ridge')\n",
    "    \n",
    "    # Lasso\n",
    "    models.append(LassoCV())\n",
    "    names.append('Lasso')\n",
    "    \n",
    "    # ElasticNet\n",
    "    models.append(ElasticNetCV())\n",
    "    names.append('ElasticNet')    \n",
    "    \n",
    "    # DT\n",
    "    models.append(DecisionTreeRegressor(max_depth=5, min_samples_split=0.4))\n",
    "    names.append('DT')\n",
    "    \n",
    "    # RF\n",
    "    models.append(RandomForestRegressor(max_depth=5, min_samples_split=0.4))\n",
    "    names.append('RandForest')\n",
    "    \n",
    "    return models, names"
   ]
  },
  {
   "cell_type": "markdown",
   "metadata": {},
   "source": [
    "## 4.2. Model training"
   ]
  },
  {
   "cell_type": "code",
   "execution_count": null,
   "metadata": {},
   "outputs": [],
   "source": [
    "from sklearn.linear_model import RidgeCV\n",
    "from sklearn.linear_model import LassoCV\n",
    "from sklearn.linear_model import ElasticNetCV\n",
    "\n",
    "from sklearn.tree import DecisionTreeRegressor\n",
    "from sklearn.ensemble import RandomForestRegressor\n",
    "\n",
    "\n",
    "models, names = get_models()\n",
    "\n",
    "output = np.empty((len(df), len(models))) # for storage of ARs\n",
    "\n",
    "features = # list of features \n",
    "   \n",
    "for model in range(len(models)):\n",
    "    \n",
    "    ARs_model = list()\n",
    "\n",
    "    for stock in range(len(PERMNO_list)):\n",
    "\n",
    "        cur_PERMNO = PERMNO_list[stock]\n",
    "        cur_PERMNO_data = df[df['PERMNO']==cur_PERMNO]\n",
    "\n",
    "        X, y  = # features, # labels\n",
    "        X_train, y_train = # train features, # train labels \n",
    "\n",
    "        estimModel = # fit model\n",
    "        ARs = # compute stock's ARs (estimation window + event date)\n",
    "\n",
    "        ARs_model = ARs_model + ARs\n",
    "\n",
    "    output[# store ARs for current model in output array\n",
    "\n",
    "ARs_altModels = # create pandas dataframe from ouput matrix. Column headers correspond to model names \n",
    "df_all = # concatenate ARs_altModels with dataframe df"
   ]
  },
  {
   "cell_type": "code",
   "execution_count": null,
   "metadata": {},
   "outputs": [],
   "source": [
    "df_all.head()"
   ]
  },
  {
   "cell_type": "code",
   "execution_count": null,
   "metadata": {},
   "outputs": [],
   "source": [
    "model_names_all = names_linear + names"
   ]
  },
  {
   "cell_type": "markdown",
   "metadata": {},
   "source": [
    "## 4.3. Abnormal returns (standard + alternative models)"
   ]
  },
  {
   "cell_type": "code",
   "execution_count": null,
   "metadata": {},
   "outputs": [],
   "source": [
    "ARs_estim = # estimation window ARs for all  models (linear + alternative models)\n",
    "plt.rcParams[\"figure.figsize\"] = (9, 5) \n",
    "plt.boxplot(ARs_estim.values, labels=model_names_all, showmeans=True)\n",
    "plt.show()"
   ]
  },
  {
   "cell_type": "code",
   "execution_count": null,
   "metadata": {},
   "outputs": [],
   "source": [
    "AR0s = # event date ARs for all  models (linear + alternative models)"
   ]
  },
  {
   "cell_type": "code",
   "execution_count": null,
   "metadata": {},
   "outputs": [],
   "source": [
    "plt.rcParams[\"figure.figsize\"] = (9, 5) \n",
    "plt.boxplot(AR0s.values, labels=model_names_all, showmeans=True)\n",
    "plt.show()"
   ]
  },
  {
   "cell_type": "code",
   "execution_count": null,
   "metadata": {},
   "outputs": [],
   "source": [
    "ARs_estim = # ARs on estimation window for all models. Select column PERMNO + volumns of the ARs for all models (liner + alternative)\n",
    "RMSEs_estim = # compute estimation window RMSE by PERMNO\n",
    "RMSEs_estim.head()"
   ]
  },
  {
   "cell_type": "code",
   "execution_count": null,
   "metadata": {},
   "outputs": [],
   "source": [
    "ARs_test = # ARs on event window for all models. Select columns PERMNO + those of the ARs of all models (liner + alternative)\n",
    "ARs_test.head()"
   ]
  },
  {
   "cell_type": "markdown",
   "metadata": {},
   "source": [
    "## 4.4. Model evaluation"
   ]
  },
  {
   "cell_type": "markdown",
   "metadata": {},
   "source": [
    "- For each model a x% abnormal return is created by adding x% shock to the date 0 actual return.\n",
    "- Shock values are: -0.1, -0.05, -0.02, -0.01, 0, 0.01, 0.02, 0.05, 0.1\n",
    "- Shock value 0 aims at testing the specification of the various models (Type 1 error)\n",
    "- Other shock values aim at testing the power of the various models (Type 2 error)\n",
    "\n",
    "The null hypothesis $AR^{(m)}_{i,0}=0$ is rejected for stock $i$ and model $(m)$ if $\\frac{AR^{(m)}_{i,0}}{RMSE_i^{(m)}}>z_{\\alpha}$"
   ]
  },
  {
   "cell_type": "code",
   "execution_count": null,
   "metadata": {},
   "outputs": [],
   "source": [
    "shocks = # list of shock values\n",
    "from scipy.stats import norm\n",
    "alpha = norm.ppf(0.975) # 5% level"
   ]
  },
  {
   "cell_type": "code",
   "execution_count": null,
   "metadata": {},
   "outputs": [],
   "source": [
    "rejection_rates = # empty matrix:  number of rows = number of thresholds / number of columns = number of models"
   ]
  },
  {
   "cell_type": "code",
   "execution_count": null,
   "metadata": {},
   "outputs": [],
   "source": [
    "for th in range(len(thresholds)):\n",
    "    z_score = # compute z score\n",
    "    T_spec = # count number of rejections\n",
    "    freq_reject = # compute rejection frequency\n",
    "    reject_rates[th,] = freq_reject"
   ]
  },
  {
   "cell_type": "code",
   "execution_count": null,
   "metadata": {},
   "outputs": [],
   "source": [
    "res = pd.DataFrame(reject_rates, columns=model_names_all)\n",
    "res.index = thresholds\n",
    "res"
   ]
  },
  {
   "cell_type": "markdown",
   "metadata": {},
   "source": [
    "## 4.5. Confidence interval for rejection rate"
   ]
  },
  {
   "cell_type": "markdown",
   "metadata": {},
   "source": [
    "Wald confidence interval for a binomial proportion ($p$):\n",
    "$$\n",
    "p \\pm z \\times \\sqrt{\\frac{p(1-p)}{n}}\n",
    "$$\n",
    "where $z$ is the confidence level (1.96 for a 95% confidence interval)."
   ]
  },
  {
   "cell_type": "code",
   "execution_count": null,
   "metadata": {},
   "outputs": [],
   "source": [
    "import math\n",
    "\n",
    "# Sample data\n",
    "number_rejections = int(5/100*256)+1 \n",
    "total_trials = 256\n",
    "\n",
    "# Sample proportion\n",
    "p = number_rejections / total_trials\n",
    "\n",
    "confidence_level = 0.95\n",
    "\n",
    "# Z score based on confidence level\n",
    "Z = norm.ppf((1 + confidence_level) / 2)\n",
    "\n",
    "# Standard error\n",
    "standard_error = math.sqrt((p * (1 - p)) / total_trials)\n",
    "\n",
    "# Margin of error\n",
    "margin_of_error = Z * standard_error\n",
    "\n",
    "# Confidence interval\n",
    "lower_limit = round((p - margin_of_error)*100,1)\n",
    "upper_limit = round((p + margin_of_error)*100,1)\n",
    "\n",
    "print(f\"Sample Proportion: {p_hat}\")\n",
    "print(f\"Confidence Interval: [{lower_limit}, {upper_limit}]\")"
   ]
  }
 ],
 "metadata": {
  "kernelspec": {
   "display_name": "Python 3",
   "language": "python",
   "name": "python3"
  },
  "language_info": {
   "codemirror_mode": {
    "name": "ipython",
    "version": 3
   },
   "file_extension": ".py",
   "mimetype": "text/x-python",
   "name": "python",
   "nbconvert_exporter": "python",
   "pygments_lexer": "ipython3",
   "version": "3.8.5"
  }
 },
 "nbformat": 4,
 "nbformat_minor": 2
}
